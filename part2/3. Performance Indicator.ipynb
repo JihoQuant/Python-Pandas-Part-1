{
 "cells": [
  {
   "cell_type": "markdown",
   "metadata": {},
   "source": [
    "# 1. Annualized Return & STD\n",
    "\n",
    "- Annualize 목적?\n",
    "- N days total return이 주어지거나 average daily return이 주어진 경우, K days expected return 구하기"
   ]
  },
  {
   "cell_type": "markdown",
   "metadata": {},
   "source": [
    "## 1.1. Using Simple Return\n",
    "\n",
    "#### Reminder\n",
    "\n",
    "$$\n",
    "\\begin{aligned}\n",
    "p_1(1+x)^n&=p_{n+1}\n",
    "\\\\\n",
    "\\\\\n",
    "(1+x)^n&={{p_{n+1}}\\over{p_1}}\n",
    "\\\\\n",
    "\\\\\n",
    "1+x&=({{p_{n+1}}\\over{p_1}})^{{1}\\over{n}}\n",
    "\\\\\n",
    "\\\\\n",
    "x&=({{p_{n+1}}\\over{p_1}})^{{1}\\over{n}}-1\n",
    "\\end{aligned}\n",
    "$$\n",
    "\n",
    "#### Example 4: Daily Returns\n",
    "\n",
    "> Let's say we have 0.1% daily returns. Since there are 365 days in a year, the annual returns will be:\n",
    "$$\n",
    "Annual Returns = (1 + 0.001)^{365} - 1 = 44.02 (\\%)\n",
    "$$\n",
    "\n",
    "#### Example 5: 100 Days Returns\n",
    "\n",
    "> Let's say we have 6% returns over 100 days. The annual returns will be:\n",
    "$$\n",
    "Annual Returns = (1 + 0.06)^{{365}\\over{100}} - 1 = 23.69 (\\%)\n",
    "$$\n",
    "\n",
    "결국 위에서 구한 $x (= ({{{p}_{n+1}}\\over{p_1}})^{{1}\\over{n}} - 1)$에 +1 해주고 K days 만큼 제곱한 후\n",
    "다시 -1을 해서 K days expected return을 구한다.\n",
    "$0.001 * 365(or 252)$와 같은 산술연산으로는 올바른 결과 도출이 불가능하다. "
   ]
  },
  {
   "cell_type": "markdown",
   "metadata": {},
   "source": [
    "## 1.2. Using Log Return\n",
    "\n",
    "#### Reminder\n",
    "\n",
    "> \"Log return을 사용하면, '산술평균'으로 n day 수익(or 평균수익)을 계산할 수 있다보니, 통계적 특징들을 잘 이용할 수 있음\"\n",
    "\n",
    "##### N days average log return\n",
    "\n",
    "1. n-day **total** log return 구하기\n",
    "\n",
    "$$\n",
    "log({p_2 \\over p_1}) + log({p_3 \\over p_2}) + \\dots + log({p_{n+1} \\over p_{n}})\n",
    "= log({p_{n + 1} \\over p_{1}})\n",
    "$$\n",
    "\n",
    "2. n-day **average** log return 구하기(On average (= $E(X)$))\n",
    "\n",
    "$$\n",
    "{1 \\over n}[log({p_2 \\over p_1}) + log({p_3 \\over p_2}) + \\dots + log({p_{n+1} \\over p_{n}})]\n",
    "= {1 \\over n}log({p_{n + 1} \\over p_{1}})\n",
    "$$\n",
    "$$\n",
    "\\text{👉 Log Return 자체를 또 다른 하나의 개념으로 받아들이기}\n",
    "$$\n",
    "\n",
    "이를 이용해서 실제 real return을 구하고 싶다면\n",
    "- exponential\n",
    "  $$\n",
    "  e^{{1 \\over n}log({p_{n + 1} \\over p_{1}})} = ({p_{n + 1} \\over p_{1}})^{1 \\over n}\n",
    "  $$\n",
    "- take $-1$\n",
    "  $$\n",
    "  ({p_{n + 1} \\over p_{1}})^{1 \\over n} - 1\n",
    "  $$"
   ]
  },
  {
   "cell_type": "markdown",
   "metadata": {},
   "source": [
    "### 1.2.1. 확률/통계적 접근"
   ]
  },
  {
   "cell_type": "markdown",
   "metadata": {},
   "source": [
    "- 선형변환 vs 독립시행\n",
    "  - $$\n",
    "    \\begin{aligned}\n",
    "    X_n &= \\log({{p_n} \\over {p_{n-1}}}) \\\\\n",
    "    X_1 &= \\log({p_1 \\over p_0}) \\\\\n",
    "    X_2 &= \\log({p_2 \\over p_1}) \\\\\n",
    "    &\\dots \\\\\n",
    "    \\end{aligned} \\\\\n",
    "    \\text{Independent Assumption}\n",
    "    $$\n",
    "  - $$\n",
    "    \\begin{aligned}\n",
    "    \\begin{cases}\n",
    "    Y = 250X &\\text{→ } E(250X)\\\\\n",
    "    Y = X_1 + X_2 + \\dots + X_{250} &\\text{→ } E(X_1 + X_2 + \\dots + X_{250})\n",
    "    \\end{cases}\n",
    "    \\end{aligned}\n",
    "    $$\n",
    "- $$\n",
    "  E(X+Y) = E(X) + E(Y) \\scriptsize\\text{ → (랜덤)변수간 독립성과 상관없이 무조건 성립}\\normalsize\\\\\n",
    "  E(X_1 + X_2 + .. + X_n) = E(X_1) + E(X_2) +  \\dots + E(X_n) = nE(X)\n",
    "  $$\n",
    "- $Var(X+Y) = ?$\n",
    "  - $$\n",
    "    Var(X)\n",
    "    \\begin{aligned}\n",
    "      E[(X - \\mu_x)^2] &= E[(X - \\mu_x)(X - \\mu_x)] \\\\\n",
    "      &= E[X^2 + -2X{\\mu}_x + {{\\mu}_x}^2] \\\\\n",
    "      &= E[X^2] - 2{\\mu}_xE[X] + {{\\mu}_x}^2 \\\\\n",
    "      &= E[X^2] - 2{{\\mu}_x}^2 + {{\\mu}_x}^2 \\\\\n",
    "      &= E[X^2] - {{\\mu}_x}^2 \\\\\n",
    "    \\end{aligned}\n",
    "    $$\n",
    "  - $$\n",
    "    Var(X+Y)\n",
    "    \\scriptsize\\\\\n",
    "    \\text{ if X, Y are not indenpendent }\\normalsize \\\\\n",
    "    \\begin{aligned}\n",
    "    E[[(X + Y) - (\\mu_x + \\mu_y)]^2]\n",
    "    &= E[[(X - \\mu_x) + (Y - \\mu_y)]^2] \\\\\n",
    "    &= E[(X - \\mu_x)^2 + (Y - \\mu_y)^2 + 2(X - \\mu_x)(Y - \\mu_y)] \\\\\n",
    "    &= E[(X - \\mu_x)^2] + E[(Y - \\mu_y)^2] + 2E[(X - \\mu_x)(Y - \\mu_y)] \\\\\n",
    "    &= Var(X) + Var(Y) + 2Cov(X, Y) \\\\\n",
    "    \\end{aligned} \\\\\n",
    "    \\scriptsize\\text{ if X, Y are indenpendent } \\\\\n",
    "    \\normalsize\n",
    "    \\begin{aligned}\n",
    "    &= Var(X) + Var(Y) \\\\\n",
    "    Var(X_1 + X_2 + .. + X_n) &= Var(X_1) + Var(X_2) +  ... + Var(X_n)\n",
    "    \\end{aligned}\n",
    "    $$\n",
    "    - https://ko.wikipedia.org/wiki/공분산\n",
    "- 따라서,\n",
    "  - $ E(X_1 + X_2 + .. + X_{252}) = E(X_1) + E(X_2) + .. + E(X_{252}) = 252 * E(X)$\n",
    "    - 결국 annulaized expected return = 250*(일평균 log수익률) = 250\\*E(X)\n",
    "  - $ Var(X_1 + X_2 + .. + X_{252}) = Var(X_1) + Var(X_2) + .. + Var(X_{252}) = 252 * Var(X)$\n",
    "    - 결국 annulaized variance of return = 250*(일단위 log수익률 variance) = $250*Var(X)$\n",
    "    - $ Std(X_1 + X_2 + .. + X_{252}) = \\sqrt{Var(X_1 + X_2 + .. + X_{252})} = \\sqrt{252 * Var(X)} = \\sqrt{252} * Std(X)$\n",
    "      - 참고: Annualized Std 자체를 지표로 많이 보기도 함\n",
    "  - 결국, log return의 특징으로 인해, sharpe ratio에 쓰기 부합\n",
    "    - 왜냐하면 Sharpe Ratio = annualized E(X) / annualized std(X) = $\\sqrt250 \\times {E(X) \\over std(X)}$\n",
    "- 참고: 나중엔 이런 것도 배움\n",
    "  - A, B, C 자산이 있을 때, B와 C가 same variance of return을 가지고 있더라도,\n",
    "    (A, B)로 구성된 포트폴리오와 (A,C)로 구성된 포트폴리오의 risk는 서로 다름! (due to the correlation effect)\n",
    "  - $Var(w_aA + w_bB + w_cC + ...)$\n",
    "  - Risk of portfolio (Covariance Matrix)"
   ]
  },
  {
   "cell_type": "code",
   "execution_count": 3,
   "metadata": {},
   "outputs": [],
   "source": [
    "import FinanceDataReader as fdr\n",
    "\n",
    "df = fdr.DataReader(\"069500\", \"2019-01-02\", \"2020-10-30\")"
   ]
  },
  {
   "cell_type": "code",
   "execution_count": 9,
   "metadata": {},
   "outputs": [
    {
     "name": "stderr",
     "output_type": "stream",
     "text": [
      "/Users/jihogrammer/workspace/python-venv/quant/lib/python3.9/site-packages/pandas/core/internals/blocks.py:402: RuntimeWarning: divide by zero encountered in log\n",
      "  result = func(self.values, **kwargs)\n",
      "/Users/jihogrammer/workspace/python-venv/quant/lib/python3.9/site-packages/pandas/core/internals/blocks.py:402: RuntimeWarning: invalid value encountered in log\n",
      "  result = func(self.values, **kwargs)\n"
     ]
    },
    {
     "data": {
      "text/html": [
       "<div>\n",
       "<style scoped>\n",
       "    .dataframe tbody tr th:only-of-type {\n",
       "        vertical-align: middle;\n",
       "    }\n",
       "\n",
       "    .dataframe tbody tr th {\n",
       "        vertical-align: top;\n",
       "    }\n",
       "\n",
       "    .dataframe thead th {\n",
       "        text-align: right;\n",
       "    }\n",
       "</style>\n",
       "<table border=\"1\" class=\"dataframe\">\n",
       "  <thead>\n",
       "    <tr style=\"text-align: right;\">\n",
       "      <th></th>\n",
       "      <th>KODEX200</th>\n",
       "    </tr>\n",
       "    <tr>\n",
       "      <th>Date</th>\n",
       "      <th></th>\n",
       "    </tr>\n",
       "  </thead>\n",
       "  <tbody>\n",
       "    <tr>\n",
       "      <th>2019-01-02</th>\n",
       "      <td>0.000000</td>\n",
       "    </tr>\n",
       "    <tr>\n",
       "      <th>2019-01-03</th>\n",
       "      <td>-0.009768</td>\n",
       "    </tr>\n",
       "    <tr>\n",
       "      <th>2019-01-04</th>\n",
       "      <td>0.007624</td>\n",
       "    </tr>\n",
       "  </tbody>\n",
       "</table>\n",
       "</div>"
      ],
      "text/plain": [
       "            KODEX200\n",
       "Date                \n",
       "2019-01-02  0.000000\n",
       "2019-01-03 -0.009768\n",
       "2019-01-04  0.007624"
      ]
     },
     "execution_count": 9,
     "metadata": {},
     "output_type": "execute_result"
    }
   ],
   "source": [
    "import numpy as np\n",
    "\n",
    "log_rtn_df = np.log(df.pct_change() + 1).fillna(0)\n",
    "log_rtn_df = log_rtn_df[[\"Close\"]]\n",
    "log_rtn_df.columns = [\"KODEX200\"]\n",
    "log_rtn_df.head(3)"
   ]
  },
  {
   "cell_type": "code",
   "execution_count": 10,
   "metadata": {},
   "outputs": [
    {
     "data": {
      "text/plain": [
       "KODEX200    0.100449\n",
       "dtype: float64"
      ]
     },
     "execution_count": 10,
     "metadata": {},
     "output_type": "execute_result"
    }
   ],
   "source": [
    "log_rtn_df.mean() * 252"
   ]
  },
  {
   "cell_type": "markdown",
   "metadata": {},
   "source": [
    "- `mean(log_rtn)`\n",
    "  $ \\Rightarrow {1 \\over n} ({log{p_2 \\over p_1} + log{p_3 \\over p_2} + \\dots + log{p_{n+1} \\over p_{n}}} )\n",
    "  = {1 \\over n} ({log{p_{n+1} \\over p_1}})$\n",
    "- $ exp() \\Rightarrow ({p_{n+1} \\over p_1})^{1 \\over n}$\n",
    "- ${({p_{n+1} \\over p_1})^{{1 \\over n} \\times {K \\text{ days}}}}$"
   ]
  },
  {
   "cell_type": "code",
   "execution_count": 11,
   "metadata": {},
   "outputs": [
    {
     "data": {
      "text/plain": [
       "KODEX200    0.231002\n",
       "dtype: float64"
      ]
     },
     "execution_count": 11,
     "metadata": {},
     "output_type": "execute_result"
    }
   ],
   "source": [
    "log_rtn_df.std() * np.sqrt(252)"
   ]
  },
  {
   "cell_type": "code",
   "execution_count": 12,
   "metadata": {},
   "outputs": [],
   "source": [
    "def get_annualized_returns_series(log_returns_df, num_day_in_year=250):\n",
    "    return (log_returns_df.mean() * num_day_in_year).round(2)\n",
    "\n",
    "def get_annualized_std_series(log_returns_df, num_day_in_year=250): \n",
    "    return (log_returns_df.std() * (num_day_in_year ** 0.5)).round(2)"
   ]
  },
  {
   "cell_type": "code",
   "execution_count": 13,
   "metadata": {},
   "outputs": [
    {
     "data": {
      "text/plain": [
       "KODEX200    0.1\n",
       "dtype: float64"
      ]
     },
     "execution_count": 13,
     "metadata": {},
     "output_type": "execute_result"
    }
   ],
   "source": [
    "get_annualized_returns_series(log_rtn_df)"
   ]
  },
  {
   "cell_type": "code",
   "execution_count": 14,
   "metadata": {},
   "outputs": [
    {
     "data": {
      "text/plain": [
       "KODEX200    0.23\n",
       "dtype: float64"
      ]
     },
     "execution_count": 14,
     "metadata": {},
     "output_type": "execute_result"
    }
   ],
   "source": [
    "get_annualized_std_series(log_rtn_df)"
   ]
  },
  {
   "cell_type": "code",
   "execution_count": null,
   "metadata": {},
   "outputs": [],
   "source": []
  }
 ],
 "metadata": {
  "kernelspec": {
   "display_name": "Python 3.9.12 ('quant')",
   "language": "python",
   "name": "python3"
  },
  "language_info": {
   "codemirror_mode": {
    "name": "ipython",
    "version": 3
   },
   "file_extension": ".py",
   "mimetype": "text/x-python",
   "name": "python",
   "nbconvert_exporter": "python",
   "pygments_lexer": "ipython3",
   "version": "3.9.12"
  },
  "orig_nbformat": 4,
  "vscode": {
   "interpreter": {
    "hash": "3345f8c2c33d92ed3c20479cf426dbbf8de072372bdc070376468431585c887c"
   }
  }
 },
 "nbformat": 4,
 "nbformat_minor": 2
}
