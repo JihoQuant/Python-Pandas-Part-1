{
 "cells": [
  {
   "cell_type": "markdown",
   "metadata": {},
   "source": [
    "# 1. `Timestamp` & `DatetimeIndex`\n",
    "\n",
    "- Python `datetime` vs Pandas `Timestamp`\n",
    "  - `Timestamp`는 Numpy의 datetime64 based\n",
    "  - `Timestamp` 클래스의 object가 Python의 `datetime` object 보다 더 높은 정밀도를 가진다.\n",
    "- `DatetimeIndex` - 다수의 `Timestamp` object를 하나의 변수로 관리하는 클래스\n",
    "  - Python `list`에 `Timestamp`를 할당하는 것보다 더 최적화 되어 있음"
   ]
  },
  {
   "cell_type": "code",
   "execution_count": 75,
   "metadata": {},
   "outputs": [],
   "source": [
    "import pandas as pd\n",
    "import numpy as np\n",
    "\n",
    "from initializer import init\n",
    "\n",
    "init()"
   ]
  },
  {
   "cell_type": "markdown",
   "metadata": {},
   "source": [
    "## 1.1. `Timestamp` object"
   ]
  },
  {
   "cell_type": "code",
   "execution_count": 76,
   "metadata": {},
   "outputs": [
    {
     "data": {
      "text/plain": [
       "Timestamp('2014-08-01 00:00:00')"
      ]
     },
     "execution_count": 76,
     "metadata": {},
     "output_type": "execute_result"
    },
    {
     "data": {
      "text/plain": [
       "Timestamp('1994-06-14 00:00:00')"
      ]
     },
     "execution_count": 76,
     "metadata": {},
     "output_type": "execute_result"
    }
   ],
   "source": [
    "from datetime import datetime\n",
    "import pandas as pd\n",
    "\n",
    "a = datetime(2014, 8, 1)\n",
    "pd.Timestamp(a)\n",
    "pd.Timestamp(\"1994-06-14\")"
   ]
  },
  {
   "cell_type": "markdown",
   "metadata": {},
   "source": [
    "## 1.2. `DatetimeIndex` object"
   ]
  },
  {
   "cell_type": "code",
   "execution_count": 77,
   "metadata": {},
   "outputs": [],
   "source": [
    "dates = [datetime(2014, 8, 1), datetime(2014, 8, 5)]"
   ]
  },
  {
   "cell_type": "markdown",
   "metadata": {},
   "source": [
    "### 1.2.1. `DatetimeIndex`"
   ]
  },
  {
   "cell_type": "code",
   "execution_count": 78,
   "metadata": {},
   "outputs": [
    {
     "data": {
      "text/plain": [
       "DatetimeIndex(['2014-08-01', '2014-08-05'], dtype='datetime64[ns]', freq=None)"
      ]
     },
     "execution_count": 78,
     "metadata": {},
     "output_type": "execute_result"
    }
   ],
   "source": [
    "pd.DatetimeIndex(dates)"
   ]
  },
  {
   "cell_type": "markdown",
   "metadata": {},
   "source": [
    "### 1.2.2. `pd.to_datetime()`"
   ]
  },
  {
   "cell_type": "code",
   "execution_count": 79,
   "metadata": {},
   "outputs": [
    {
     "data": {
      "text/plain": [
       "DatetimeIndex(['2014-08-01', '2014-08-05'], dtype='datetime64[ns]', freq=None)"
      ]
     },
     "execution_count": 79,
     "metadata": {},
     "output_type": "execute_result"
    }
   ],
   "source": [
    "pd.to_datetime(dates)"
   ]
  },
  {
   "cell_type": "code",
   "execution_count": 80,
   "metadata": {},
   "outputs": [
    {
     "data": {
      "text/plain": [
       "'pd.DatetimeIndex 그리고 pd.to_datetime 두 방식의 리턴값은 동일하다.'"
      ]
     },
     "execution_count": 80,
     "metadata": {},
     "output_type": "execute_result"
    }
   ],
   "source": [
    "\"\"\"pd.DatetimeIndex 그리고 pd.to_datetime 두 방식의 리턴값은 동일하다.\"\"\"\n",
    "a = pd.DatetimeIndex(dates)\n",
    "b = pd.to_datetime(dates)\n",
    "\n",
    "for d1, d2 in zip(a, b):\n",
    "    assert d1 == d2"
   ]
  },
  {
   "cell_type": "code",
   "execution_count": 81,
   "metadata": {},
   "outputs": [
    {
     "data": {
      "text/plain": [
       "pandas.core.indexes.datetimes.DatetimeIndex"
      ]
     },
     "execution_count": 81,
     "metadata": {},
     "output_type": "execute_result"
    },
    {
     "data": {
      "text/plain": [
       "pandas._libs.tslibs.timestamps.Timestamp"
      ]
     },
     "execution_count": 81,
     "metadata": {},
     "output_type": "execute_result"
    }
   ],
   "source": [
    "type(pd.to_datetime(dates))\n",
    "type(pd.to_datetime(dates)[0])"
   ]
  },
  {
   "cell_type": "markdown",
   "metadata": {},
   "source": [
    "### 1.2.3. Index of `Series`"
   ]
  },
  {
   "cell_type": "code",
   "execution_count": 82,
   "metadata": {},
   "outputs": [
    {
     "data": {
      "text/plain": [
       "2014-08-01    1.624\n",
       "2014-08-05   -0.612\n",
       "dtype: float64"
      ]
     },
     "execution_count": 82,
     "metadata": {},
     "output_type": "execute_result"
    },
    {
     "data": {
      "text/plain": [
       "DatetimeIndex(['2014-08-01', '2014-08-05'], dtype='datetime64[ns]', freq=None)"
      ]
     },
     "execution_count": 82,
     "metadata": {},
     "output_type": "execute_result"
    },
    {
     "data": {
      "text/plain": [
       "pandas.core.indexes.datetimes.DatetimeIndex"
      ]
     },
     "execution_count": 82,
     "metadata": {},
     "output_type": "execute_result"
    }
   ],
   "source": [
    "series = pd.Series(np.random.randn(2), index=dates)\n",
    "\n",
    "series\n",
    "series.index\n",
    "type(series.index)"
   ]
  },
  {
   "cell_type": "code",
   "execution_count": 83,
   "metadata": {},
   "outputs": [
    {
     "data": {
      "text/plain": [
       "'단순 ISO 포맷의 스트링 인덱스까지는 DatetimeIndex 타입으로 자동 변환되지 않음'"
      ]
     },
     "execution_count": 83,
     "metadata": {},
     "output_type": "execute_result"
    },
    {
     "data": {
      "text/plain": [
       "2022-07-11   -0.528\n",
       "2022-07-12   -1.073\n",
       "dtype: float64"
      ]
     },
     "execution_count": 83,
     "metadata": {},
     "output_type": "execute_result"
    },
    {
     "data": {
      "text/plain": [
       "Index(['2022-07-11', '2022-07-12'], dtype='object')"
      ]
     },
     "execution_count": 83,
     "metadata": {},
     "output_type": "execute_result"
    },
    {
     "data": {
      "text/plain": [
       "pandas.core.indexes.base.Index"
      ]
     },
     "execution_count": 83,
     "metadata": {},
     "output_type": "execute_result"
    }
   ],
   "source": [
    "\"\"\"단순 ISO 포맷의 스트링 인덱스까지는 DatetimeIndex 타입으로 자동 변환되지 않음\"\"\"\n",
    "series = pd.Series(np.random.randn(2), index=[\"2022-07-11\", \"2022-07-12\"])\n",
    "\n",
    "series\n",
    "series.index\n",
    "type(series.index)"
   ]
  },
  {
   "cell_type": "markdown",
   "metadata": {},
   "source": [
    "## 1.3. Indexing"
   ]
  },
  {
   "cell_type": "code",
   "execution_count": 84,
   "metadata": {},
   "outputs": [
    {
     "data": {
      "text/plain": [
       "'pandas에서는 편의성을 위해 loc으로 접근 시 다양한 방법으로 접근을 할 수 있도록 한다.'"
      ]
     },
     "execution_count": 84,
     "metadata": {},
     "output_type": "execute_result"
    },
    {
     "data": {
      "text/plain": [
       "(0.8654076293246785, 0.8654076293246785, 0.8654076293246785)"
      ]
     },
     "execution_count": 84,
     "metadata": {},
     "output_type": "execute_result"
    }
   ],
   "source": [
    "\"\"\"pandas에서는 편의성을 위해 loc으로 접근 시 다양한 방법으로 접근을 할 수 있도록 한다.\"\"\"\n",
    "series = pd.Series(np.random.randn(2), index=dates)\n",
    "\n",
    "a = series.loc[pd.Timestamp(\"2014-08-01\")]\n",
    "b = series.loc[datetime(2014, 8, 1)]\n",
    "c = series.loc[\"2014-08-01\"]\n",
    "\n",
    "assert a == b\n",
    "assert b == c\n",
    "assert c == a\n",
    "\n",
    "a, b, c"
   ]
  },
  {
   "cell_type": "code",
   "execution_count": 85,
   "metadata": {},
   "outputs": [
    {
     "data": {
      "text/plain": [
       "'pandas Timestamp와 python datetime은 서로 호환되지만, 단순 string과는 당연하게도 동일하지 않다.'"
      ]
     },
     "execution_count": 85,
     "metadata": {},
     "output_type": "execute_result"
    }
   ],
   "source": [
    "\"\"\"pandas Timestamp와 python datetime은 서로 호환되지만, 단순 string과는 당연하게도 동일하지 않다.\"\"\"\n",
    "a = pd.Timestamp(dates[0])\n",
    "b = pd.to_datetime(dates[0])\n",
    "c = datetime(2014, 8, 1)\n",
    "\n",
    "assert a == c\n",
    "assert b == c\n",
    "\n",
    "d = \"2014-08-01\"\n",
    "\n",
    "assert a != d\n",
    "assert b != d"
   ]
  },
  {
   "cell_type": "code",
   "execution_count": 86,
   "metadata": {},
   "outputs": [
    {
     "data": {
      "text/plain": [
       "'Timestamp index를 한 번 sorting 해주면 신기한 일을 할 수 있다.'"
      ]
     },
     "execution_count": 86,
     "metadata": {},
     "output_type": "execute_result"
    },
    {
     "data": {
      "text/plain": [
       "0.8654076293246785"
      ]
     },
     "execution_count": 86,
     "metadata": {},
     "output_type": "execute_result"
    },
    {
     "data": {
      "text/plain": [
       "2014-08-01    0.865\n",
       "2014-08-05   -2.302\n",
       "dtype: float64"
      ]
     },
     "execution_count": 86,
     "metadata": {},
     "output_type": "execute_result"
    },
    {
     "data": {
      "text/plain": [
       "2014-08-01    0.865\n",
       "2014-08-05   -2.302\n",
       "dtype: float64"
      ]
     },
     "execution_count": 86,
     "metadata": {},
     "output_type": "execute_result"
    },
    {
     "data": {
      "text/plain": [
       "2014-08-05   -2.302\n",
       "dtype: float64"
      ]
     },
     "execution_count": 86,
     "metadata": {},
     "output_type": "execute_result"
    },
    {
     "data": {
      "text/plain": [
       "2014-08-01    0.865\n",
       "2014-08-05   -2.302\n",
       "dtype: float64"
      ]
     },
     "execution_count": 86,
     "metadata": {},
     "output_type": "execute_result"
    }
   ],
   "source": [
    "\"\"\"Timestamp index를 한 번 sorting 해주면 신기한 일을 할 수 있다.\"\"\"\n",
    "series = series.sort_index()\n",
    "\n",
    "series.loc[\"2014-08-01\"]\n",
    "series.loc[\"2014-08\"]\n",
    "series.loc[\"2014-08-01\":]\n",
    "series.loc[\"2014-08-02\":]\n",
    "series.loc[\"2014-08-01\":\"2014-08-05\"] # python list indexing과는 다르게 양 끝 데이터를 포함한다."
   ]
  },
  {
   "cell_type": "markdown",
   "metadata": {},
   "source": [
    "## 1.4. `pd.date_range()`"
   ]
  },
  {
   "cell_type": "code",
   "execution_count": 87,
   "metadata": {},
   "outputs": [
    {
     "data": {
      "text/plain": [
       "DatetimeIndex(['2014-08-01', '2014-08-02', '2014-08-03', '2014-08-04',\n",
       "               '2014-08-05', '2014-08-06', '2014-08-07', '2014-08-08',\n",
       "               '2014-08-09', '2014-08-10'],\n",
       "              dtype='datetime64[ns]', freq='D')"
      ]
     },
     "execution_count": 87,
     "metadata": {},
     "output_type": "execute_result"
    },
    {
     "data": {
      "text/plain": [
       "DatetimeIndex(['2014-08-01', '2014-08-04', '2014-08-05', '2014-08-06',\n",
       "               '2014-08-07', '2014-08-08', '2014-08-11', '2014-08-12',\n",
       "               '2014-08-13', '2014-08-14'],\n",
       "              dtype='datetime64[ns]', freq='B')"
      ]
     },
     "execution_count": 87,
     "metadata": {},
     "output_type": "execute_result"
    },
    {
     "data": {
      "text/plain": [
       "DatetimeIndex(['2014-08-01', '2014-08-02', '2014-08-03', '2014-08-04',\n",
       "               '2014-08-05', '2014-08-06', '2014-08-07', '2014-08-08',\n",
       "               '2014-08-09', '2014-08-10', '2014-08-11', '2014-08-12',\n",
       "               '2014-08-13', '2014-08-14'],\n",
       "              dtype='datetime64[ns]', freq='D')"
      ]
     },
     "execution_count": 87,
     "metadata": {},
     "output_type": "execute_result"
    }
   ],
   "source": [
    "pd.date_range(\"2014-08-01\", periods=10, freq=\"D\")   # Day\n",
    "pd.date_range(\"2014-08-01\", periods=10, freq=\"B\")   # Business - 휴일과 공휴일 제외\n",
    "pd.date_range(\"2014-08-01\", \"2014-08-14\", freq=\"D\") # Day"
   ]
  },
  {
   "cell_type": "markdown",
   "metadata": {},
   "source": [
    "# 2. `Period` & `PeriodIndex`\n",
    "\n",
    "- `Period` - interval of datetime\n",
    "- `PeriodIndex` - 다수의 `Period` object를 하나의 변수로 관리하는 클래스\n",
    "  - cf. `DatetimeIndex` is sequence of `Timestamp`"
   ]
  },
  {
   "cell_type": "markdown",
   "metadata": {},
   "source": [
    "## 2.1. `Period` object"
   ]
  },
  {
   "cell_type": "code",
   "execution_count": 88,
   "metadata": {},
   "outputs": [
    {
     "data": {
      "text/plain": [
       "Period('2014Q3', 'Q-DEC')"
      ]
     },
     "execution_count": 88,
     "metadata": {},
     "output_type": "execute_result"
    },
    {
     "data": {
      "text/plain": [
       "Timestamp('2014-07-01 00:00:00')"
      ]
     },
     "execution_count": 88,
     "metadata": {},
     "output_type": "execute_result"
    },
    {
     "data": {
      "text/plain": [
       "Timestamp('2014-09-30 23:59:59.999999999')"
      ]
     },
     "execution_count": 88,
     "metadata": {},
     "output_type": "execute_result"
    },
    {
     "data": {
      "text/plain": [
       "Period('2014Q4', 'Q-DEC')"
      ]
     },
     "execution_count": 88,
     "metadata": {},
     "output_type": "execute_result"
    },
    {
     "data": {
      "text/plain": [
       "Timestamp('2014-10-01 00:00:00')"
      ]
     },
     "execution_count": 88,
     "metadata": {},
     "output_type": "execute_result"
    },
    {
     "data": {
      "text/plain": [
       "Timestamp('2014-12-31 23:59:59.999999999')"
      ]
     },
     "execution_count": 88,
     "metadata": {},
     "output_type": "execute_result"
    }
   ],
   "source": [
    "period = pd.Period(\"2014-08\", freq=\"Q\") # freq: Union[\"D\", \"M\", etc.] Q => Quarter\n",
    "period\n",
    "period.start_time\n",
    "period.end_time\n",
    "\n",
    "period_freq_up = period + 1\n",
    "period_freq_up\n",
    "period_freq_up.start_time\n",
    "period_freq_up.end_time"
   ]
  },
  {
   "cell_type": "markdown",
   "metadata": {},
   "source": [
    "## 2.2. `PeriodIndex` object"
   ]
  },
  {
   "cell_type": "code",
   "execution_count": 89,
   "metadata": {},
   "outputs": [
    {
     "data": {
      "text/plain": [
       "PeriodIndex(['2013-01', '2013-02', '2013-03', '2013-04', '2013-05', '2013-06',\n",
       "             '2013-07', '2013-08', '2013-09', '2013-10', '2013-11', '2013-12'],\n",
       "            dtype='period[M]')"
      ]
     },
     "execution_count": 89,
     "metadata": {},
     "output_type": "execute_result"
    },
    {
     "name": "stdout",
     "output_type": "stream",
     "text": [
      "2013-01 <MonthEnd> 2013-01-01 00:00:00 2013-01-31 23:59:59.999999999\n",
      "2013-02 <MonthEnd> 2013-02-01 00:00:00 2013-02-28 23:59:59.999999999\n",
      "2013-03 <MonthEnd> 2013-03-01 00:00:00 2013-03-31 23:59:59.999999999\n",
      "2013-04 <MonthEnd> 2013-04-01 00:00:00 2013-04-30 23:59:59.999999999\n",
      "2013-05 <MonthEnd> 2013-05-01 00:00:00 2013-05-31 23:59:59.999999999\n",
      "2013-06 <MonthEnd> 2013-06-01 00:00:00 2013-06-30 23:59:59.999999999\n",
      "2013-07 <MonthEnd> 2013-07-01 00:00:00 2013-07-31 23:59:59.999999999\n",
      "2013-08 <MonthEnd> 2013-08-01 00:00:00 2013-08-31 23:59:59.999999999\n",
      "2013-09 <MonthEnd> 2013-09-01 00:00:00 2013-09-30 23:59:59.999999999\n",
      "2013-10 <MonthEnd> 2013-10-01 00:00:00 2013-10-31 23:59:59.999999999\n",
      "2013-11 <MonthEnd> 2013-11-01 00:00:00 2013-11-30 23:59:59.999999999\n",
      "2013-12 <MonthEnd> 2013-12-01 00:00:00 2013-12-31 23:59:59.999999999\n"
     ]
    }
   ],
   "source": [
    "p2013 = pd.period_range(\"2013-01-01\", \"2013-12-31\", freq=\"M\")\n",
    "\n",
    "p2013\n",
    "for p in p2013:\n",
    "    print(f\"{p} {p.freq} {p.start_time} {p.end_time}\")"
   ]
  },
  {
   "cell_type": "markdown",
   "metadata": {},
   "source": [
    "### 2.2.1. vs `DatetimeIndex`"
   ]
  },
  {
   "cell_type": "code",
   "execution_count": 90,
   "metadata": {},
   "outputs": [
    {
     "data": {
      "text/plain": [
       "(DatetimeIndex(['2013-01-31', '2013-02-28', '2013-03-31', '2013-04-30',\n",
       "                '2013-05-31', '2013-06-30', '2013-07-31', '2013-08-31',\n",
       "                '2013-09-30', '2013-10-31', '2013-11-30', '2013-12-31'],\n",
       "               dtype='datetime64[ns]', freq='M'),\n",
       " PeriodIndex(['2013-01', '2013-02', '2013-03', '2013-04', '2013-05', '2013-06',\n",
       "              '2013-07', '2013-08', '2013-09', '2013-10', '2013-11', '2013-12'],\n",
       "             dtype='period[M]'))"
      ]
     },
     "execution_count": 90,
     "metadata": {},
     "output_type": "execute_result"
    },
    {
     "data": {
      "text/plain": [
       "(Timestamp('2013-01-31 00:00:00', freq='M'), Period('2013-01', 'M'))"
      ]
     },
     "execution_count": 90,
     "metadata": {},
     "output_type": "execute_result"
    }
   ],
   "source": [
    "a = pd.date_range(\"1/1/2013\", \"12/31/2013\", freq=\"M\")\n",
    "b = pd.period_range(\"1/1/2013\", \"12/31/2013\", freq=\"M\")\n",
    "\n",
    "a, b\n",
    "a[0], b[0]"
   ]
  },
  {
   "cell_type": "markdown",
   "metadata": {},
   "source": [
    "### 2.2.2. As a index of `Series`"
   ]
  },
  {
   "cell_type": "code",
   "execution_count": 91,
   "metadata": {},
   "outputs": [
    {
     "data": {
      "text/plain": [
       "'해당 index는 이제 특정 date(time)을 의미하는 것이 아닌 date(time) 범위를 의미한다.'"
      ]
     },
     "execution_count": 91,
     "metadata": {},
     "output_type": "execute_result"
    },
    {
     "data": {
      "text/plain": [
       "2013-01    1.745\n",
       "2013-02   -0.761\n",
       "2013-03    0.319\n",
       "2013-04   -0.249\n",
       "2013-05    1.462\n",
       "2013-06   -2.060\n",
       "2013-07   -0.322\n",
       "2013-08   -0.384\n",
       "2013-09    1.134\n",
       "2013-10   -1.100\n",
       "2013-11   -0.172\n",
       "2013-12   -0.878\n",
       "Freq: M, dtype: float64"
      ]
     },
     "execution_count": 91,
     "metadata": {},
     "output_type": "execute_result"
    }
   ],
   "source": [
    "\"\"\"해당 index는 이제 특정 date(time)을 의미하는 것이 아닌 date(time) 범위를 의미한다.\"\"\"\n",
    "ps = pd.Series(np.random.randn(12), p2013)\n",
    "ps"
   ]
  },
  {
   "cell_type": "code",
   "execution_count": 92,
   "metadata": {},
   "outputs": [
    {
     "data": {
      "text/plain": [
       "-0.17242820755043575"
      ]
     },
     "execution_count": 92,
     "metadata": {},
     "output_type": "execute_result"
    },
    {
     "data": {
      "text/plain": [
       "2013-11   -0.172\n",
       "2013-12   -0.878\n",
       "Freq: M, dtype: float64"
      ]
     },
     "execution_count": 92,
     "metadata": {},
     "output_type": "execute_result"
    }
   ],
   "source": [
    "ps.loc[\"2013-11\"]\n",
    "ps.loc[\"2013-11\":]"
   ]
  }
 ],
 "metadata": {
  "kernelspec": {
   "display_name": "Python 3.9.12 ('quant')",
   "language": "python",
   "name": "python3"
  },
  "language_info": {
   "codemirror_mode": {
    "name": "ipython",
    "version": 3
   },
   "file_extension": ".py",
   "mimetype": "text/x-python",
   "name": "python",
   "nbconvert_exporter": "python",
   "pygments_lexer": "ipython3",
   "version": "3.9.12"
  },
  "orig_nbformat": 4,
  "vscode": {
   "interpreter": {
    "hash": "3345f8c2c33d92ed3c20479cf426dbbf8de072372bdc070376468431585c887c"
   }
  }
 },
 "nbformat": 4,
 "nbformat_minor": 2
}
