{
 "cells": [
  {
   "cell_type": "code",
   "execution_count": 33,
   "metadata": {},
   "outputs": [],
   "source": [
    "import pandas as pd\n",
    "import numpy as np\n",
    "import matplotlib as mpl\n",
    "import matplotlib.pyplot as plt\n",
    "import FinanceDataReader as fdr\n",
    "\n",
    "from pandas import DataFrame, Series\n",
    "from initializer import init\n",
    "import utils\n",
    "\n",
    "%matplotlib inline\n",
    "plt.rcParams['font.family'] = 'AppleGothic'\n",
    "mpl.rcParams['axes.unicode_minus'] = False\n",
    "\n",
    "init()"
   ]
  },
  {
   "cell_type": "markdown",
   "metadata": {},
   "source": [
    "# 1. Basic"
   ]
  },
  {
   "cell_type": "markdown",
   "metadata": {},
   "source": [
    "## 1.1. Reminder\n",
    "\n",
    "- cumulative return 산출"
   ]
  },
  {
   "cell_type": "markdown",
   "metadata": {},
   "source": [
    "## 1.2. Weight\n",
    "\n",
    "- 각 자산 비중(ratio)\n",
    "- 특정 시점에서 항상 sum이 1이어야 함(진입 기준)\n",
    "- e.g. Equal Weight Rebalancing"
   ]
  },
  {
   "cell_type": "markdown",
   "metadata": {},
   "source": [
    "## 1.3. Return\n",
    "\n",
    "- $ \\text{Return of portfolio on day 1 } = {w_a}{r_a} + {w_b}{r_b} + {w_c}{r_c} + \\dots $\n",
    "- 1일 차의 $\\sum$ (각 자신의 비중 * 각 자산의 return)"
   ]
  },
  {
   "cell_type": "markdown",
   "metadata": {},
   "source": [
    "## 1.4. 중요한 포인트\n",
    "\n",
    "- A 주가: [10, 12, 6](daily return: [+0.2, -0.5])\n",
    "- B 주가: [10, 5, 6](daily return: [-0.5, +0.2])\n",
    "- 각 10주씩 매수하고 buy & hold\n",
    "---\n",
    "- 위 1.3. 방식으로 수익률 계산하면...\n",
    "  - 첫째날: `-0.15 (0.5 * 0.2 + 0.5 * -0.5)`\n",
    "  - 둘째날: `-0.15 (0.5 * -0.5 + 0.5 * 0.2)`\n",
    "  - 전체: `200 => 200 * (1 - 0.15) => 200 * (1 - 0.15)^2`\n",
    "    - `[200, 170, 144.499999]`\n",
    "---\n",
    "- 그런데 포트폴리오 전체 value 관점에서 계산하면 `[200, 170, 120]`\n",
    "  - 수익률은 `[0, -0.15, -0.294]`\n",
    "---\n",
    "\n",
    "> 첫째날이 지나면 포트폴리오의 weight가 달라지는 점을 유의하자.\n",
    "\n",
    "### 1.4.1. Quiz\n",
    "\n",
    "> 60:40 or 올웨더 전략 등 비중 기반 전략 진입 시, 비중만 유지하면 언제든 진입해도 될까?\n",
    "\n",
    "안 되겠지"
   ]
  },
  {
   "cell_type": "markdown",
   "metadata": {},
   "source": [
    "# 2. Buy & Hold"
   ]
  },
  {
   "cell_type": "markdown",
   "metadata": {},
   "source": [
    "## 2.1. 구현"
   ]
  },
  {
   "cell_type": "markdown",
   "metadata": {},
   "source": [
    "### 2.1.1. Data 준비"
   ]
  },
  {
   "cell_type": "code",
   "execution_count": 34,
   "metadata": {},
   "outputs": [
    {
     "data": {
      "text/html": [
       "<div>\n",
       "<style scoped>\n",
       "    .dataframe tbody tr th:only-of-type {\n",
       "        vertical-align: middle;\n",
       "    }\n",
       "\n",
       "    .dataframe tbody tr th {\n",
       "        vertical-align: top;\n",
       "    }\n",
       "\n",
       "    .dataframe thead th {\n",
       "        text-align: right;\n",
       "    }\n",
       "</style>\n",
       "<table border=\"1\" class=\"dataframe\">\n",
       "  <thead>\n",
       "    <tr style=\"text-align: right;\">\n",
       "      <th></th>\n",
       "      <th>A</th>\n",
       "      <th>B</th>\n",
       "      <th>C</th>\n",
       "    </tr>\n",
       "  </thead>\n",
       "  <tbody>\n",
       "    <tr>\n",
       "      <th>2018-01-31</th>\n",
       "      <td>10</td>\n",
       "      <td>10</td>\n",
       "      <td>10</td>\n",
       "    </tr>\n",
       "    <tr>\n",
       "      <th>2018-02-10</th>\n",
       "      <td>15</td>\n",
       "      <td>10</td>\n",
       "      <td>12</td>\n",
       "    </tr>\n",
       "    <tr>\n",
       "      <th>2018-02-20</th>\n",
       "      <td>12</td>\n",
       "      <td>8</td>\n",
       "      <td>14</td>\n",
       "    </tr>\n",
       "    <tr>\n",
       "      <th>2018-02-28</th>\n",
       "      <td>13</td>\n",
       "      <td>13</td>\n",
       "      <td>16</td>\n",
       "    </tr>\n",
       "    <tr>\n",
       "      <th>2018-03-20</th>\n",
       "      <td>10</td>\n",
       "      <td>12</td>\n",
       "      <td>14</td>\n",
       "    </tr>\n",
       "    <tr>\n",
       "      <th>2018-03-29</th>\n",
       "      <td>11</td>\n",
       "      <td>12</td>\n",
       "      <td>14</td>\n",
       "    </tr>\n",
       "    <tr>\n",
       "      <th>2018-04-30</th>\n",
       "      <td>12</td>\n",
       "      <td>12</td>\n",
       "      <td>16</td>\n",
       "    </tr>\n",
       "  </tbody>\n",
       "</table>\n",
       "</div>"
      ],
      "text/plain": [
       "             A   B   C\n",
       "2018-01-31  10  10  10\n",
       "2018-02-10  15  10  12\n",
       "2018-02-20  12   8  14\n",
       "2018-02-28  13  13  16\n",
       "2018-03-20  10  12  14\n",
       "2018-03-29  11  12  14\n",
       "2018-04-30  12  12  16"
      ]
     },
     "execution_count": 34,
     "metadata": {},
     "output_type": "execute_result"
    }
   ],
   "source": [
    "df = pd.DataFrame(\n",
    "    {\n",
    "        \"A\": [10, 15, 12, 13, 10, 11, 12],\n",
    "        \"B\": [10, 10, 8, 13, 12, 12, 12],\n",
    "        \"C\": [10, 12, 14, 16, 14, 14, 16],\n",
    "    },\n",
    "    index=pd.to_datetime([\"2018-01-31\", \"2018-02-10\", \"2018-02-20\", \"2018-02-28\", \"2018-03-20\", \"2018-03-29\", \"2018-04-30\",])\n",
    ")\n",
    "df"
   ]
  },
  {
   "cell_type": "markdown",
   "metadata": {},
   "source": [
    "### 2.1.2. Shifted Return 구하기"
   ]
  },
  {
   "cell_type": "code",
   "execution_count": 35,
   "metadata": {},
   "outputs": [
    {
     "data": {
      "text/plain": [
       "'이 상황에서는 Log Based Return을 사용할 수 없음을 기억하자'"
      ]
     },
     "execution_count": 35,
     "metadata": {},
     "output_type": "execute_result"
    },
    {
     "data": {
      "text/html": [
       "<div>\n",
       "<style scoped>\n",
       "    .dataframe tbody tr th:only-of-type {\n",
       "        vertical-align: middle;\n",
       "    }\n",
       "\n",
       "    .dataframe tbody tr th {\n",
       "        vertical-align: top;\n",
       "    }\n",
       "\n",
       "    .dataframe thead th {\n",
       "        text-align: right;\n",
       "    }\n",
       "</style>\n",
       "<table border=\"1\" class=\"dataframe\">\n",
       "  <thead>\n",
       "    <tr style=\"text-align: right;\">\n",
       "      <th></th>\n",
       "      <th>A</th>\n",
       "      <th>B</th>\n",
       "      <th>C</th>\n",
       "    </tr>\n",
       "  </thead>\n",
       "  <tbody>\n",
       "    <tr>\n",
       "      <th>2018-01-31</th>\n",
       "      <td>0.000</td>\n",
       "      <td>0.000</td>\n",
       "      <td>0.000</td>\n",
       "    </tr>\n",
       "    <tr>\n",
       "      <th>2018-02-10</th>\n",
       "      <td>0.500</td>\n",
       "      <td>0.000</td>\n",
       "      <td>0.200</td>\n",
       "    </tr>\n",
       "    <tr>\n",
       "      <th>2018-02-20</th>\n",
       "      <td>-0.200</td>\n",
       "      <td>-0.200</td>\n",
       "      <td>0.167</td>\n",
       "    </tr>\n",
       "    <tr>\n",
       "      <th>2018-02-28</th>\n",
       "      <td>0.083</td>\n",
       "      <td>0.625</td>\n",
       "      <td>0.143</td>\n",
       "    </tr>\n",
       "    <tr>\n",
       "      <th>2018-03-20</th>\n",
       "      <td>-0.231</td>\n",
       "      <td>-0.077</td>\n",
       "      <td>-0.125</td>\n",
       "    </tr>\n",
       "    <tr>\n",
       "      <th>2018-03-29</th>\n",
       "      <td>0.100</td>\n",
       "      <td>0.000</td>\n",
       "      <td>0.000</td>\n",
       "    </tr>\n",
       "    <tr>\n",
       "      <th>2018-04-30</th>\n",
       "      <td>0.091</td>\n",
       "      <td>0.000</td>\n",
       "      <td>0.143</td>\n",
       "    </tr>\n",
       "  </tbody>\n",
       "</table>\n",
       "</div>"
      ],
      "text/plain": [
       "                A      B      C\n",
       "2018-01-31  0.000  0.000  0.000\n",
       "2018-02-10  0.500  0.000  0.200\n",
       "2018-02-20 -0.200 -0.200  0.167\n",
       "2018-02-28  0.083  0.625  0.143\n",
       "2018-03-20 -0.231 -0.077 -0.125\n",
       "2018-03-29  0.100  0.000  0.000\n",
       "2018-04-30  0.091  0.000  0.143"
      ]
     },
     "execution_count": 35,
     "metadata": {},
     "output_type": "execute_result"
    },
    {
     "data": {
      "text/plain": [
       "'shift 해야 해당 date에서 데이터를 가지고 있을 때 발생하는 수익률을 mapping 하기 쉬움'"
      ]
     },
     "execution_count": 35,
     "metadata": {},
     "output_type": "execute_result"
    },
    {
     "data": {
      "text/html": [
       "<div>\n",
       "<style scoped>\n",
       "    .dataframe tbody tr th:only-of-type {\n",
       "        vertical-align: middle;\n",
       "    }\n",
       "\n",
       "    .dataframe tbody tr th {\n",
       "        vertical-align: top;\n",
       "    }\n",
       "\n",
       "    .dataframe thead th {\n",
       "        text-align: right;\n",
       "    }\n",
       "</style>\n",
       "<table border=\"1\" class=\"dataframe\">\n",
       "  <thead>\n",
       "    <tr style=\"text-align: right;\">\n",
       "      <th></th>\n",
       "      <th>A</th>\n",
       "      <th>B</th>\n",
       "      <th>C</th>\n",
       "    </tr>\n",
       "  </thead>\n",
       "  <tbody>\n",
       "    <tr>\n",
       "      <th>2018-01-31</th>\n",
       "      <td>0.500</td>\n",
       "      <td>0.000</td>\n",
       "      <td>0.200</td>\n",
       "    </tr>\n",
       "    <tr>\n",
       "      <th>2018-02-10</th>\n",
       "      <td>-0.200</td>\n",
       "      <td>-0.200</td>\n",
       "      <td>0.167</td>\n",
       "    </tr>\n",
       "    <tr>\n",
       "      <th>2018-02-20</th>\n",
       "      <td>0.083</td>\n",
       "      <td>0.625</td>\n",
       "      <td>0.143</td>\n",
       "    </tr>\n",
       "    <tr>\n",
       "      <th>2018-02-28</th>\n",
       "      <td>-0.231</td>\n",
       "      <td>-0.077</td>\n",
       "      <td>-0.125</td>\n",
       "    </tr>\n",
       "    <tr>\n",
       "      <th>2018-03-20</th>\n",
       "      <td>0.100</td>\n",
       "      <td>0.000</td>\n",
       "      <td>0.000</td>\n",
       "    </tr>\n",
       "    <tr>\n",
       "      <th>2018-03-29</th>\n",
       "      <td>0.091</td>\n",
       "      <td>0.000</td>\n",
       "      <td>0.143</td>\n",
       "    </tr>\n",
       "    <tr>\n",
       "      <th>2018-04-30</th>\n",
       "      <td>0.000</td>\n",
       "      <td>0.000</td>\n",
       "      <td>0.000</td>\n",
       "    </tr>\n",
       "  </tbody>\n",
       "</table>\n",
       "</div>"
      ],
      "text/plain": [
       "                A      B      C\n",
       "2018-01-31  0.500  0.000  0.200\n",
       "2018-02-10 -0.200 -0.200  0.167\n",
       "2018-02-20  0.083  0.625  0.143\n",
       "2018-02-28 -0.231 -0.077 -0.125\n",
       "2018-03-20  0.100  0.000  0.000\n",
       "2018-03-29  0.091  0.000  0.143\n",
       "2018-04-30  0.000  0.000  0.000"
      ]
     },
     "execution_count": 35,
     "metadata": {},
     "output_type": "execute_result"
    }
   ],
   "source": [
    "\"\"\"이 상황에서는 Log Based Return을 사용할 수 없음을 기억하자\"\"\"\n",
    "rtn_df = utils.get_returns_df(df, log=False)\n",
    "rtn_df\n",
    "\"\"\"shift 해야 해당 date에서 데이터를 가지고 있을 때 발생하는 수익률을 mapping 하기 쉬움\"\"\"\n",
    "shifted_rtn_df = rtn_df.shift(-1).fillna(0)\n",
    "shifted_rtn_df"
   ]
  },
  {
   "cell_type": "code",
   "execution_count": 36,
   "metadata": {},
   "outputs": [
    {
     "data": {
      "text/html": [
       "<div>\n",
       "<style scoped>\n",
       "    .dataframe tbody tr th:only-of-type {\n",
       "        vertical-align: middle;\n",
       "    }\n",
       "\n",
       "    .dataframe tbody tr th {\n",
       "        vertical-align: top;\n",
       "    }\n",
       "\n",
       "    .dataframe thead th {\n",
       "        text-align: right;\n",
       "    }\n",
       "</style>\n",
       "<table border=\"1\" class=\"dataframe\">\n",
       "  <thead>\n",
       "    <tr style=\"text-align: right;\">\n",
       "      <th></th>\n",
       "      <th>A</th>\n",
       "      <th>B</th>\n",
       "      <th>C</th>\n",
       "    </tr>\n",
       "  </thead>\n",
       "  <tbody>\n",
       "    <tr>\n",
       "      <th>2018-01-31</th>\n",
       "      <td>1.000</td>\n",
       "      <td>1.000</td>\n",
       "      <td>1.000</td>\n",
       "    </tr>\n",
       "    <tr>\n",
       "      <th>2018-02-10</th>\n",
       "      <td>1.500</td>\n",
       "      <td>1.000</td>\n",
       "      <td>1.200</td>\n",
       "    </tr>\n",
       "    <tr>\n",
       "      <th>2018-02-20</th>\n",
       "      <td>1.200</td>\n",
       "      <td>0.800</td>\n",
       "      <td>1.400</td>\n",
       "    </tr>\n",
       "    <tr>\n",
       "      <th>2018-02-28</th>\n",
       "      <td>1.300</td>\n",
       "      <td>1.300</td>\n",
       "      <td>1.600</td>\n",
       "    </tr>\n",
       "    <tr>\n",
       "      <th>2018-03-20</th>\n",
       "      <td>1.000</td>\n",
       "      <td>1.200</td>\n",
       "      <td>1.400</td>\n",
       "    </tr>\n",
       "    <tr>\n",
       "      <th>2018-03-29</th>\n",
       "      <td>1.100</td>\n",
       "      <td>1.200</td>\n",
       "      <td>1.400</td>\n",
       "    </tr>\n",
       "    <tr>\n",
       "      <th>2018-04-30</th>\n",
       "      <td>1.200</td>\n",
       "      <td>1.200</td>\n",
       "      <td>1.600</td>\n",
       "    </tr>\n",
       "  </tbody>\n",
       "</table>\n",
       "</div>"
      ],
      "text/plain": [
       "               A     B     C\n",
       "2018-01-31 1.000 1.000 1.000\n",
       "2018-02-10 1.500 1.000 1.200\n",
       "2018-02-20 1.200 0.800 1.400\n",
       "2018-02-28 1.300 1.300 1.600\n",
       "2018-03-20 1.000 1.200 1.400\n",
       "2018-03-29 1.100 1.200 1.400\n",
       "2018-04-30 1.200 1.200 1.600"
      ]
     },
     "execution_count": 36,
     "metadata": {},
     "output_type": "execute_result"
    }
   ],
   "source": [
    "cum_rtn_df = df / df.iloc[0]\n",
    "cum_rtn_df"
   ]
  },
  {
   "cell_type": "markdown",
   "metadata": {},
   "source": [
    "### 2.1.3. asset flow & weight df 구하기"
   ]
  },
  {
   "cell_type": "code",
   "execution_count": 37,
   "metadata": {},
   "outputs": [
    {
     "data": {
      "text/plain": [
       "'A: 30%, B: 50%, C: 20%'"
      ]
     },
     "execution_count": 37,
     "metadata": {},
     "output_type": "execute_result"
    },
    {
     "data": {
      "text/html": [
       "<div>\n",
       "<style scoped>\n",
       "    .dataframe tbody tr th:only-of-type {\n",
       "        vertical-align: middle;\n",
       "    }\n",
       "\n",
       "    .dataframe tbody tr th {\n",
       "        vertical-align: top;\n",
       "    }\n",
       "\n",
       "    .dataframe thead th {\n",
       "        text-align: right;\n",
       "    }\n",
       "</style>\n",
       "<table border=\"1\" class=\"dataframe\">\n",
       "  <thead>\n",
       "    <tr style=\"text-align: right;\">\n",
       "      <th></th>\n",
       "      <th>A</th>\n",
       "      <th>B</th>\n",
       "      <th>C</th>\n",
       "    </tr>\n",
       "  </thead>\n",
       "  <tbody>\n",
       "    <tr>\n",
       "      <th>2018-01-31</th>\n",
       "      <td>0.300</td>\n",
       "      <td>0.500</td>\n",
       "      <td>0.200</td>\n",
       "    </tr>\n",
       "    <tr>\n",
       "      <th>2018-02-10</th>\n",
       "      <td>0.450</td>\n",
       "      <td>0.500</td>\n",
       "      <td>0.240</td>\n",
       "    </tr>\n",
       "    <tr>\n",
       "      <th>2018-02-20</th>\n",
       "      <td>0.360</td>\n",
       "      <td>0.400</td>\n",
       "      <td>0.280</td>\n",
       "    </tr>\n",
       "    <tr>\n",
       "      <th>2018-02-28</th>\n",
       "      <td>0.390</td>\n",
       "      <td>0.650</td>\n",
       "      <td>0.320</td>\n",
       "    </tr>\n",
       "    <tr>\n",
       "      <th>2018-03-20</th>\n",
       "      <td>0.300</td>\n",
       "      <td>0.600</td>\n",
       "      <td>0.280</td>\n",
       "    </tr>\n",
       "    <tr>\n",
       "      <th>2018-03-29</th>\n",
       "      <td>0.330</td>\n",
       "      <td>0.600</td>\n",
       "      <td>0.280</td>\n",
       "    </tr>\n",
       "    <tr>\n",
       "      <th>2018-04-30</th>\n",
       "      <td>0.360</td>\n",
       "      <td>0.600</td>\n",
       "      <td>0.320</td>\n",
       "    </tr>\n",
       "  </tbody>\n",
       "</table>\n",
       "</div>"
      ],
      "text/plain": [
       "               A     B     C\n",
       "2018-01-31 0.300 0.500 0.200\n",
       "2018-02-10 0.450 0.500 0.240\n",
       "2018-02-20 0.360 0.400 0.280\n",
       "2018-02-28 0.390 0.650 0.320\n",
       "2018-03-20 0.300 0.600 0.280\n",
       "2018-03-29 0.330 0.600 0.280\n",
       "2018-04-30 0.360 0.600 0.320"
      ]
     },
     "execution_count": 37,
     "metadata": {},
     "output_type": "execute_result"
    }
   ],
   "source": [
    "\"\"\"A: 30%, B: 50%, C: 20%\"\"\"\n",
    "WEIGHTS = [0.3, 0.5, 0.2]\n",
    "\n",
    "assert sum(WEIGHTS) == 1\n",
    "\n",
    "asset_flow_df = cum_rtn_df * WEIGHTS\n",
    "asset_flow_df"
   ]
  },
  {
   "cell_type": "code",
   "execution_count": 38,
   "metadata": {},
   "outputs": [
    {
     "data": {
      "text/html": [
       "<div>\n",
       "<style scoped>\n",
       "    .dataframe tbody tr th:only-of-type {\n",
       "        vertical-align: middle;\n",
       "    }\n",
       "\n",
       "    .dataframe tbody tr th {\n",
       "        vertical-align: top;\n",
       "    }\n",
       "\n",
       "    .dataframe thead th {\n",
       "        text-align: right;\n",
       "    }\n",
       "</style>\n",
       "<table border=\"1\" class=\"dataframe\">\n",
       "  <thead>\n",
       "    <tr style=\"text-align: right;\">\n",
       "      <th></th>\n",
       "      <th>A</th>\n",
       "      <th>B</th>\n",
       "      <th>C</th>\n",
       "    </tr>\n",
       "  </thead>\n",
       "  <tbody>\n",
       "    <tr>\n",
       "      <th>2018-01-31</th>\n",
       "      <td>0.300</td>\n",
       "      <td>0.500</td>\n",
       "      <td>0.200</td>\n",
       "    </tr>\n",
       "    <tr>\n",
       "      <th>2018-02-10</th>\n",
       "      <td>0.378</td>\n",
       "      <td>0.420</td>\n",
       "      <td>0.202</td>\n",
       "    </tr>\n",
       "    <tr>\n",
       "      <th>2018-02-20</th>\n",
       "      <td>0.346</td>\n",
       "      <td>0.385</td>\n",
       "      <td>0.269</td>\n",
       "    </tr>\n",
       "    <tr>\n",
       "      <th>2018-02-28</th>\n",
       "      <td>0.287</td>\n",
       "      <td>0.478</td>\n",
       "      <td>0.235</td>\n",
       "    </tr>\n",
       "    <tr>\n",
       "      <th>2018-03-20</th>\n",
       "      <td>0.254</td>\n",
       "      <td>0.508</td>\n",
       "      <td>0.237</td>\n",
       "    </tr>\n",
       "    <tr>\n",
       "      <th>2018-03-29</th>\n",
       "      <td>0.273</td>\n",
       "      <td>0.496</td>\n",
       "      <td>0.231</td>\n",
       "    </tr>\n",
       "    <tr>\n",
       "      <th>2018-04-30</th>\n",
       "      <td>0.281</td>\n",
       "      <td>0.469</td>\n",
       "      <td>0.250</td>\n",
       "    </tr>\n",
       "  </tbody>\n",
       "</table>\n",
       "</div>"
      ],
      "text/plain": [
       "               A     B     C\n",
       "2018-01-31 0.300 0.500 0.200\n",
       "2018-02-10 0.378 0.420 0.202\n",
       "2018-02-20 0.346 0.385 0.269\n",
       "2018-02-28 0.287 0.478 0.235\n",
       "2018-03-20 0.254 0.508 0.237\n",
       "2018-03-29 0.273 0.496 0.231\n",
       "2018-04-30 0.281 0.469 0.250"
      ]
     },
     "execution_count": 38,
     "metadata": {},
     "output_type": "execute_result"
    },
    {
     "data": {
      "text/plain": [
       "'각 행의 값의 합은 항상 1로 유지'"
      ]
     },
     "execution_count": 38,
     "metadata": {},
     "output_type": "execute_result"
    }
   ],
   "source": [
    "port_weight_df = asset_flow_df.divide(asset_flow_df.sum(axis=1), axis=0)\n",
    "port_weight_df\n",
    "\n",
    "\"\"\"각 행의 값의 합은 항상 1로 유지\"\"\"\n",
    "for i in range(len(port_weight_df)):\n",
    "    assert sum(port_weight_df.iloc[i]) == 1\n",
    "assert port_weight_df.sum(axis=1).sum() == len(port_weight_df)"
   ]
  },
  {
   "cell_type": "markdown",
   "metadata": {},
   "source": [
    "### 2.1.4. 최종 portfolio return 구하기"
   ]
  },
  {
   "cell_type": "code",
   "execution_count": 39,
   "metadata": {},
   "outputs": [
    {
     "data": {
      "text/html": [
       "<div>\n",
       "<style scoped>\n",
       "    .dataframe tbody tr th:only-of-type {\n",
       "        vertical-align: middle;\n",
       "    }\n",
       "\n",
       "    .dataframe tbody tr th {\n",
       "        vertical-align: top;\n",
       "    }\n",
       "\n",
       "    .dataframe thead th {\n",
       "        text-align: right;\n",
       "    }\n",
       "</style>\n",
       "<table border=\"1\" class=\"dataframe\">\n",
       "  <thead>\n",
       "    <tr style=\"text-align: right;\">\n",
       "      <th></th>\n",
       "      <th>A</th>\n",
       "      <th>B</th>\n",
       "      <th>C</th>\n",
       "    </tr>\n",
       "  </thead>\n",
       "  <tbody>\n",
       "    <tr>\n",
       "      <th>2018-01-31</th>\n",
       "      <td>0.150</td>\n",
       "      <td>0.000</td>\n",
       "      <td>0.040</td>\n",
       "    </tr>\n",
       "    <tr>\n",
       "      <th>2018-02-10</th>\n",
       "      <td>-0.076</td>\n",
       "      <td>-0.084</td>\n",
       "      <td>0.034</td>\n",
       "    </tr>\n",
       "    <tr>\n",
       "      <th>2018-02-20</th>\n",
       "      <td>0.029</td>\n",
       "      <td>0.240</td>\n",
       "      <td>0.038</td>\n",
       "    </tr>\n",
       "    <tr>\n",
       "      <th>2018-02-28</th>\n",
       "      <td>-0.066</td>\n",
       "      <td>-0.037</td>\n",
       "      <td>-0.029</td>\n",
       "    </tr>\n",
       "    <tr>\n",
       "      <th>2018-03-20</th>\n",
       "      <td>0.025</td>\n",
       "      <td>0.000</td>\n",
       "      <td>0.000</td>\n",
       "    </tr>\n",
       "    <tr>\n",
       "      <th>2018-03-29</th>\n",
       "      <td>0.025</td>\n",
       "      <td>0.000</td>\n",
       "      <td>0.033</td>\n",
       "    </tr>\n",
       "    <tr>\n",
       "      <th>2018-04-30</th>\n",
       "      <td>0.000</td>\n",
       "      <td>0.000</td>\n",
       "      <td>0.000</td>\n",
       "    </tr>\n",
       "  </tbody>\n",
       "</table>\n",
       "</div>"
      ],
      "text/plain": [
       "                A      B      C\n",
       "2018-01-31  0.150  0.000  0.040\n",
       "2018-02-10 -0.076 -0.084  0.034\n",
       "2018-02-20  0.029  0.240  0.038\n",
       "2018-02-28 -0.066 -0.037 -0.029\n",
       "2018-03-20  0.025  0.000  0.000\n",
       "2018-03-29  0.025  0.000  0.033\n",
       "2018-04-30  0.000  0.000  0.000"
      ]
     },
     "execution_count": 39,
     "metadata": {},
     "output_type": "execute_result"
    }
   ],
   "source": [
    "net_rtn_df = port_weight_df * shifted_rtn_df\n",
    "net_rtn_df"
   ]
  },
  {
   "cell_type": "code",
   "execution_count": 40,
   "metadata": {},
   "outputs": [
    {
     "data": {
      "text/plain": [
       "'계산을 위해 shift(-1) 했던 부분을 되돌리는 작업'"
      ]
     },
     "execution_count": 40,
     "metadata": {},
     "output_type": "execute_result"
    },
    {
     "data": {
      "text/html": [
       "<div>\n",
       "<style scoped>\n",
       "    .dataframe tbody tr th:only-of-type {\n",
       "        vertical-align: middle;\n",
       "    }\n",
       "\n",
       "    .dataframe tbody tr th {\n",
       "        vertical-align: top;\n",
       "    }\n",
       "\n",
       "    .dataframe thead th {\n",
       "        text-align: right;\n",
       "    }\n",
       "</style>\n",
       "<table border=\"1\" class=\"dataframe\">\n",
       "  <thead>\n",
       "    <tr style=\"text-align: right;\">\n",
       "      <th></th>\n",
       "      <th>A</th>\n",
       "      <th>B</th>\n",
       "      <th>C</th>\n",
       "    </tr>\n",
       "  </thead>\n",
       "  <tbody>\n",
       "    <tr>\n",
       "      <th>2018-01-31</th>\n",
       "      <td>0.000</td>\n",
       "      <td>0.000</td>\n",
       "      <td>0.000</td>\n",
       "    </tr>\n",
       "    <tr>\n",
       "      <th>2018-02-10</th>\n",
       "      <td>0.150</td>\n",
       "      <td>0.000</td>\n",
       "      <td>0.040</td>\n",
       "    </tr>\n",
       "    <tr>\n",
       "      <th>2018-02-20</th>\n",
       "      <td>-0.076</td>\n",
       "      <td>-0.084</td>\n",
       "      <td>0.034</td>\n",
       "    </tr>\n",
       "    <tr>\n",
       "      <th>2018-02-28</th>\n",
       "      <td>0.029</td>\n",
       "      <td>0.240</td>\n",
       "      <td>0.038</td>\n",
       "    </tr>\n",
       "    <tr>\n",
       "      <th>2018-03-20</th>\n",
       "      <td>-0.066</td>\n",
       "      <td>-0.037</td>\n",
       "      <td>-0.029</td>\n",
       "    </tr>\n",
       "    <tr>\n",
       "      <th>2018-03-29</th>\n",
       "      <td>0.025</td>\n",
       "      <td>0.000</td>\n",
       "      <td>0.000</td>\n",
       "    </tr>\n",
       "    <tr>\n",
       "      <th>2018-04-30</th>\n",
       "      <td>0.025</td>\n",
       "      <td>0.000</td>\n",
       "      <td>0.033</td>\n",
       "    </tr>\n",
       "  </tbody>\n",
       "</table>\n",
       "</div>"
      ],
      "text/plain": [
       "                A      B      C\n",
       "2018-01-31  0.000  0.000  0.000\n",
       "2018-02-10  0.150  0.000  0.040\n",
       "2018-02-20 -0.076 -0.084  0.034\n",
       "2018-02-28  0.029  0.240  0.038\n",
       "2018-03-20 -0.066 -0.037 -0.029\n",
       "2018-03-29  0.025  0.000  0.000\n",
       "2018-04-30  0.025  0.000  0.033"
      ]
     },
     "execution_count": 40,
     "metadata": {},
     "output_type": "execute_result"
    }
   ],
   "source": [
    "\"\"\"계산을 위해 shift(-1) 했던 부분을 되돌리는 작업\"\"\"\n",
    "net_rtn_df = net_rtn_df.shift(1).fillna(0)\n",
    "net_rtn_df"
   ]
  },
  {
   "cell_type": "code",
   "execution_count": 41,
   "metadata": {},
   "outputs": [
    {
     "data": {
      "text/plain": [
       "'일별 포트폴리오 수익률 Series'"
      ]
     },
     "execution_count": 41,
     "metadata": {},
     "output_type": "execute_result"
    },
    {
     "data": {
      "text/plain": [
       "2018-01-31    0.000\n",
       "2018-02-10    0.190\n",
       "2018-02-20   -0.126\n",
       "2018-02-28    0.308\n",
       "2018-03-20   -0.132\n",
       "2018-03-29    0.025\n",
       "2018-04-30    0.058\n",
       "dtype: float64"
      ]
     },
     "execution_count": 41,
     "metadata": {},
     "output_type": "execute_result"
    }
   ],
   "source": [
    "\"\"\"일별 포트폴리오 수익률 Series\"\"\"\n",
    "rtn_series = net_rtn_df.sum(axis=1)\n",
    "rtn_series"
   ]
  },
  {
   "cell_type": "code",
   "execution_count": 42,
   "metadata": {},
   "outputs": [
    {
     "data": {
      "text/plain": [
       "'일별 포트폴리오 누적 수익률 Series'"
      ]
     },
     "execution_count": 42,
     "metadata": {},
     "output_type": "execute_result"
    },
    {
     "data": {
      "text/plain": [
       "2018-01-31   1.000\n",
       "2018-02-10   1.190\n",
       "2018-02-20   1.040\n",
       "2018-02-28   1.360\n",
       "2018-03-20   1.180\n",
       "2018-03-29   1.210\n",
       "2018-04-30   1.280\n",
       "dtype: float64"
      ]
     },
     "execution_count": 42,
     "metadata": {},
     "output_type": "execute_result"
    },
    {
     "data": {
      "text/plain": [
       "<AxesSubplot:title={'center':'Buy & Hold 누적 수익률'}>"
      ]
     },
     "execution_count": 42,
     "metadata": {},
     "output_type": "execute_result"
    },
    {
     "data": {
      "image/png": "[encoded data removed]",
      "text/plain": [
       "<Figure size 1440x504 with 1 Axes>"
      ]
     },
     "metadata": {
      "needs_background": "light"
     },
     "output_type": "display_data"
    }
   ],
   "source": [
    "\"\"\"일별 포트폴리오 누적 수익률 Series\"\"\"\n",
    "(rtn_series + 1).cumprod()\n",
    "(rtn_series + 1).cumprod().plot(figsize=(20, 7), title=\"Buy & Hold 누적 수익률\")"
   ]
  },
  {
   "cell_type": "markdown",
   "metadata": {},
   "source": [
    "### 2.1.5. 개별종목 portval 구하기 - 두 번째 구현 방법\n",
    "\n",
    "- \"buy & hold\"일 경우 이전에 구한 `asset_flow_df`와 동일"
   ]
  },
  {
   "cell_type": "code",
   "execution_count": 43,
   "metadata": {},
   "outputs": [
    {
     "data": {
      "text/html": [
       "<div>\n",
       "<style scoped>\n",
       "    .dataframe tbody tr th:only-of-type {\n",
       "        vertical-align: middle;\n",
       "    }\n",
       "\n",
       "    .dataframe tbody tr th {\n",
       "        vertical-align: top;\n",
       "    }\n",
       "\n",
       "    .dataframe thead th {\n",
       "        text-align: right;\n",
       "    }\n",
       "</style>\n",
       "<table border=\"1\" class=\"dataframe\">\n",
       "  <thead>\n",
       "    <tr style=\"text-align: right;\">\n",
       "      <th></th>\n",
       "      <th>A portval</th>\n",
       "      <th>B portval</th>\n",
       "      <th>Total portval</th>\n",
       "    </tr>\n",
       "  </thead>\n",
       "  <tbody>\n",
       "    <tr>\n",
       "      <th>0</th>\n",
       "      <td>10</td>\n",
       "      <td>40</td>\n",
       "      <td>50</td>\n",
       "    </tr>\n",
       "    <tr>\n",
       "      <th>1</th>\n",
       "      <td>12</td>\n",
       "      <td>35</td>\n",
       "      <td>47</td>\n",
       "    </tr>\n",
       "    <tr>\n",
       "      <th>2</th>\n",
       "      <td>11</td>\n",
       "      <td>37</td>\n",
       "      <td>48</td>\n",
       "    </tr>\n",
       "    <tr>\n",
       "      <th>3</th>\n",
       "      <td>5</td>\n",
       "      <td>41</td>\n",
       "      <td>46</td>\n",
       "    </tr>\n",
       "  </tbody>\n",
       "</table>\n",
       "</div>"
      ],
      "text/plain": [
       "   A portval  B portval  Total portval\n",
       "0         10         40             50\n",
       "1         12         35             47\n",
       "2         11         37             48\n",
       "3          5         41             46"
      ]
     },
     "execution_count": 43,
     "metadata": {},
     "output_type": "execute_result"
    }
   ],
   "source": [
    "_df = pd.DataFrame({\n",
    "    \"A portval\": [10, 12, 11, 5],\n",
    "    \"B portval\": [40, 35, 37, 41],\n",
    "    \"Total portval\": [50, 47, 48, 46]\n",
    "})\n",
    "_df"
   ]
  },
  {
   "cell_type": "markdown",
   "metadata": {},
   "source": [
    "#### `asset_flow_df`가 개별 portval df인 이유 1\n",
    "\n",
    "- $A(1 + r_{a1}) \\rightarrow A(1 + r_{a1})(1 + r_{a2}) \\rightarrow A(1 + r_{a1})(1 + r_{a2})(1 + r_{a3}) \\rightarrow \\dots$\n",
    "- $0.1A(1 + r_{a1}) \\rightarrow 0.1A(1 + r_{a1})(1 + r_{a2}) \\rightarrow 0.1A(1 + r_{a1})(1 + r_{a2})(1 + r_{a3}) \\rightarrow \\dots$\n",
    "- 처음 설정한 자산 $0.1A$에 $A$의 수익률이 그대로 복리 계산이 되기 때문에 계산이 망가지지 않는다."
   ]
  },
  {
   "cell_type": "code",
   "execution_count": 44,
   "metadata": {},
   "outputs": [
    {
     "data": {
      "text/html": [
       "<div>\n",
       "<style scoped>\n",
       "    .dataframe tbody tr th:only-of-type {\n",
       "        vertical-align: middle;\n",
       "    }\n",
       "\n",
       "    .dataframe tbody tr th {\n",
       "        vertical-align: top;\n",
       "    }\n",
       "\n",
       "    .dataframe thead th {\n",
       "        text-align: right;\n",
       "    }\n",
       "</style>\n",
       "<table border=\"1\" class=\"dataframe\">\n",
       "  <thead>\n",
       "    <tr style=\"text-align: right;\">\n",
       "      <th></th>\n",
       "      <th>A</th>\n",
       "      <th>B</th>\n",
       "      <th>C</th>\n",
       "    </tr>\n",
       "  </thead>\n",
       "  <tbody>\n",
       "    <tr>\n",
       "      <th>2018-01-31</th>\n",
       "      <td>0.300</td>\n",
       "      <td>0.500</td>\n",
       "      <td>0.200</td>\n",
       "    </tr>\n",
       "    <tr>\n",
       "      <th>2018-02-10</th>\n",
       "      <td>0.450</td>\n",
       "      <td>0.500</td>\n",
       "      <td>0.240</td>\n",
       "    </tr>\n",
       "    <tr>\n",
       "      <th>2018-02-20</th>\n",
       "      <td>0.360</td>\n",
       "      <td>0.400</td>\n",
       "      <td>0.280</td>\n",
       "    </tr>\n",
       "    <tr>\n",
       "      <th>2018-02-28</th>\n",
       "      <td>0.390</td>\n",
       "      <td>0.650</td>\n",
       "      <td>0.320</td>\n",
       "    </tr>\n",
       "    <tr>\n",
       "      <th>2018-03-20</th>\n",
       "      <td>0.300</td>\n",
       "      <td>0.600</td>\n",
       "      <td>0.280</td>\n",
       "    </tr>\n",
       "    <tr>\n",
       "      <th>2018-03-29</th>\n",
       "      <td>0.330</td>\n",
       "      <td>0.600</td>\n",
       "      <td>0.280</td>\n",
       "    </tr>\n",
       "    <tr>\n",
       "      <th>2018-04-30</th>\n",
       "      <td>0.360</td>\n",
       "      <td>0.600</td>\n",
       "      <td>0.320</td>\n",
       "    </tr>\n",
       "  </tbody>\n",
       "</table>\n",
       "</div>"
      ],
      "text/plain": [
       "               A     B     C\n",
       "2018-01-31 0.300 0.500 0.200\n",
       "2018-02-10 0.450 0.500 0.240\n",
       "2018-02-20 0.360 0.400 0.280\n",
       "2018-02-28 0.390 0.650 0.320\n",
       "2018-03-20 0.300 0.600 0.280\n",
       "2018-03-29 0.330 0.600 0.280\n",
       "2018-04-30 0.360 0.600 0.320"
      ]
     },
     "execution_count": 44,
     "metadata": {},
     "output_type": "execute_result"
    }
   ],
   "source": [
    "individual_cum_rtn_df = cum_rtn_df * WEIGHTS\n",
    "individual_cum_rtn_df"
   ]
  },
  {
   "cell_type": "code",
   "execution_count": 45,
   "metadata": {},
   "outputs": [
    {
     "data": {
      "text/plain": [
       "'portval'"
      ]
     },
     "execution_count": 45,
     "metadata": {},
     "output_type": "execute_result"
    },
    {
     "data": {
      "text/plain": [
       "2018-01-31   1.000\n",
       "2018-02-10   1.190\n",
       "2018-02-20   1.040\n",
       "2018-02-28   1.360\n",
       "2018-03-20   1.180\n",
       "2018-03-29   1.210\n",
       "2018-04-30   1.280\n",
       "dtype: float64"
      ]
     },
     "execution_count": 45,
     "metadata": {},
     "output_type": "execute_result"
    }
   ],
   "source": [
    "\"\"\"portval\"\"\"\n",
    "individual_cum_rtn_df.sum(axis=1)"
   ]
  },
  {
   "cell_type": "markdown",
   "metadata": {},
   "source": [
    "#### `asset_flow_df`가 개별 portval df인 이유 2\n",
    "\n",
    "> 직접 식으로 표현하고 비교하기 - e.g. A : B = 40 : 60 전략\n",
    "\n",
    "##### individual 관점\n",
    "\n",
    "- day 1\n",
    "  - A: $0.4$\n",
    "  - B: $0.6$\n",
    "  - +: $1$\n",
    "- day 2\n",
    "  - A: $0.4(1 + r_{a1})$\n",
    "  - B: $0.6(1 + r_{b1})$\n",
    "  - +: $1 + 0.4r_{a1} + 0.6r_{b1}$\n",
    "- day 3\n",
    "  - A: $0.4(1 + r_{a1})(1 + r_{a2}) = 0.4(1 + r_{a1} + r_{a2} + r_{a1}r_{a2})$\n",
    "  - B: $0.6(1 + r_{b1})(1 + r_{b2}) = 0.4(1 + r_{b1} + r_{b2} + r_{b1}r_{b2})$\n",
    "  - +: $1 + 0.4(r_{a1} + r_{a2} + r_{a1}r_{a2}) + 0.6(r_{b1} + r_{b2} + r_{b1}r_{b2})$\n",
    "    - $(1 + 0.4r_{a1} + 0.6r_{b1}) + 0.4(r_{a2} + r_{a1}r_{a2}) + 0.6(r_{b2} + r_{b1}r_{b2})$"
   ]
  },
  {
   "cell_type": "markdown",
   "metadata": {},
   "source": [
    "##### portfolio 관점\n",
    "\n",
    "- day 1\n",
    "  - $1$\n",
    "- day 2\n",
    "  - $1 \\times (1 + (0.4r_{a1} + 0.6r_{b1}))$\n",
    "- day 3\n",
    "  - $1 \\times (1 + (0.4r_{a1} + 0.6r_{b1})) \\times (1 + \\dots)$\n",
    "\n",
    "$$\n",
    "\\begin{aligned}\n",
    "1 \\times (1 + 0.4r_{a1} + 0.6r_{b1}) \\times (1 + \\dots)\n",
    "&= 1 \\times (1 + 0.4r_{a1} + 0.6r_{b1}) \\times\n",
    "(1 + \\frac{0.4(1 + r_{a1}) \\times r_{a2}}{0.4(1 + r_{a1}) + 0.6(1 + r_{b1})} + \n",
    "\\frac{0.6(1 + r_{b1}) \\times r_{b2}}{0.4(1 + r_{a1}) + 0.6(1 + r_{b1})})\\\\\n",
    "&= 1 \\times (1 + 0.4r_{a1} + 0.6r_{b1}) \\times\n",
    "(1 + \\frac{0.4(1 + r_{a1}) \\times r_{a2} + 0.6(1 + r_{b1}) \\times r_{b2}}{0.4(1 + r_{a1}) + 0.6(1 + r_{b1})}) \\\\\n",
    "&= 1 \\times (1 + 0.4r_{a1} + 0.6r_{b1}) \\times\n",
    "(1 + \\frac{0.4(1 + r_{a1}) \\times r_{a2} + 0.6(1 + r_{b1}) \\times r_{b2}}{1 + 0.4r_{a1} + 0.6r_{b1}}) \\\\\n",
    "&= 1 \\times ((1 + 0.4r_{a1} + 0.6r_{b1}) + (0.4(1 + r_{a1}) \\times r_{a2} + 0.6(1 + r_{b1}) \\times r_{b2})) \\\\\n",
    "&= 1 \\times (1 + 0.4r_{a1} + 0.6r_{b1} + 0.4r_{a2} + 0.4r_{a1}r_{a2} + 0.6r_{b2} + 0.6r_{b1}r_{b2}) \\\\\n",
    "&= 1 \\times ((1 + 0.4r_{a1} + 0.6r_{b1}) + (0.4(r_{a2} + r_{a1}r_{a2}) + 0.6(r_{b2} + r_{b1}r_{b2}))) \\\\\n",
    "&= (1 + 0.4r_{a1} + 0.6r_{b1}) + 0.4(r_{a2} + r_{a1}r_{a2}) + 0.6(r_{b2} + r_{b1}r_{b2})\n",
    "\\end{aligned}\n",
    "$$"
   ]
  },
  {
   "cell_type": "markdown",
   "metadata": {},
   "source": [
    "## 2.2. 실수할 만한 내용"
   ]
  },
  {
   "cell_type": "code",
   "execution_count": 46,
   "metadata": {},
   "outputs": [
    {
     "data": {
      "text/html": [
       "<div>\n",
       "<style scoped>\n",
       "    .dataframe tbody tr th:only-of-type {\n",
       "        vertical-align: middle;\n",
       "    }\n",
       "\n",
       "    .dataframe tbody tr th {\n",
       "        vertical-align: top;\n",
       "    }\n",
       "\n",
       "    .dataframe thead th {\n",
       "        text-align: right;\n",
       "    }\n",
       "</style>\n",
       "<table border=\"1\" class=\"dataframe\">\n",
       "  <thead>\n",
       "    <tr style=\"text-align: right;\">\n",
       "      <th></th>\n",
       "      <th>A</th>\n",
       "      <th>B</th>\n",
       "      <th>C</th>\n",
       "    </tr>\n",
       "  </thead>\n",
       "  <tbody>\n",
       "    <tr>\n",
       "      <th>2018-01-31</th>\n",
       "      <td>10</td>\n",
       "      <td>10</td>\n",
       "      <td>10</td>\n",
       "    </tr>\n",
       "    <tr>\n",
       "      <th>2018-02-10</th>\n",
       "      <td>15</td>\n",
       "      <td>10</td>\n",
       "      <td>12</td>\n",
       "    </tr>\n",
       "    <tr>\n",
       "      <th>2018-02-20</th>\n",
       "      <td>12</td>\n",
       "      <td>8</td>\n",
       "      <td>14</td>\n",
       "    </tr>\n",
       "    <tr>\n",
       "      <th>2018-02-28</th>\n",
       "      <td>13</td>\n",
       "      <td>13</td>\n",
       "      <td>16</td>\n",
       "    </tr>\n",
       "    <tr>\n",
       "      <th>2018-03-20</th>\n",
       "      <td>10</td>\n",
       "      <td>12</td>\n",
       "      <td>14</td>\n",
       "    </tr>\n",
       "  </tbody>\n",
       "</table>\n",
       "</div>"
      ],
      "text/plain": [
       "             A   B   C\n",
       "2018-01-31  10  10  10\n",
       "2018-02-10  15  10  12\n",
       "2018-02-20  12   8  14\n",
       "2018-02-28  13  13  16\n",
       "2018-03-20  10  12  14"
      ]
     },
     "execution_count": 46,
     "metadata": {},
     "output_type": "execute_result"
    }
   ],
   "source": [
    "df.head()"
   ]
  },
  {
   "cell_type": "code",
   "execution_count": 50,
   "metadata": {},
   "outputs": [
    {
     "data": {
      "text/plain": [
       "'왜 결과가 다를까'"
      ]
     },
     "execution_count": 50,
     "metadata": {},
     "output_type": "execute_result"
    },
    {
     "data": {
      "text/plain": [
       "2018-01-31   1.000\n",
       "2018-02-10   1.233\n",
       "2018-02-20   1.133\n",
       "2018-02-28   1.400\n",
       "2018-03-20   1.200\n",
       "2018-03-29   1.233\n",
       "2018-04-30   1.333\n",
       "dtype: float64"
      ]
     },
     "execution_count": 50,
     "metadata": {},
     "output_type": "execute_result"
    },
    {
     "data": {
      "text/plain": [
       "2018-01-31   1.000\n",
       "2018-02-10   1.233\n",
       "2018-02-20   1.137\n",
       "2018-02-28   1.460\n",
       "2018-03-20   1.250\n",
       "2018-03-29   1.291\n",
       "2018-04-30   1.392\n",
       "dtype: float64"
      ]
     },
     "execution_count": 50,
     "metadata": {},
     "output_type": "execute_result"
    },
    {
     "data": {
      "text/plain": [
       "'매일 반영된 weight가 틀어졌기 때문이다.'"
      ]
     },
     "execution_count": 50,
     "metadata": {},
     "output_type": "execute_result"
    },
    {
     "data": {
      "text/plain": [
       "'cumulative * weight != return * weight'"
      ]
     },
     "execution_count": 50,
     "metadata": {},
     "output_type": "execute_result"
    }
   ],
   "source": [
    "rtn_df = utils.get_returns_df(df, log=False)\n",
    "cum_rtn_df = df / df.iloc[0]\n",
    "\n",
    "a_1 = (cum_rtn_df * (1 / 3)).sum(axis=1)\n",
    "a_2 = ((rtn_df * (1 / 3)).sum(axis=1) + 1).cumprod()\n",
    "\n",
    "\"\"\"왜 결과가 다를까\"\"\"\n",
    "a_1\n",
    "a_2\n",
    "\n",
    "\"\"\"매일 반영된 weight가 틀어졌기 때문이다.\"\"\"\n",
    "\"\"\"cumulative * weight != return * weight\"\"\""
   ]
  },
  {
   "cell_type": "markdown",
   "metadata": {},
   "source": [
    "## 2.3. 주의사항\n",
    "\n",
    "- 2018/1/1부터 0.5/0.5씩 들고 있는 것과 2018/10/1부터 0.5/0.5씩 들고 있는 것은 결과가 다르다."
   ]
  },
  {
   "cell_type": "code",
   "execution_count": 51,
   "metadata": {},
   "outputs": [
    {
     "data": {
      "text/html": [
       "<div>\n",
       "<style scoped>\n",
       "    .dataframe tbody tr th:only-of-type {\n",
       "        vertical-align: middle;\n",
       "    }\n",
       "\n",
       "    .dataframe tbody tr th {\n",
       "        vertical-align: top;\n",
       "    }\n",
       "\n",
       "    .dataframe thead th {\n",
       "        text-align: right;\n",
       "    }\n",
       "</style>\n",
       "<table border=\"1\" class=\"dataframe\">\n",
       "  <thead>\n",
       "    <tr style=\"text-align: right;\">\n",
       "      <th></th>\n",
       "      <th>IEF</th>\n",
       "      <th>QQQ</th>\n",
       "      <th>SHY</th>\n",
       "      <th>SPY</th>\n",
       "      <th>TLT</th>\n",
       "    </tr>\n",
       "    <tr>\n",
       "      <th>date_time</th>\n",
       "      <th></th>\n",
       "      <th></th>\n",
       "      <th></th>\n",
       "      <th></th>\n",
       "      <th></th>\n",
       "    </tr>\n",
       "  </thead>\n",
       "  <tbody>\n",
       "    <tr>\n",
       "      <th>2002-07-26</th>\n",
       "      <td>48.724</td>\n",
       "      <td>19.653</td>\n",
       "      <td>59.443</td>\n",
       "      <td>59.178</td>\n",
       "      <td>43.084</td>\n",
       "    </tr>\n",
       "    <tr>\n",
       "      <th>2002-07-29</th>\n",
       "      <td>48.153</td>\n",
       "      <td>20.658</td>\n",
       "      <td>59.245</td>\n",
       "      <td>61.989</td>\n",
       "      <td>42.504</td>\n",
       "    </tr>\n",
       "    <tr>\n",
       "      <th>2002-07-30</th>\n",
       "      <td>48.124</td>\n",
       "      <td>21.075</td>\n",
       "      <td>59.223</td>\n",
       "      <td>62.797</td>\n",
       "      <td>42.567</td>\n",
       "    </tr>\n",
       "    <tr>\n",
       "      <th>2002-07-31</th>\n",
       "      <td>48.565</td>\n",
       "      <td>20.676</td>\n",
       "      <td>59.406</td>\n",
       "      <td>62.976</td>\n",
       "      <td>43.094</td>\n",
       "    </tr>\n",
       "    <tr>\n",
       "      <th>2002-08-01</th>\n",
       "      <td>48.765</td>\n",
       "      <td>19.705</td>\n",
       "      <td>59.523</td>\n",
       "      <td>61.305</td>\n",
       "      <td>43.340</td>\n",
       "    </tr>\n",
       "  </tbody>\n",
       "</table>\n",
       "</div>"
      ],
      "text/plain": [
       "              IEF    QQQ    SHY    SPY    TLT\n",
       "date_time                                    \n",
       "2002-07-26 48.724 19.653 59.443 59.178 43.084\n",
       "2002-07-29 48.153 20.658 59.245 61.989 42.504\n",
       "2002-07-30 48.124 21.075 59.223 62.797 42.567\n",
       "2002-07-31 48.565 20.676 59.406 62.976 43.094\n",
       "2002-08-01 48.765 19.705 59.523 61.305 43.340"
      ]
     },
     "execution_count": 51,
     "metadata": {},
     "output_type": "execute_result"
    }
   ],
   "source": [
    "df = pd.read_csv(\"class_materials/data/us_etf_1.csv\", index_col=0)\n",
    "df.index = pd.to_datetime(df.index)\n",
    "df.head()"
   ]
  },
  {
   "cell_type": "code",
   "execution_count": 57,
   "metadata": {},
   "outputs": [
    {
     "data": {
      "image/png": "[encoded data removed]",
      "text/plain": [
       "<Figure size 1440x504 with 1 Axes>"
      ]
     },
     "metadata": {
      "needs_background": "light"
     },
     "output_type": "display_data"
    }
   ],
   "source": [
    "df_1 = df.loc[\"2017-01-01\":]\n",
    "cum_rtn_df = df_1 / df_1.iloc[0]\n",
    "\n",
    "cum_rtn_df.plot(figsize=(20, 7));"
   ]
  },
  {
   "cell_type": "code",
   "execution_count": 54,
   "metadata": {},
   "outputs": [
    {
     "data": {
      "image/png": "[encoded data removed]",
      "text/plain": [
       "<Figure size 1440x504 with 1 Axes>"
      ]
     },
     "metadata": {
      "needs_background": "light"
     },
     "output_type": "display_data"
    }
   ],
   "source": [
    "allocation = [0.2] * 5\n",
    "allocation_df = cum_rtn_df * allocation\n",
    "\n",
    "allocation_df.sum(axis=1).plot(figsize=(20, 7));"
   ]
  },
  {
   "cell_type": "code",
   "execution_count": 58,
   "metadata": {},
   "outputs": [],
   "source": [
    "df_2 = cum_rtn_df.loc[\"2020-01-02\":]\n",
    "cum_rtn_df_2 = df_2 / df_2.iloc[0]\n",
    "allocation_df_2 = cum_rtn_df_2 * allocation"
   ]
  },
  {
   "cell_type": "code",
   "execution_count": 59,
   "metadata": {},
   "outputs": [
    {
     "data": {
      "image/png": "[encoded data removed]",
      "text/plain": [
       "<Figure size 1440x504 with 1 Axes>"
      ]
     },
     "metadata": {
      "needs_background": "light"
     },
     "output_type": "display_data"
    }
   ],
   "source": [
    "ax = allocation_df.sum(axis=1).plot(figsize=(20, 7))\n",
    "allocation_df_2.sum(axis=1).plot(ax=ax);"
   ]
  },
  {
   "cell_type": "code",
   "execution_count": 60,
   "metadata": {},
   "outputs": [
    {
     "data": {
      "text/html": [
       "<div>\n",
       "<style scoped>\n",
       "    .dataframe tbody tr th:only-of-type {\n",
       "        vertical-align: middle;\n",
       "    }\n",
       "\n",
       "    .dataframe tbody tr th {\n",
       "        vertical-align: top;\n",
       "    }\n",
       "\n",
       "    .dataframe thead th {\n",
       "        text-align: right;\n",
       "    }\n",
       "</style>\n",
       "<table border=\"1\" class=\"dataframe\">\n",
       "  <thead>\n",
       "    <tr style=\"text-align: right;\">\n",
       "      <th></th>\n",
       "      <th>IEF</th>\n",
       "      <th>QQQ</th>\n",
       "      <th>SHY</th>\n",
       "      <th>SPY</th>\n",
       "      <th>TLT</th>\n",
       "    </tr>\n",
       "    <tr>\n",
       "      <th>date_time</th>\n",
       "      <th></th>\n",
       "      <th></th>\n",
       "      <th></th>\n",
       "      <th></th>\n",
       "      <th></th>\n",
       "    </tr>\n",
       "  </thead>\n",
       "  <tbody>\n",
       "    <tr>\n",
       "      <th>2020-01-02</th>\n",
       "      <td>0.200</td>\n",
       "      <td>0.200</td>\n",
       "      <td>0.200</td>\n",
       "      <td>0.200</td>\n",
       "      <td>0.200</td>\n",
       "    </tr>\n",
       "    <tr>\n",
       "      <th>2020-01-03</th>\n",
       "      <td>0.201</td>\n",
       "      <td>0.198</td>\n",
       "      <td>0.200</td>\n",
       "      <td>0.198</td>\n",
       "      <td>0.203</td>\n",
       "    </tr>\n",
       "    <tr>\n",
       "      <th>2020-01-06</th>\n",
       "      <td>0.201</td>\n",
       "      <td>0.199</td>\n",
       "      <td>0.200</td>\n",
       "      <td>0.199</td>\n",
       "      <td>0.202</td>\n",
       "    </tr>\n",
       "    <tr>\n",
       "      <th>2020-01-07</th>\n",
       "      <td>0.201</td>\n",
       "      <td>0.199</td>\n",
       "      <td>0.200</td>\n",
       "      <td>0.199</td>\n",
       "      <td>0.201</td>\n",
       "    </tr>\n",
       "    <tr>\n",
       "      <th>2020-01-08</th>\n",
       "      <td>0.200</td>\n",
       "      <td>0.201</td>\n",
       "      <td>0.200</td>\n",
       "      <td>0.200</td>\n",
       "      <td>0.200</td>\n",
       "    </tr>\n",
       "  </tbody>\n",
       "</table>\n",
       "</div>"
      ],
      "text/plain": [
       "             IEF   QQQ   SHY   SPY   TLT\n",
       "date_time                               \n",
       "2020-01-02 0.200 0.200 0.200 0.200 0.200\n",
       "2020-01-03 0.201 0.198 0.200 0.198 0.203\n",
       "2020-01-06 0.201 0.199 0.200 0.199 0.202\n",
       "2020-01-07 0.201 0.199 0.200 0.199 0.201\n",
       "2020-01-08 0.200 0.201 0.200 0.200 0.200"
      ]
     },
     "execution_count": 60,
     "metadata": {},
     "output_type": "execute_result"
    }
   ],
   "source": [
    "allocation_df_2.head()"
   ]
  },
  {
   "cell_type": "code",
   "execution_count": 62,
   "metadata": {},
   "outputs": [
    {
     "data": {
      "text/plain": [
       "IEF   0.225\n",
       "QQQ   0.371\n",
       "SHY   0.211\n",
       "SPY   0.305\n",
       "TLT   0.247\n",
       "Name: 2020-01-02 00:00:00, dtype: float64"
      ]
     },
     "execution_count": 62,
     "metadata": {},
     "output_type": "execute_result"
    },
    {
     "data": {
      "text/plain": [
       "1.3588167271181084"
      ]
     },
     "execution_count": 62,
     "metadata": {},
     "output_type": "execute_result"
    }
   ],
   "source": [
    "allocation_df.loc[\"2020-01-02\"]\n",
    "allocation_df.loc[\"2020-01-02\"].sum()"
   ]
  },
  {
   "cell_type": "code",
   "execution_count": 63,
   "metadata": {},
   "outputs": [
    {
     "data": {
      "image/png": "[encoded data removed]",
      "text/plain": [
       "<Figure size 1440x504 with 1 Axes>"
      ]
     },
     "metadata": {
      "needs_background": "light"
     },
     "output_type": "display_data"
    }
   ],
   "source": [
    "ax = allocation_df.sum(axis=1).plot(figsize=(20, 7))\n",
    "(allocation_df_2.sum(axis=1) * allocation_df.loc[\"2020-01-02\"].sum()).plot(ax=ax);"
   ]
  },
  {
   "cell_type": "markdown",
   "metadata": {},
   "source": [
    "# 3. Periodic Weight Rebalancing"
   ]
  },
  {
   "cell_type": "markdown",
   "metadata": {},
   "source": [
    "## 3.1. `Simple Return * Weight` 방법\n",
    "\n",
    "- recab\n",
    "  - `shifted_rtn_df`는 내 전략과 상관없이, 시장에서 각 종목 수익률을 담은 raw data\n",
    "  - `weight_df`는 전략 로직이 들어있는 데이터\n",
    "    - 중요한 점은 항상 `asset_flow_df`를 통해 구해야 한다는 것이다.\n",
    "    - 예를 들어, `[0.3, 0.5, 0.2]` 상태에서, 며칠 후 해당 자산들 비율이 `[0.29, 0.49, 0.19]`가 되고 할 것인데,\n",
    "      이런 자산의 흐름을 계산하는 `asset_flow_df`로 먼저구하고, 이 `dataframe`을 `axis=1` 방향으로 normalizing 하면 `weight_df`이다.\n",
    "  - 이 둘의 조합을 가지고 어떻게 포트폴리오를 표현할 것인가가 관건"
   ]
  },
  {
   "cell_type": "markdown",
   "metadata": {},
   "source": [
    "### 3.1.1. 구현"
   ]
  },
  {
   "cell_type": "code",
   "execution_count": 64,
   "metadata": {},
   "outputs": [
    {
     "data": {
      "text/html": [
       "<div>\n",
       "<style scoped>\n",
       "    .dataframe tbody tr th:only-of-type {\n",
       "        vertical-align: middle;\n",
       "    }\n",
       "\n",
       "    .dataframe tbody tr th {\n",
       "        vertical-align: top;\n",
       "    }\n",
       "\n",
       "    .dataframe thead th {\n",
       "        text-align: right;\n",
       "    }\n",
       "</style>\n",
       "<table border=\"1\" class=\"dataframe\">\n",
       "  <thead>\n",
       "    <tr style=\"text-align: right;\">\n",
       "      <th></th>\n",
       "      <th>A</th>\n",
       "      <th>B</th>\n",
       "      <th>C</th>\n",
       "    </tr>\n",
       "  </thead>\n",
       "  <tbody>\n",
       "    <tr>\n",
       "      <th>2018-01-31</th>\n",
       "      <td>10</td>\n",
       "      <td>10</td>\n",
       "      <td>10</td>\n",
       "    </tr>\n",
       "    <tr>\n",
       "      <th>2018-02-10</th>\n",
       "      <td>15</td>\n",
       "      <td>10</td>\n",
       "      <td>12</td>\n",
       "    </tr>\n",
       "    <tr>\n",
       "      <th>2018-02-20</th>\n",
       "      <td>12</td>\n",
       "      <td>8</td>\n",
       "      <td>14</td>\n",
       "    </tr>\n",
       "    <tr>\n",
       "      <th>2018-02-28</th>\n",
       "      <td>13</td>\n",
       "      <td>13</td>\n",
       "      <td>16</td>\n",
       "    </tr>\n",
       "    <tr>\n",
       "      <th>2018-03-20</th>\n",
       "      <td>10</td>\n",
       "      <td>12</td>\n",
       "      <td>14</td>\n",
       "    </tr>\n",
       "    <tr>\n",
       "      <th>2018-03-29</th>\n",
       "      <td>11</td>\n",
       "      <td>12</td>\n",
       "      <td>14</td>\n",
       "    </tr>\n",
       "    <tr>\n",
       "      <th>2018-04-30</th>\n",
       "      <td>12</td>\n",
       "      <td>12</td>\n",
       "      <td>16</td>\n",
       "    </tr>\n",
       "  </tbody>\n",
       "</table>\n",
       "</div>"
      ],
      "text/plain": [
       "             A   B   C\n",
       "2018-01-31  10  10  10\n",
       "2018-02-10  15  10  12\n",
       "2018-02-20  12   8  14\n",
       "2018-02-28  13  13  16\n",
       "2018-03-20  10  12  14\n",
       "2018-03-29  11  12  14\n",
       "2018-04-30  12  12  16"
      ]
     },
     "execution_count": 64,
     "metadata": {},
     "output_type": "execute_result"
    }
   ],
   "source": [
    "df = pd.DataFrame(\n",
    "    {\n",
    "        \"A\": [10, 15, 12, 13, 10, 11, 12],\n",
    "        \"B\": [10, 10, 8, 13, 12, 12, 12],\n",
    "        \"C\": [10, 12, 14, 16, 14, 14, 16],\n",
    "    },\n",
    "    index=pd.to_datetime([\"2018-01-31\", \"2018-02-10\", \"2018-02-20\", \"2018-02-28\", \"2018-03-20\", \"2018-03-29\", \"2018-04-30\",])\n",
    ")\n",
    "df"
   ]
  },
  {
   "cell_type": "code",
   "execution_count": 65,
   "metadata": {},
   "outputs": [
    {
     "data": {
      "text/html": [
       "<div>\n",
       "<style scoped>\n",
       "    .dataframe tbody tr th:only-of-type {\n",
       "        vertical-align: middle;\n",
       "    }\n",
       "\n",
       "    .dataframe tbody tr th {\n",
       "        vertical-align: top;\n",
       "    }\n",
       "\n",
       "    .dataframe thead th {\n",
       "        text-align: right;\n",
       "    }\n",
       "</style>\n",
       "<table border=\"1\" class=\"dataframe\">\n",
       "  <thead>\n",
       "    <tr style=\"text-align: right;\">\n",
       "      <th></th>\n",
       "      <th>A</th>\n",
       "      <th>B</th>\n",
       "      <th>C</th>\n",
       "    </tr>\n",
       "  </thead>\n",
       "  <tbody>\n",
       "    <tr>\n",
       "      <th>2018-01-31</th>\n",
       "      <td>0.500</td>\n",
       "      <td>0.000</td>\n",
       "      <td>0.200</td>\n",
       "    </tr>\n",
       "    <tr>\n",
       "      <th>2018-02-10</th>\n",
       "      <td>-0.200</td>\n",
       "      <td>-0.200</td>\n",
       "      <td>0.167</td>\n",
       "    </tr>\n",
       "    <tr>\n",
       "      <th>2018-02-20</th>\n",
       "      <td>0.083</td>\n",
       "      <td>0.625</td>\n",
       "      <td>0.143</td>\n",
       "    </tr>\n",
       "    <tr>\n",
       "      <th>2018-02-28</th>\n",
       "      <td>-0.231</td>\n",
       "      <td>-0.077</td>\n",
       "      <td>-0.125</td>\n",
       "    </tr>\n",
       "    <tr>\n",
       "      <th>2018-03-20</th>\n",
       "      <td>0.100</td>\n",
       "      <td>0.000</td>\n",
       "      <td>0.000</td>\n",
       "    </tr>\n",
       "    <tr>\n",
       "      <th>2018-03-29</th>\n",
       "      <td>0.091</td>\n",
       "      <td>0.000</td>\n",
       "      <td>0.143</td>\n",
       "    </tr>\n",
       "    <tr>\n",
       "      <th>2018-04-30</th>\n",
       "      <td>0.000</td>\n",
       "      <td>0.000</td>\n",
       "      <td>0.000</td>\n",
       "    </tr>\n",
       "  </tbody>\n",
       "</table>\n",
       "</div>"
      ],
      "text/plain": [
       "                A      B      C\n",
       "2018-01-31  0.500  0.000  0.200\n",
       "2018-02-10 -0.200 -0.200  0.167\n",
       "2018-02-20  0.083  0.625  0.143\n",
       "2018-02-28 -0.231 -0.077 -0.125\n",
       "2018-03-20  0.100  0.000  0.000\n",
       "2018-03-29  0.091  0.000  0.143\n",
       "2018-04-30  0.000  0.000  0.000"
      ]
     },
     "execution_count": 65,
     "metadata": {},
     "output_type": "execute_result"
    }
   ],
   "source": [
    "rtn_df = utils.get_returns_df(df, log=False)\n",
    "shifted_rtn_df = rtn_df.shift(-1).fillna(0)   \n",
    "shifted_rtn_df"
   ]
  },
  {
   "cell_type": "code",
   "execution_count": 66,
   "metadata": {},
   "outputs": [
    {
     "data": {
      "text/plain": [
       "'월말(월의 마지막) 데이터 인덱스 추출'"
      ]
     },
     "execution_count": 66,
     "metadata": {},
     "output_type": "execute_result"
    },
    {
     "data": {
      "text/plain": [
       "DatetimeIndex(['2018-01-31', '2018-02-28', '2018-03-29', '2018-04-30'], dtype='datetime64[ns]', freq=None)"
      ]
     },
     "execution_count": 66,
     "metadata": {},
     "output_type": "execute_result"
    }
   ],
   "source": [
    "\"\"\"월말(월의 마지막) 데이터 인덱스 추출\"\"\"\n",
    "df['year'] = df.index.year\n",
    "df['month'] = df.index.month\n",
    "\n",
    "rebal_index = df.drop_duplicates(['year','month'], keep=\"last\").index\n",
    "df.drop(['year', 'month'], axis=1, inplace=True)\n",
    "\n",
    "rebal_index"
   ]
  },
  {
   "cell_type": "code",
   "execution_count": 69,
   "metadata": {},
   "outputs": [
    {
     "data": {
      "text/plain": [
       "'현재 월마다 리밸런싱을 하는 예제로 보는 것을 가정한다.'"
      ]
     },
     "execution_count": 69,
     "metadata": {},
     "output_type": "execute_result"
    },
    {
     "data": {
      "text/plain": [
       "'그렇다면 리밸런싱 직전, 즉 리밸런싱을 하기 전 1달 동안은 Buy & Hold 전략으로도 볼 수 있다.'"
      ]
     },
     "execution_count": 69,
     "metadata": {},
     "output_type": "execute_result"
    },
    {
     "data": {
      "text/plain": [
       "'다음은 해당 기간 누적 수익률을 구하는 작업이다.'"
      ]
     },
     "execution_count": 69,
     "metadata": {},
     "output_type": "execute_result"
    },
    {
     "data": {
      "text/plain": [
       "[               A     B     C\n",
       " 2018-01-31 1.000 1.000 1.000\n",
       " 2018-02-10 1.500 1.000 1.200\n",
       " 2018-02-20 1.200 0.800 1.400\n",
       " 2018-02-28 1.300 1.300 1.600,\n",
       "                A     B     C\n",
       " 2018-02-28 1.000 1.000 1.000\n",
       " 2018-03-20 0.769 0.923 0.875\n",
       " 2018-03-29 0.846 0.923 0.875,\n",
       "                A     B     C\n",
       " 2018-03-29 1.000 1.000 1.000\n",
       " 2018-04-30 1.091 1.000 1.143]"
      ]
     },
     "execution_count": 69,
     "metadata": {},
     "output_type": "execute_result"
    }
   ],
   "source": [
    "\"\"\"현재 월마다 리밸런싱을 하는 예제로 보는 것을 가정한다.\"\"\"\n",
    "\"\"\"그렇다면 리밸런싱 직전, 즉 리밸런싱을 하기 전 1달 동안은 Buy & Hold 전략으로도 볼 수 있다.\"\"\"\n",
    "\"\"\"다음은 해당 기간 누적 수익률을 구하는 작업이다.\"\"\"\n",
    "\n",
    "month_cum_rtn_df_list = []\n",
    "\n",
    "for start, end in zip(rebal_index[:-1], rebal_index[1:]):\n",
    "    month_price_df = df.loc[start:end]\n",
    "    month_cum_rtn_df = month_price_df / month_price_df.iloc[0]\n",
    "    month_cum_rtn_df_list.append(month_cum_rtn_df)\n",
    "\n",
    "month_cum_rtn_df_list"
   ]
  },
  {
   "cell_type": "code",
   "execution_count": 71,
   "metadata": {},
   "outputs": [
    {
     "data": {
      "text/plain": [
       "'뽑아낸 누적 수익률 데이터들을 이어붙인다.'"
      ]
     },
     "execution_count": 71,
     "metadata": {},
     "output_type": "execute_result"
    },
    {
     "data": {
      "text/html": [
       "<div>\n",
       "<style scoped>\n",
       "    .dataframe tbody tr th:only-of-type {\n",
       "        vertical-align: middle;\n",
       "    }\n",
       "\n",
       "    .dataframe tbody tr th {\n",
       "        vertical-align: top;\n",
       "    }\n",
       "\n",
       "    .dataframe thead th {\n",
       "        text-align: right;\n",
       "    }\n",
       "</style>\n",
       "<table border=\"1\" class=\"dataframe\">\n",
       "  <thead>\n",
       "    <tr style=\"text-align: right;\">\n",
       "      <th></th>\n",
       "      <th>A</th>\n",
       "      <th>B</th>\n",
       "      <th>C</th>\n",
       "    </tr>\n",
       "  </thead>\n",
       "  <tbody>\n",
       "    <tr>\n",
       "      <th>2018-01-31</th>\n",
       "      <td>1.000</td>\n",
       "      <td>1.000</td>\n",
       "      <td>1.000</td>\n",
       "    </tr>\n",
       "    <tr>\n",
       "      <th>2018-02-10</th>\n",
       "      <td>1.500</td>\n",
       "      <td>1.000</td>\n",
       "      <td>1.200</td>\n",
       "    </tr>\n",
       "    <tr>\n",
       "      <th>2018-02-20</th>\n",
       "      <td>1.200</td>\n",
       "      <td>0.800</td>\n",
       "      <td>1.400</td>\n",
       "    </tr>\n",
       "    <tr>\n",
       "      <th>2018-02-28</th>\n",
       "      <td>1.300</td>\n",
       "      <td>1.300</td>\n",
       "      <td>1.600</td>\n",
       "    </tr>\n",
       "    <tr>\n",
       "      <th>2018-02-28</th>\n",
       "      <td>1.000</td>\n",
       "      <td>1.000</td>\n",
       "      <td>1.000</td>\n",
       "    </tr>\n",
       "    <tr>\n",
       "      <th>2018-03-20</th>\n",
       "      <td>0.769</td>\n",
       "      <td>0.923</td>\n",
       "      <td>0.875</td>\n",
       "    </tr>\n",
       "    <tr>\n",
       "      <th>2018-03-29</th>\n",
       "      <td>0.846</td>\n",
       "      <td>0.923</td>\n",
       "      <td>0.875</td>\n",
       "    </tr>\n",
       "    <tr>\n",
       "      <th>2018-03-29</th>\n",
       "      <td>1.000</td>\n",
       "      <td>1.000</td>\n",
       "      <td>1.000</td>\n",
       "    </tr>\n",
       "    <tr>\n",
       "      <th>2018-04-30</th>\n",
       "      <td>1.091</td>\n",
       "      <td>1.000</td>\n",
       "      <td>1.143</td>\n",
       "    </tr>\n",
       "  </tbody>\n",
       "</table>\n",
       "</div>"
      ],
      "text/plain": [
       "               A     B     C\n",
       "2018-01-31 1.000 1.000 1.000\n",
       "2018-02-10 1.500 1.000 1.200\n",
       "2018-02-20 1.200 0.800 1.400\n",
       "2018-02-28 1.300 1.300 1.600\n",
       "2018-02-28 1.000 1.000 1.000\n",
       "2018-03-20 0.769 0.923 0.875\n",
       "2018-03-29 0.846 0.923 0.875\n",
       "2018-03-29 1.000 1.000 1.000\n",
       "2018-04-30 1.091 1.000 1.143"
      ]
     },
     "execution_count": 71,
     "metadata": {},
     "output_type": "execute_result"
    },
    {
     "data": {
      "text/plain": [
       "'월말 데이터가 중복되는 것을 확인할 수 있다.'"
      ]
     },
     "execution_count": 71,
     "metadata": {},
     "output_type": "execute_result"
    }
   ],
   "source": [
    "\"\"\"뽑아낸 누적 수익률 데이터들을 이어붙인다.\"\"\"\n",
    "monthly_asset_flow_df = pd.concat(month_cum_rtn_df_list)\n",
    "monthly_asset_flow_df\n",
    "\"\"\"월말 데이터가 중복되는 것을 확인할 수 있다.\"\"\""
   ]
  },
  {
   "cell_type": "code",
   "execution_count": 72,
   "metadata": {},
   "outputs": [
    {
     "data": {
      "text/plain": [
       "'중복된 데이터 중 마지막 것만 남긴다.'"
      ]
     },
     "execution_count": 72,
     "metadata": {},
     "output_type": "execute_result"
    },
    {
     "data": {
      "text/plain": [
       "'월말에 구해진 주기 최종 누적 수익률은 현 시점에서 관심이 없는 데이터이다.'"
      ]
     },
     "execution_count": 72,
     "metadata": {},
     "output_type": "execute_result"
    },
    {
     "data": {
      "text/plain": [
       "'월말에 리밸런싱을 했다면, 다음 달부터는 리밸런싱된 후 자연스럽게 데이터를 관리하기 위함이다.'"
      ]
     },
     "execution_count": 72,
     "metadata": {},
     "output_type": "execute_result"
    },
    {
     "data": {
      "text/plain": [
       "array([False, False, False,  True, False, False,  True, False, False])"
      ]
     },
     "execution_count": 72,
     "metadata": {},
     "output_type": "execute_result"
    },
    {
     "data": {
      "text/html": [
       "<div>\n",
       "<style scoped>\n",
       "    .dataframe tbody tr th:only-of-type {\n",
       "        vertical-align: middle;\n",
       "    }\n",
       "\n",
       "    .dataframe tbody tr th {\n",
       "        vertical-align: top;\n",
       "    }\n",
       "\n",
       "    .dataframe thead th {\n",
       "        text-align: right;\n",
       "    }\n",
       "</style>\n",
       "<table border=\"1\" class=\"dataframe\">\n",
       "  <thead>\n",
       "    <tr style=\"text-align: right;\">\n",
       "      <th></th>\n",
       "      <th>A</th>\n",
       "      <th>B</th>\n",
       "      <th>C</th>\n",
       "    </tr>\n",
       "  </thead>\n",
       "  <tbody>\n",
       "    <tr>\n",
       "      <th>2018-01-31</th>\n",
       "      <td>1.000</td>\n",
       "      <td>1.000</td>\n",
       "      <td>1.000</td>\n",
       "    </tr>\n",
       "    <tr>\n",
       "      <th>2018-02-10</th>\n",
       "      <td>1.500</td>\n",
       "      <td>1.000</td>\n",
       "      <td>1.200</td>\n",
       "    </tr>\n",
       "    <tr>\n",
       "      <th>2018-02-20</th>\n",
       "      <td>1.200</td>\n",
       "      <td>0.800</td>\n",
       "      <td>1.400</td>\n",
       "    </tr>\n",
       "    <tr>\n",
       "      <th>2018-02-28</th>\n",
       "      <td>1.000</td>\n",
       "      <td>1.000</td>\n",
       "      <td>1.000</td>\n",
       "    </tr>\n",
       "    <tr>\n",
       "      <th>2018-03-20</th>\n",
       "      <td>0.769</td>\n",
       "      <td>0.923</td>\n",
       "      <td>0.875</td>\n",
       "    </tr>\n",
       "    <tr>\n",
       "      <th>2018-03-29</th>\n",
       "      <td>1.000</td>\n",
       "      <td>1.000</td>\n",
       "      <td>1.000</td>\n",
       "    </tr>\n",
       "    <tr>\n",
       "      <th>2018-04-30</th>\n",
       "      <td>1.091</td>\n",
       "      <td>1.000</td>\n",
       "      <td>1.143</td>\n",
       "    </tr>\n",
       "  </tbody>\n",
       "</table>\n",
       "</div>"
      ],
      "text/plain": [
       "               A     B     C\n",
       "2018-01-31 1.000 1.000 1.000\n",
       "2018-02-10 1.500 1.000 1.200\n",
       "2018-02-20 1.200 0.800 1.400\n",
       "2018-02-28 1.000 1.000 1.000\n",
       "2018-03-20 0.769 0.923 0.875\n",
       "2018-03-29 1.000 1.000 1.000\n",
       "2018-04-30 1.091 1.000 1.143"
      ]
     },
     "execution_count": 72,
     "metadata": {},
     "output_type": "execute_result"
    }
   ],
   "source": [
    "\"\"\"중복된 데이터 중 마지막 것만 남긴다.\"\"\"\n",
    "\"\"\"월말에 구해진 주기 최종 누적 수익률은 현 시점에서 관심이 없는 데이터이다.\"\"\"\n",
    "\"\"\"월말에 리밸런싱을 했다면, 다음 달부터는 리밸런싱된 후 자연스럽게 데이터를 관리하기 위함이다.\"\"\"\n",
    "\n",
    "monthly_asset_flow_df.index.duplicated(keep=\"last\")\n",
    "\n",
    "monthly_asset_flow_df = monthly_asset_flow_df.loc[~monthly_asset_flow_df.index.duplicated(keep=\"last\")] # check NOT Operator\n",
    "monthly_asset_flow_df"
   ]
  },
  {
   "cell_type": "code",
   "execution_count": 73,
   "metadata": {},
   "outputs": [
    {
     "data": {
      "text/plain": [
       "'monthly_asset_flow_df에 weight를 곱하면 누적 수익률 비중을 구할 수 있다.'"
      ]
     },
     "execution_count": 73,
     "metadata": {},
     "output_type": "execute_result"
    },
    {
     "data": {
      "text/html": [
       "<div>\n",
       "<style scoped>\n",
       "    .dataframe tbody tr th:only-of-type {\n",
       "        vertical-align: middle;\n",
       "    }\n",
       "\n",
       "    .dataframe tbody tr th {\n",
       "        vertical-align: top;\n",
       "    }\n",
       "\n",
       "    .dataframe thead th {\n",
       "        text-align: right;\n",
       "    }\n",
       "</style>\n",
       "<table border=\"1\" class=\"dataframe\">\n",
       "  <thead>\n",
       "    <tr style=\"text-align: right;\">\n",
       "      <th></th>\n",
       "      <th>A</th>\n",
       "      <th>B</th>\n",
       "      <th>C</th>\n",
       "    </tr>\n",
       "  </thead>\n",
       "  <tbody>\n",
       "    <tr>\n",
       "      <th>2018-01-31</th>\n",
       "      <td>0.300</td>\n",
       "      <td>0.500</td>\n",
       "      <td>0.200</td>\n",
       "    </tr>\n",
       "    <tr>\n",
       "      <th>2018-02-10</th>\n",
       "      <td>0.450</td>\n",
       "      <td>0.500</td>\n",
       "      <td>0.240</td>\n",
       "    </tr>\n",
       "    <tr>\n",
       "      <th>2018-02-20</th>\n",
       "      <td>0.360</td>\n",
       "      <td>0.400</td>\n",
       "      <td>0.280</td>\n",
       "    </tr>\n",
       "    <tr>\n",
       "      <th>2018-02-28</th>\n",
       "      <td>0.300</td>\n",
       "      <td>0.500</td>\n",
       "      <td>0.200</td>\n",
       "    </tr>\n",
       "    <tr>\n",
       "      <th>2018-03-20</th>\n",
       "      <td>0.231</td>\n",
       "      <td>0.462</td>\n",
       "      <td>0.175</td>\n",
       "    </tr>\n",
       "    <tr>\n",
       "      <th>2018-03-29</th>\n",
       "      <td>0.300</td>\n",
       "      <td>0.500</td>\n",
       "      <td>0.200</td>\n",
       "    </tr>\n",
       "    <tr>\n",
       "      <th>2018-04-30</th>\n",
       "      <td>0.327</td>\n",
       "      <td>0.500</td>\n",
       "      <td>0.229</td>\n",
       "    </tr>\n",
       "  </tbody>\n",
       "</table>\n",
       "</div>"
      ],
      "text/plain": [
       "               A     B     C\n",
       "2018-01-31 0.300 0.500 0.200\n",
       "2018-02-10 0.450 0.500 0.240\n",
       "2018-02-20 0.360 0.400 0.280\n",
       "2018-02-28 0.300 0.500 0.200\n",
       "2018-03-20 0.231 0.462 0.175\n",
       "2018-03-29 0.300 0.500 0.200\n",
       "2018-04-30 0.327 0.500 0.229"
      ]
     },
     "execution_count": 73,
     "metadata": {},
     "output_type": "execute_result"
    }
   ],
   "source": [
    "\"\"\"monthly_asset_flow_df에 weight를 곱하면 누적 수익률 비중을 구할 수 있다.\"\"\"\n",
    "WEIGHTS = [0.3, 0.5, 0.2]\n",
    "\n",
    "assert sum(WEIGHTS) == 1\n",
    "\n",
    "monthly_asset_flow_df = monthly_asset_flow_df * WEIGHTS\n",
    "monthly_asset_flow_df"
   ]
  },
  {
   "cell_type": "code",
   "execution_count": 74,
   "metadata": {},
   "outputs": [
    {
     "data": {
      "text/plain": [
       "'드디어 각 종목의 전체 자산 비중을 구할 준비가 되었다.'"
      ]
     },
     "execution_count": 74,
     "metadata": {},
     "output_type": "execute_result"
    },
    {
     "data": {
      "text/html": [
       "<div>\n",
       "<style scoped>\n",
       "    .dataframe tbody tr th:only-of-type {\n",
       "        vertical-align: middle;\n",
       "    }\n",
       "\n",
       "    .dataframe tbody tr th {\n",
       "        vertical-align: top;\n",
       "    }\n",
       "\n",
       "    .dataframe thead th {\n",
       "        text-align: right;\n",
       "    }\n",
       "</style>\n",
       "<table border=\"1\" class=\"dataframe\">\n",
       "  <thead>\n",
       "    <tr style=\"text-align: right;\">\n",
       "      <th></th>\n",
       "      <th>A</th>\n",
       "      <th>B</th>\n",
       "      <th>C</th>\n",
       "    </tr>\n",
       "  </thead>\n",
       "  <tbody>\n",
       "    <tr>\n",
       "      <th>2018-01-31</th>\n",
       "      <td>0.300</td>\n",
       "      <td>0.500</td>\n",
       "      <td>0.200</td>\n",
       "    </tr>\n",
       "    <tr>\n",
       "      <th>2018-02-10</th>\n",
       "      <td>0.378</td>\n",
       "      <td>0.420</td>\n",
       "      <td>0.202</td>\n",
       "    </tr>\n",
       "    <tr>\n",
       "      <th>2018-02-20</th>\n",
       "      <td>0.346</td>\n",
       "      <td>0.385</td>\n",
       "      <td>0.269</td>\n",
       "    </tr>\n",
       "    <tr>\n",
       "      <th>2018-02-28</th>\n",
       "      <td>0.300</td>\n",
       "      <td>0.500</td>\n",
       "      <td>0.200</td>\n",
       "    </tr>\n",
       "    <tr>\n",
       "      <th>2018-03-20</th>\n",
       "      <td>0.266</td>\n",
       "      <td>0.532</td>\n",
       "      <td>0.202</td>\n",
       "    </tr>\n",
       "    <tr>\n",
       "      <th>2018-03-29</th>\n",
       "      <td>0.300</td>\n",
       "      <td>0.500</td>\n",
       "      <td>0.200</td>\n",
       "    </tr>\n",
       "    <tr>\n",
       "      <th>2018-04-30</th>\n",
       "      <td>0.310</td>\n",
       "      <td>0.474</td>\n",
       "      <td>0.216</td>\n",
       "    </tr>\n",
       "  </tbody>\n",
       "</table>\n",
       "</div>"
      ],
      "text/plain": [
       "               A     B     C\n",
       "2018-01-31 0.300 0.500 0.200\n",
       "2018-02-10 0.378 0.420 0.202\n",
       "2018-02-20 0.346 0.385 0.269\n",
       "2018-02-28 0.300 0.500 0.200\n",
       "2018-03-20 0.266 0.532 0.202\n",
       "2018-03-29 0.300 0.500 0.200\n",
       "2018-04-30 0.310 0.474 0.216"
      ]
     },
     "execution_count": 74,
     "metadata": {},
     "output_type": "execute_result"
    }
   ],
   "source": [
    "\"\"\"드디어 각 종목의 전체 자산 비중을 구할 준비가 되었다.\"\"\"\n",
    "\n",
    "# 자산 비중의 흐름을 일별로 sum=1이 되게 만들면 결국 weight_df\n",
    "weight_df = monthly_asset_flow_df.divide(monthly_asset_flow_df.sum(axis=1), axis=0)\n",
    "weight_df"
   ]
  },
  {
   "cell_type": "code",
   "execution_count": 75,
   "metadata": {},
   "outputs": [
    {
     "data": {
      "text/plain": [
       "'이제 shifted_rtn_df와 곱해보자.'"
      ]
     },
     "execution_count": 75,
     "metadata": {},
     "output_type": "execute_result"
    },
    {
     "data": {
      "text/html": [
       "<div>\n",
       "<style scoped>\n",
       "    .dataframe tbody tr th:only-of-type {\n",
       "        vertical-align: middle;\n",
       "    }\n",
       "\n",
       "    .dataframe tbody tr th {\n",
       "        vertical-align: top;\n",
       "    }\n",
       "\n",
       "    .dataframe thead th {\n",
       "        text-align: right;\n",
       "    }\n",
       "</style>\n",
       "<table border=\"1\" class=\"dataframe\">\n",
       "  <thead>\n",
       "    <tr style=\"text-align: right;\">\n",
       "      <th></th>\n",
       "      <th>A</th>\n",
       "      <th>B</th>\n",
       "      <th>C</th>\n",
       "    </tr>\n",
       "  </thead>\n",
       "  <tbody>\n",
       "    <tr>\n",
       "      <th>2018-01-31</th>\n",
       "      <td>0.150</td>\n",
       "      <td>0.000</td>\n",
       "      <td>0.040</td>\n",
       "    </tr>\n",
       "    <tr>\n",
       "      <th>2018-02-10</th>\n",
       "      <td>-0.076</td>\n",
       "      <td>-0.084</td>\n",
       "      <td>0.034</td>\n",
       "    </tr>\n",
       "    <tr>\n",
       "      <th>2018-02-20</th>\n",
       "      <td>0.029</td>\n",
       "      <td>0.240</td>\n",
       "      <td>0.038</td>\n",
       "    </tr>\n",
       "    <tr>\n",
       "      <th>2018-02-28</th>\n",
       "      <td>-0.069</td>\n",
       "      <td>-0.038</td>\n",
       "      <td>-0.025</td>\n",
       "    </tr>\n",
       "    <tr>\n",
       "      <th>2018-03-20</th>\n",
       "      <td>0.027</td>\n",
       "      <td>0.000</td>\n",
       "      <td>0.000</td>\n",
       "    </tr>\n",
       "    <tr>\n",
       "      <th>2018-03-29</th>\n",
       "      <td>0.027</td>\n",
       "      <td>0.000</td>\n",
       "      <td>0.029</td>\n",
       "    </tr>\n",
       "    <tr>\n",
       "      <th>2018-04-30</th>\n",
       "      <td>0.000</td>\n",
       "      <td>0.000</td>\n",
       "      <td>0.000</td>\n",
       "    </tr>\n",
       "  </tbody>\n",
       "</table>\n",
       "</div>"
      ],
      "text/plain": [
       "                A      B      C\n",
       "2018-01-31  0.150  0.000  0.040\n",
       "2018-02-10 -0.076 -0.084  0.034\n",
       "2018-02-20  0.029  0.240  0.038\n",
       "2018-02-28 -0.069 -0.038 -0.025\n",
       "2018-03-20  0.027  0.000  0.000\n",
       "2018-03-29  0.027  0.000  0.029\n",
       "2018-04-30  0.000  0.000  0.000"
      ]
     },
     "execution_count": 75,
     "metadata": {},
     "output_type": "execute_result"
    }
   ],
   "source": [
    "\"\"\"이제 shifted_rtn_df와 곱해보자.\"\"\"\n",
    "net_rtn_df = shifted_rtn_df * weight_df\n",
    "net_rtn_df"
   ]
  },
  {
   "cell_type": "code",
   "execution_count": 76,
   "metadata": {},
   "outputs": [
    {
     "data": {
      "text/plain": [
       "'계산을 위해 shift 했던 것을 되돌리고 합해주면 최종적으로 일별 수익률을 구하게 된다.'"
      ]
     },
     "execution_count": 76,
     "metadata": {},
     "output_type": "execute_result"
    },
    {
     "data": {
      "text/plain": [
       "2018-01-31    0.000\n",
       "2018-02-10    0.190\n",
       "2018-02-20   -0.126\n",
       "2018-02-28    0.308\n",
       "2018-03-20   -0.133\n",
       "2018-03-29    0.027\n",
       "2018-04-30    0.056\n",
       "dtype: float64"
      ]
     },
     "execution_count": 76,
     "metadata": {},
     "output_type": "execute_result"
    }
   ],
   "source": [
    "\"\"\"계산을 위해 shift 했던 것을 되돌리고 합해주면 최종적으로 일별 수익률을 구하게 된다.\"\"\"\n",
    "rtn_series = net_rtn_df.sum(axis=1).shift(1).fillna(0)\n",
    "rtn_series"
   ]
  },
  {
   "cell_type": "code",
   "execution_count": 77,
   "metadata": {},
   "outputs": [
    {
     "data": {
      "text/plain": [
       "'누적 수익률은 다음과 같이 구한다.'"
      ]
     },
     "execution_count": 77,
     "metadata": {},
     "output_type": "execute_result"
    },
    {
     "data": {
      "text/plain": [
       "2018-01-31   1.000\n",
       "2018-02-10   1.190\n",
       "2018-02-20   1.040\n",
       "2018-02-28   1.360\n",
       "2018-03-20   1.180\n",
       "2018-03-29   1.211\n",
       "2018-04-30   1.279\n",
       "dtype: float64"
      ]
     },
     "execution_count": 77,
     "metadata": {},
     "output_type": "execute_result"
    }
   ],
   "source": [
    "\"\"\"누적 수익률은 다음과 같이 구한다.\"\"\"\n",
    "(rtn_series + 1).cumprod()"
   ]
  },
  {
   "cell_type": "markdown",
   "metadata": {},
   "source": [
    "## 3.2. `Cumulative Return` 방법\n",
    "\n",
    "> event based.\n",
    "\n",
    "3.1. 방식보다 편리하고 확장성이 좋아 자주 사용된다.\n",
    "하지만 3.1. 방식을 아예 안 쓰거나, 해당 방법이 반드시 필요한 경우도 있기 때문에 기억해두자."
   ]
  },
  {
   "cell_type": "markdown",
   "metadata": {},
   "source": [
    "### 3.2.1. 구현"
   ]
  },
  {
   "cell_type": "code",
   "execution_count": 78,
   "metadata": {},
   "outputs": [
    {
     "data": {
      "text/plain": [
       "'예제 데이터 준비'"
      ]
     },
     "execution_count": 78,
     "metadata": {},
     "output_type": "execute_result"
    },
    {
     "data": {
      "text/plain": [
       "'3.1. 방식과 동일한 부분이라 자세한 설명은 생략'"
      ]
     },
     "execution_count": 78,
     "metadata": {},
     "output_type": "execute_result"
    }
   ],
   "source": [
    "\"\"\"예제 데이터 준비\"\"\"\n",
    "df = pd.DataFrame(\n",
    "    {\n",
    "        \"A\": [10, 15, 12, 13, 10, 11, 12],\n",
    "        \"B\": [10, 10, 8, 13, 12, 12, 12],\n",
    "        \"C\": [10, 12, 14, 16, 14, 14, 16],\n",
    "    },\n",
    "    index=pd.to_datetime([\"2018-01-31\", \"2018-02-10\", \"2018-02-20\", \"2018-02-28\", \"2018-03-20\", \"2018-03-29\", \"2018-04-30\",])\n",
    ")\n",
    "df['year'] = df.index.year\n",
    "df['month'] = df.index.month\n",
    "\n",
    "rebal_index = df.drop_duplicates(['year','month'], keep=\"last\").index\n",
    "df.drop(['year', 'month'], axis=1, inplace=True)\n",
    "\n",
    "\"\"\"3.1. 방식과 동일한 부분이라 자세한 설명은 생략\"\"\""
   ]
  },
  {
   "cell_type": "code",
   "execution_count": 79,
   "metadata": {},
   "outputs": [
    {
     "data": {
      "text/plain": [
       "'만들고자 하는 weight_df 형태'"
      ]
     },
     "execution_count": 79,
     "metadata": {},
     "output_type": "execute_result"
    },
    {
     "data": {
      "text/html": [
       "<div>\n",
       "<style scoped>\n",
       "    .dataframe tbody tr th:only-of-type {\n",
       "        vertical-align: middle;\n",
       "    }\n",
       "\n",
       "    .dataframe tbody tr th {\n",
       "        vertical-align: top;\n",
       "    }\n",
       "\n",
       "    .dataframe thead th {\n",
       "        text-align: right;\n",
       "    }\n",
       "</style>\n",
       "<table border=\"1\" class=\"dataframe\">\n",
       "  <thead>\n",
       "    <tr style=\"text-align: right;\">\n",
       "      <th></th>\n",
       "      <th>A</th>\n",
       "      <th>B</th>\n",
       "      <th>C</th>\n",
       "    </tr>\n",
       "  </thead>\n",
       "  <tbody>\n",
       "    <tr>\n",
       "      <th>2018-01-31</th>\n",
       "      <td>0.300</td>\n",
       "      <td>0.500</td>\n",
       "      <td>0.200</td>\n",
       "    </tr>\n",
       "    <tr>\n",
       "      <th>2018-02-28</th>\n",
       "      <td>0.300</td>\n",
       "      <td>0.500</td>\n",
       "      <td>0.200</td>\n",
       "    </tr>\n",
       "    <tr>\n",
       "      <th>2018-03-29</th>\n",
       "      <td>0.300</td>\n",
       "      <td>0.500</td>\n",
       "      <td>0.200</td>\n",
       "    </tr>\n",
       "    <tr>\n",
       "      <th>2018-04-30</th>\n",
       "      <td>0.300</td>\n",
       "      <td>0.500</td>\n",
       "      <td>0.200</td>\n",
       "    </tr>\n",
       "  </tbody>\n",
       "</table>\n",
       "</div>"
      ],
      "text/plain": [
       "               A     B     C\n",
       "2018-01-31 0.300 0.500 0.200\n",
       "2018-02-28 0.300 0.500 0.200\n",
       "2018-03-29 0.300 0.500 0.200\n",
       "2018-04-30 0.300 0.500 0.200"
      ]
     },
     "execution_count": 79,
     "metadata": {},
     "output_type": "execute_result"
    }
   ],
   "source": [
    "\"\"\"만들고자 하는 weight_df 형태\"\"\"\n",
    "target_weight_df = pd.DataFrame(\n",
    "    [[0.3, 0.5, 0.2]]* len(rebal_index),\n",
    "    index=rebal_index,\n",
    "    columns=df.columns\n",
    ")\n",
    "target_weight_df"
   ]
  },
  {
   "cell_type": "code",
   "execution_count": 81,
   "metadata": {},
   "outputs": [],
   "source": [
    "# 월별 포트폴리오 자산 목록\n",
    "individual_port_val_df_list = []\n",
    "\n",
    "# 직전 달의 마지막 누적 수익률 - 로직의 일관성을 위해 1로 설정함\n",
    "cum_rtn_at_last_month_end = 1\n",
    "\n",
    "# 직전 달(리밸런싱 주기)의 마지막 인덱스\n",
    "prev_end_day = rebal_index[0]\n",
    "\n",
    "# for loop 사용을 통해 event-based 방식이 가미되었다는 것을 알 수 있다.\n",
    "for end_day in rebal_index[1:]:\n",
    "    # 주기만큼 서브셋을 뽑아냄\n",
    "    sub_price_df = df.loc[prev_end_day:end_day]\n",
    "    sub_cum_rtn_df = sub_price_df / sub_price_df.iloc[0]\n",
    "\n",
    "    weight_series = target_weight_df.loc[prev_end_day]\n",
    "    # (sub_cum_rtn_df * weight_series): 첫 설정한 weight이 asset 크기의 흐름에 따라 어떻게 변화하는지를 계산함\n",
    "    indi_port_cum_rtn_df = (sub_cum_rtn_df * weight_series) * cum_rtn_at_last_month_end\n",
    "\n",
    "    # 주기별 포트폴리오 결과 기록\n",
    "    individual_port_val_df_list.append(indi_port_cum_rtn_df)\n",
    "\n",
    "    # 이번 주기 최종 누적 수익률 시리즈\n",
    "    total_port_cum_rtn_series = indi_port_cum_rtn_df.sum(axis=1)\n",
    "\n",
    "    # 직전 주기 마지막 누적 수익률 갱신\n",
    "    cum_rtn_at_last_month_end = total_port_cum_rtn_series.iloc[-1]\n",
    "\n",
    "    # 직전 주기 마지막 인덱스 갱신\n",
    "    prev_end_day = end_day"
   ]
  },
  {
   "cell_type": "code",
   "execution_count": 82,
   "metadata": {},
   "outputs": [
    {
     "data": {
      "text/plain": [
       "'주기별 각 포트폴리오 자산'"
      ]
     },
     "execution_count": 82,
     "metadata": {},
     "output_type": "execute_result"
    },
    {
     "data": {
      "text/plain": [
       "[               A     B     C\n",
       " 2018-01-31 0.300 0.500 0.200\n",
       " 2018-02-10 0.450 0.500 0.240\n",
       " 2018-02-20 0.360 0.400 0.280\n",
       " 2018-02-28 0.390 0.650 0.320,\n",
       "                A     B     C\n",
       " 2018-02-28 0.408 0.680 0.272\n",
       " 2018-03-20 0.314 0.628 0.238\n",
       " 2018-03-29 0.345 0.628 0.238,\n",
       "                A     B     C\n",
       " 2018-03-29 0.363 0.605 0.242\n",
       " 2018-04-30 0.396 0.605 0.277]"
      ]
     },
     "execution_count": 82,
     "metadata": {},
     "output_type": "execute_result"
    }
   ],
   "source": [
    "\"\"\"주기별 각 포트폴리오 자산\"\"\"\n",
    "individual_port_val_df_list"
   ]
  },
  {
   "cell_type": "markdown",
   "metadata": {},
   "source": [
    "#### 리밸런싱 날, 리밸런싱 바로 직전의 자산 flow 선택"
   ]
  },
  {
   "cell_type": "code",
   "execution_count": 83,
   "metadata": {},
   "outputs": [],
   "source": [
    "result_port_df_list = [individual_port_val_df_list[0]]\n",
    "for _df in individual_port_val_df_list[1:]:\n",
    "    result_port_df_list.append(_df.iloc[1:])\n",
    "\n",
    "result1_ind = pd.concat(result_port_df_list)\n",
    "result1_port = result1_ind.sum(axis=1)"
   ]
  },
  {
   "cell_type": "markdown",
   "metadata": {},
   "source": [
    "#### 리밸런싱 날, 리밸런싱 직후의 자산 flow 선택"
   ]
  },
  {
   "cell_type": "code",
   "execution_count": 84,
   "metadata": {},
   "outputs": [],
   "source": [
    "result_port_df_list = []\n",
    "for i, _df in enumerate(individual_port_val_df_list):\n",
    "    if i == len(individual_port_val_df_list)-1:\n",
    "        result_port_df_list.append(_df)\n",
    "    else:\n",
    "        result_port_df_list.append(_df.iloc[:-1])\n",
    "\n",
    "result2_ind = pd.concat(result_port_df_list)\n",
    "result2_port = result1_ind.sum(axis=1)"
   ]
  },
  {
   "cell_type": "code",
   "execution_count": 88,
   "metadata": {},
   "outputs": [
    {
     "data": {
      "text/plain": [
       "'포트폴리오 누적 자산을 3.1. 방식으로 구한 것과 3.2. 방식으로 구한 것의 비교'"
      ]
     },
     "execution_count": 88,
     "metadata": {},
     "output_type": "execute_result"
    },
    {
     "data": {
      "text/plain": [
       "'리밸런싱 주기별 선택한 주기의 결과에 따른 값 비교'"
      ]
     },
     "execution_count": 88,
     "metadata": {},
     "output_type": "execute_result"
    }
   ],
   "source": [
    "\"\"\"포트폴리오 누적 자산을 3.1. 방식으로 구한 것과 3.2. 방식으로 구한 것의 비교\"\"\"\n",
    "assert (rtn_series + 1).cumprod().equals(result2_port)\n",
    "\"\"\"리밸런싱 주기별 선택한 주기의 결과에 따른 값 비교\"\"\"\n",
    "assert result1_port.equals(result2_port)"
   ]
  },
  {
   "cell_type": "code",
   "execution_count": 90,
   "metadata": {},
   "outputs": [
    {
     "data": {
      "text/plain": [
       "'두 주기별 포트폴리오 비교 - 리밸런싱 당일만 값이 다름'"
      ]
     },
     "execution_count": 90,
     "metadata": {},
     "output_type": "execute_result"
    },
    {
     "data": {
      "text/html": [
       "<div>\n",
       "<style scoped>\n",
       "    .dataframe tbody tr th:only-of-type {\n",
       "        vertical-align: middle;\n",
       "    }\n",
       "\n",
       "    .dataframe tbody tr th {\n",
       "        vertical-align: top;\n",
       "    }\n",
       "\n",
       "    .dataframe thead th {\n",
       "        text-align: right;\n",
       "    }\n",
       "</style>\n",
       "<table border=\"1\" class=\"dataframe\">\n",
       "  <thead>\n",
       "    <tr style=\"text-align: right;\">\n",
       "      <th></th>\n",
       "      <th>A</th>\n",
       "      <th>B</th>\n",
       "      <th>C</th>\n",
       "    </tr>\n",
       "  </thead>\n",
       "  <tbody>\n",
       "    <tr>\n",
       "      <th>2018-01-31</th>\n",
       "      <td>0.300</td>\n",
       "      <td>0.500</td>\n",
       "      <td>0.200</td>\n",
       "    </tr>\n",
       "    <tr>\n",
       "      <th>2018-02-10</th>\n",
       "      <td>0.450</td>\n",
       "      <td>0.500</td>\n",
       "      <td>0.240</td>\n",
       "    </tr>\n",
       "    <tr>\n",
       "      <th>2018-02-20</th>\n",
       "      <td>0.360</td>\n",
       "      <td>0.400</td>\n",
       "      <td>0.280</td>\n",
       "    </tr>\n",
       "    <tr>\n",
       "      <th>2018-02-28</th>\n",
       "      <td>0.390</td>\n",
       "      <td>0.650</td>\n",
       "      <td>0.320</td>\n",
       "    </tr>\n",
       "    <tr>\n",
       "      <th>2018-03-20</th>\n",
       "      <td>0.314</td>\n",
       "      <td>0.628</td>\n",
       "      <td>0.238</td>\n",
       "    </tr>\n",
       "    <tr>\n",
       "      <th>2018-03-29</th>\n",
       "      <td>0.345</td>\n",
       "      <td>0.628</td>\n",
       "      <td>0.238</td>\n",
       "    </tr>\n",
       "    <tr>\n",
       "      <th>2018-04-30</th>\n",
       "      <td>0.396</td>\n",
       "      <td>0.605</td>\n",
       "      <td>0.277</td>\n",
       "    </tr>\n",
       "  </tbody>\n",
       "</table>\n",
       "</div>"
      ],
      "text/plain": [
       "               A     B     C\n",
       "2018-01-31 0.300 0.500 0.200\n",
       "2018-02-10 0.450 0.500 0.240\n",
       "2018-02-20 0.360 0.400 0.280\n",
       "2018-02-28 0.390 0.650 0.320\n",
       "2018-03-20 0.314 0.628 0.238\n",
       "2018-03-29 0.345 0.628 0.238\n",
       "2018-04-30 0.396 0.605 0.277"
      ]
     },
     "execution_count": 90,
     "metadata": {},
     "output_type": "execute_result"
    },
    {
     "data": {
      "text/html": [
       "<div>\n",
       "<style scoped>\n",
       "    .dataframe tbody tr th:only-of-type {\n",
       "        vertical-align: middle;\n",
       "    }\n",
       "\n",
       "    .dataframe tbody tr th {\n",
       "        vertical-align: top;\n",
       "    }\n",
       "\n",
       "    .dataframe thead th {\n",
       "        text-align: right;\n",
       "    }\n",
       "</style>\n",
       "<table border=\"1\" class=\"dataframe\">\n",
       "  <thead>\n",
       "    <tr style=\"text-align: right;\">\n",
       "      <th></th>\n",
       "      <th>A</th>\n",
       "      <th>B</th>\n",
       "      <th>C</th>\n",
       "    </tr>\n",
       "  </thead>\n",
       "  <tbody>\n",
       "    <tr>\n",
       "      <th>2018-01-31</th>\n",
       "      <td>0.300</td>\n",
       "      <td>0.500</td>\n",
       "      <td>0.200</td>\n",
       "    </tr>\n",
       "    <tr>\n",
       "      <th>2018-02-10</th>\n",
       "      <td>0.450</td>\n",
       "      <td>0.500</td>\n",
       "      <td>0.240</td>\n",
       "    </tr>\n",
       "    <tr>\n",
       "      <th>2018-02-20</th>\n",
       "      <td>0.360</td>\n",
       "      <td>0.400</td>\n",
       "      <td>0.280</td>\n",
       "    </tr>\n",
       "    <tr>\n",
       "      <th>2018-02-28</th>\n",
       "      <td>0.408</td>\n",
       "      <td>0.680</td>\n",
       "      <td>0.272</td>\n",
       "    </tr>\n",
       "    <tr>\n",
       "      <th>2018-03-20</th>\n",
       "      <td>0.314</td>\n",
       "      <td>0.628</td>\n",
       "      <td>0.238</td>\n",
       "    </tr>\n",
       "    <tr>\n",
       "      <th>2018-03-29</th>\n",
       "      <td>0.363</td>\n",
       "      <td>0.605</td>\n",
       "      <td>0.242</td>\n",
       "    </tr>\n",
       "    <tr>\n",
       "      <th>2018-04-30</th>\n",
       "      <td>0.396</td>\n",
       "      <td>0.605</td>\n",
       "      <td>0.277</td>\n",
       "    </tr>\n",
       "  </tbody>\n",
       "</table>\n",
       "</div>"
      ],
      "text/plain": [
       "               A     B     C\n",
       "2018-01-31 0.300 0.500 0.200\n",
       "2018-02-10 0.450 0.500 0.240\n",
       "2018-02-20 0.360 0.400 0.280\n",
       "2018-02-28 0.408 0.680 0.272\n",
       "2018-03-20 0.314 0.628 0.238\n",
       "2018-03-29 0.363 0.605 0.242\n",
       "2018-04-30 0.396 0.605 0.277"
      ]
     },
     "execution_count": 90,
     "metadata": {},
     "output_type": "execute_result"
    }
   ],
   "source": [
    "\"\"\"두 주기별 포트폴리오 비교 - 리밸런싱 당일만 값이 다름\"\"\"\n",
    "result1_ind\n",
    "result2_ind"
   ]
  },
  {
   "cell_type": "code",
   "execution_count": 91,
   "metadata": {},
   "outputs": [],
   "source": [
    "from matplotlib.pyplot import stackplot"
   ]
  },
  {
   "cell_type": "code",
   "execution_count": 93,
   "metadata": {},
   "outputs": [
    {
     "data": {
      "image/png": "[encoded data removed]",
      "text/plain": [
       "<Figure size 1440x504 with 1 Axes>"
      ]
     },
     "metadata": {
      "needs_background": "light"
     },
     "output_type": "display_data"
    }
   ],
   "source": [
    "result1_ind.plot.area(figsize=(20, 7));"
   ]
  },
  {
   "cell_type": "code",
   "execution_count": 95,
   "metadata": {},
   "outputs": [
    {
     "data": {
      "image/png": "[encoded data removed]",
      "text/plain": [
       "<Figure size 1440x504 with 1 Axes>"
      ]
     },
     "metadata": {
      "needs_background": "light"
     },
     "output_type": "display_data"
    }
   ],
   "source": [
    "result2_ind.plot.area(figsize=(20, 7));"
   ]
  },
  {
   "cell_type": "markdown",
   "metadata": {},
   "source": [
    "# 4. 실전연습"
   ]
  },
  {
   "cell_type": "markdown",
   "metadata": {},
   "source": [
    "## 4.1. 동일가중(equal weight)"
   ]
  },
  {
   "cell_type": "code",
   "execution_count": 96,
   "metadata": {},
   "outputs": [
    {
     "data": {
      "text/html": [
       "<div>\n",
       "<style scoped>\n",
       "    .dataframe tbody tr th:only-of-type {\n",
       "        vertical-align: middle;\n",
       "    }\n",
       "\n",
       "    .dataframe tbody tr th {\n",
       "        vertical-align: top;\n",
       "    }\n",
       "\n",
       "    .dataframe thead th {\n",
       "        text-align: right;\n",
       "    }\n",
       "</style>\n",
       "<table border=\"1\" class=\"dataframe\">\n",
       "  <thead>\n",
       "    <tr style=\"text-align: right;\">\n",
       "      <th></th>\n",
       "      <th>IEF</th>\n",
       "      <th>QQQ</th>\n",
       "    </tr>\n",
       "    <tr>\n",
       "      <th>date_time</th>\n",
       "      <th></th>\n",
       "      <th></th>\n",
       "    </tr>\n",
       "  </thead>\n",
       "  <tbody>\n",
       "    <tr>\n",
       "      <th>2002-07-26</th>\n",
       "      <td>48.724</td>\n",
       "      <td>19.653</td>\n",
       "    </tr>\n",
       "    <tr>\n",
       "      <th>2002-07-29</th>\n",
       "      <td>48.153</td>\n",
       "      <td>20.658</td>\n",
       "    </tr>\n",
       "    <tr>\n",
       "      <th>2002-07-30</th>\n",
       "      <td>48.124</td>\n",
       "      <td>21.075</td>\n",
       "    </tr>\n",
       "    <tr>\n",
       "      <th>2002-07-31</th>\n",
       "      <td>48.565</td>\n",
       "      <td>20.676</td>\n",
       "    </tr>\n",
       "    <tr>\n",
       "      <th>2002-08-01</th>\n",
       "      <td>48.765</td>\n",
       "      <td>19.705</td>\n",
       "    </tr>\n",
       "  </tbody>\n",
       "</table>\n",
       "</div>"
      ],
      "text/plain": [
       "              IEF    QQQ\n",
       "date_time               \n",
       "2002-07-26 48.724 19.653\n",
       "2002-07-29 48.153 20.658\n",
       "2002-07-30 48.124 21.075\n",
       "2002-07-31 48.565 20.676\n",
       "2002-08-01 48.765 19.705"
      ]
     },
     "execution_count": 96,
     "metadata": {},
     "output_type": "execute_result"
    }
   ],
   "source": [
    "price_df = pd.read_csv(\"class_materials/data/us_etf_1.csv\", index_col=[0], parse_dates=True).drop(\n",
    "    [\"SHY\", \"TLT\", \"SPY\"], axis=1\n",
    ")\n",
    "price_df.head()"
   ]
  },
  {
   "cell_type": "code",
   "execution_count": 97,
   "metadata": {},
   "outputs": [
    {
     "data": {
      "text/plain": [
       "DatetimeIndex(['2002-07-31', '2002-08-30', '2002-09-30', '2002-10-31',\n",
       "               '2002-11-29', '2002-12-31', '2003-01-31', '2003-02-28',\n",
       "               '2003-03-31', '2003-04-30',\n",
       "               ...\n",
       "               '2020-10-30', '2020-11-30', '2020-12-31', '2021-01-29',\n",
       "               '2021-02-26', '2021-03-31', '2021-04-30', '2021-05-28',\n",
       "               '2021-06-30', '2021-07-30'],\n",
       "              dtype='datetime64[ns]', name='date_time', length=229, freq=None)"
      ]
     },
     "execution_count": 97,
     "metadata": {},
     "output_type": "execute_result"
    }
   ],
   "source": [
    "price_df['year'] = price_df.index.year\n",
    "price_df['month'] = price_df.index.month\n",
    "\n",
    "rebal_index = price_df.drop_duplicates(subset=['year', 'month'], keep='last').index\n",
    "price_df = price_df.drop(['year', 'month'], axis=1)\n",
    "\n",
    "rebal_index"
   ]
  },
  {
   "cell_type": "code",
   "execution_count": 98,
   "metadata": {},
   "outputs": [
    {
     "data": {
      "text/html": [
       "<div>\n",
       "<style scoped>\n",
       "    .dataframe tbody tr th:only-of-type {\n",
       "        vertical-align: middle;\n",
       "    }\n",
       "\n",
       "    .dataframe tbody tr th {\n",
       "        vertical-align: top;\n",
       "    }\n",
       "\n",
       "    .dataframe thead th {\n",
       "        text-align: right;\n",
       "    }\n",
       "</style>\n",
       "<table border=\"1\" class=\"dataframe\">\n",
       "  <thead>\n",
       "    <tr style=\"text-align: right;\">\n",
       "      <th></th>\n",
       "      <th>IEF</th>\n",
       "      <th>QQQ</th>\n",
       "    </tr>\n",
       "    <tr>\n",
       "      <th>date_time</th>\n",
       "      <th></th>\n",
       "      <th></th>\n",
       "    </tr>\n",
       "  </thead>\n",
       "  <tbody>\n",
       "    <tr>\n",
       "      <th>2002-07-31</th>\n",
       "      <td>0.500</td>\n",
       "      <td>0.500</td>\n",
       "    </tr>\n",
       "    <tr>\n",
       "      <th>2002-08-30</th>\n",
       "      <td>0.500</td>\n",
       "      <td>0.500</td>\n",
       "    </tr>\n",
       "    <tr>\n",
       "      <th>2002-09-30</th>\n",
       "      <td>0.500</td>\n",
       "      <td>0.500</td>\n",
       "    </tr>\n",
       "    <tr>\n",
       "      <th>2002-10-31</th>\n",
       "      <td>0.500</td>\n",
       "      <td>0.500</td>\n",
       "    </tr>\n",
       "    <tr>\n",
       "      <th>2002-11-29</th>\n",
       "      <td>0.500</td>\n",
       "      <td>0.500</td>\n",
       "    </tr>\n",
       "    <tr>\n",
       "      <th>...</th>\n",
       "      <td>...</td>\n",
       "      <td>...</td>\n",
       "    </tr>\n",
       "    <tr>\n",
       "      <th>2021-03-31</th>\n",
       "      <td>0.500</td>\n",
       "      <td>0.500</td>\n",
       "    </tr>\n",
       "    <tr>\n",
       "      <th>2021-04-30</th>\n",
       "      <td>0.500</td>\n",
       "      <td>0.500</td>\n",
       "    </tr>\n",
       "    <tr>\n",
       "      <th>2021-05-28</th>\n",
       "      <td>0.500</td>\n",
       "      <td>0.500</td>\n",
       "    </tr>\n",
       "    <tr>\n",
       "      <th>2021-06-30</th>\n",
       "      <td>0.500</td>\n",
       "      <td>0.500</td>\n",
       "    </tr>\n",
       "    <tr>\n",
       "      <th>2021-07-30</th>\n",
       "      <td>0.500</td>\n",
       "      <td>0.500</td>\n",
       "    </tr>\n",
       "  </tbody>\n",
       "</table>\n",
       "<p>229 rows × 2 columns</p>\n",
       "</div>"
      ],
      "text/plain": [
       "             IEF   QQQ\n",
       "date_time             \n",
       "2002-07-31 0.500 0.500\n",
       "2002-08-30 0.500 0.500\n",
       "2002-09-30 0.500 0.500\n",
       "2002-10-31 0.500 0.500\n",
       "2002-11-29 0.500 0.500\n",
       "...          ...   ...\n",
       "2021-03-31 0.500 0.500\n",
       "2021-04-30 0.500 0.500\n",
       "2021-05-28 0.500 0.500\n",
       "2021-06-30 0.500 0.500\n",
       "2021-07-30 0.500 0.500\n",
       "\n",
       "[229 rows x 2 columns]"
      ]
     },
     "execution_count": 98,
     "metadata": {},
     "output_type": "execute_result"
    }
   ],
   "source": [
    "target_weight_df = pd.DataFrame(\n",
    "    [[1 / len(price_df.columns)] * len(price_df.columns)] * len(rebal_index),\n",
    "    index=rebal_index,\n",
    "    columns=price_df.columns\n",
    ")\n",
    "\n",
    "target_weight_df"
   ]
  },
  {
   "cell_type": "code",
   "execution_count": 99,
   "metadata": {},
   "outputs": [
    {
     "data": {
      "text/plain": [
       "'cumulative 방식으로 리밸런싱 적용'"
      ]
     },
     "execution_count": 99,
     "metadata": {},
     "output_type": "execute_result"
    }
   ],
   "source": [
    "\"\"\"cumulative 방식으로 리밸런싱 적용\"\"\"\n",
    "\n",
    "cum_rtn_at_last_month_end = 1\n",
    "individual_port_val_df_list = []\n",
    "\n",
    "prev_end_day = rebal_index[0]\n",
    "for end_day in rebal_index[1:]:\n",
    "    sub_price_df = price_df.loc[prev_end_day:end_day]\n",
    "    sub_cum_rtn_df = sub_price_df / sub_price_df.iloc[0]\n",
    "\n",
    "    weight_series = target_weight_df.loc[prev_end_day]\n",
    "    indi_port_cum_rtn_df = (sub_cum_rtn_df * weight_series) * cum_rtn_at_last_month_end\n",
    "\n",
    "    individual_port_val_df_list.append(indi_port_cum_rtn_df)\n",
    "\n",
    "    total_port_cum_rtn_series = indi_port_cum_rtn_df.sum(axis=1)\n",
    "    cum_rtn_at_last_month_end = total_port_cum_rtn_series.iloc[-1]\n",
    "\n",
    "    prev_end_day = end_day"
   ]
  },
  {
   "cell_type": "code",
   "execution_count": 100,
   "metadata": {},
   "outputs": [
    {
     "data": {
      "text/plain": [
       "'전체 기간 주기별 포트폴리오 밸런스'"
      ]
     },
     "execution_count": 100,
     "metadata": {},
     "output_type": "execute_result"
    },
    {
     "data": {
      "text/html": [
       "<div>\n",
       "<style scoped>\n",
       "    .dataframe tbody tr th:only-of-type {\n",
       "        vertical-align: middle;\n",
       "    }\n",
       "\n",
       "    .dataframe tbody tr th {\n",
       "        vertical-align: top;\n",
       "    }\n",
       "\n",
       "    .dataframe thead th {\n",
       "        text-align: right;\n",
       "    }\n",
       "</style>\n",
       "<table border=\"1\" class=\"dataframe\">\n",
       "  <thead>\n",
       "    <tr style=\"text-align: right;\">\n",
       "      <th></th>\n",
       "      <th>IEF</th>\n",
       "      <th>QQQ</th>\n",
       "    </tr>\n",
       "    <tr>\n",
       "      <th>date_time</th>\n",
       "      <th></th>\n",
       "      <th></th>\n",
       "    </tr>\n",
       "  </thead>\n",
       "  <tbody>\n",
       "    <tr>\n",
       "      <th>2002-07-31</th>\n",
       "      <td>0.500</td>\n",
       "      <td>0.500</td>\n",
       "    </tr>\n",
       "    <tr>\n",
       "      <th>2002-08-01</th>\n",
       "      <td>0.502</td>\n",
       "      <td>0.477</td>\n",
       "    </tr>\n",
       "    <tr>\n",
       "      <th>2002-08-02</th>\n",
       "      <td>0.506</td>\n",
       "      <td>0.466</td>\n",
       "    </tr>\n",
       "    <tr>\n",
       "      <th>2002-08-05</th>\n",
       "      <td>0.508</td>\n",
       "      <td>0.449</td>\n",
       "    </tr>\n",
       "    <tr>\n",
       "      <th>2002-08-06</th>\n",
       "      <td>0.504</td>\n",
       "      <td>0.472</td>\n",
       "    </tr>\n",
       "    <tr>\n",
       "      <th>...</th>\n",
       "      <td>...</td>\n",
       "      <td>...</td>\n",
       "    </tr>\n",
       "    <tr>\n",
       "      <th>2021-07-26</th>\n",
       "      <td>3.608</td>\n",
       "      <td>3.696</td>\n",
       "    </tr>\n",
       "    <tr>\n",
       "      <th>2021-07-27</th>\n",
       "      <td>3.623</td>\n",
       "      <td>3.655</td>\n",
       "    </tr>\n",
       "    <tr>\n",
       "      <th>2021-07-28</th>\n",
       "      <td>3.626</td>\n",
       "      <td>3.669</td>\n",
       "    </tr>\n",
       "    <tr>\n",
       "      <th>2021-07-29</th>\n",
       "      <td>3.615</td>\n",
       "      <td>3.676</td>\n",
       "    </tr>\n",
       "    <tr>\n",
       "      <th>2021-07-30</th>\n",
       "      <td>3.625</td>\n",
       "      <td>3.656</td>\n",
       "    </tr>\n",
       "  </tbody>\n",
       "</table>\n",
       "<p>4784 rows × 2 columns</p>\n",
       "</div>"
      ],
      "text/plain": [
       "             IEF   QQQ\n",
       "date_time             \n",
       "2002-07-31 0.500 0.500\n",
       "2002-08-01 0.502 0.477\n",
       "2002-08-02 0.506 0.466\n",
       "2002-08-05 0.508 0.449\n",
       "2002-08-06 0.504 0.472\n",
       "...          ...   ...\n",
       "2021-07-26 3.608 3.696\n",
       "2021-07-27 3.623 3.655\n",
       "2021-07-28 3.626 3.669\n",
       "2021-07-29 3.615 3.676\n",
       "2021-07-30 3.625 3.656\n",
       "\n",
       "[4784 rows x 2 columns]"
      ]
     },
     "execution_count": 100,
     "metadata": {},
     "output_type": "execute_result"
    }
   ],
   "source": [
    "\"\"\"전체 기간 주기별 포트폴리오 밸런스\"\"\"\n",
    "from functools import reduce\n",
    "\n",
    "all_ind_portval_df = reduce(lambda x, y: pd.concat([x, y.iloc[1:]]), individual_port_val_df_list)\n",
    "all_ind_portval_df"
   ]
  },
  {
   "cell_type": "code",
   "execution_count": 101,
   "metadata": {},
   "outputs": [
    {
     "data": {
      "text/plain": [
       "'QQQ 종목만 Buy & Hold 했을 경우의 기대 수익률'"
      ]
     },
     "execution_count": 101,
     "metadata": {},
     "output_type": "execute_result"
    },
    {
     "data": {
      "text/plain": [
       "date_time\n",
       "2002-07-31    1.000\n",
       "2002-08-01    0.953\n",
       "2002-08-02    0.933\n",
       "2002-08-05    0.899\n",
       "2002-08-06    0.943\n",
       "              ...  \n",
       "2021-07-26   17.822\n",
       "2021-07-27   17.626\n",
       "2021-07-28   17.694\n",
       "2021-07-29   17.725\n",
       "2021-07-30   17.633\n",
       "Name: QQQ, Length: 4784, dtype: float64"
      ]
     },
     "execution_count": 101,
     "metadata": {},
     "output_type": "execute_result"
    }
   ],
   "source": [
    "\"\"\"QQQ 종목만 Buy & Hold 했을 경우의 기대 수익률\"\"\"\n",
    "price_df = price_df.loc[all_ind_portval_df.index[0]:]\n",
    "buy_and_hold_series = price_df[\"QQQ\"] / price_df[\"QQQ\"].iloc[0]\n",
    "buy_and_hold_series"
   ]
  },
  {
   "cell_type": "code",
   "execution_count": 102,
   "metadata": {},
   "outputs": [
    {
     "data": {
      "text/plain": [
       "'포트폴리오와 QQQ 단일 Buy & Hold 병합'"
      ]
     },
     "execution_count": 102,
     "metadata": {},
     "output_type": "execute_result"
    },
    {
     "data": {
      "text/html": [
       "<div>\n",
       "<style scoped>\n",
       "    .dataframe tbody tr th:only-of-type {\n",
       "        vertical-align: middle;\n",
       "    }\n",
       "\n",
       "    .dataframe tbody tr th {\n",
       "        vertical-align: top;\n",
       "    }\n",
       "\n",
       "    .dataframe thead th {\n",
       "        text-align: right;\n",
       "    }\n",
       "</style>\n",
       "<table border=\"1\" class=\"dataframe\">\n",
       "  <thead>\n",
       "    <tr style=\"text-align: right;\">\n",
       "      <th></th>\n",
       "      <th>strategy</th>\n",
       "      <th>buy_and_hold</th>\n",
       "    </tr>\n",
       "    <tr>\n",
       "      <th>date_time</th>\n",
       "      <th></th>\n",
       "      <th></th>\n",
       "    </tr>\n",
       "  </thead>\n",
       "  <tbody>\n",
       "    <tr>\n",
       "      <th>2002-07-31</th>\n",
       "      <td>1.000</td>\n",
       "      <td>1.000</td>\n",
       "    </tr>\n",
       "    <tr>\n",
       "      <th>2002-08-01</th>\n",
       "      <td>0.979</td>\n",
       "      <td>0.953</td>\n",
       "    </tr>\n",
       "    <tr>\n",
       "      <th>2002-08-02</th>\n",
       "      <td>0.972</td>\n",
       "      <td>0.933</td>\n",
       "    </tr>\n",
       "    <tr>\n",
       "      <th>2002-08-05</th>\n",
       "      <td>0.958</td>\n",
       "      <td>0.899</td>\n",
       "    </tr>\n",
       "    <tr>\n",
       "      <th>2002-08-06</th>\n",
       "      <td>0.976</td>\n",
       "      <td>0.943</td>\n",
       "    </tr>\n",
       "  </tbody>\n",
       "</table>\n",
       "</div>"
      ],
      "text/plain": [
       "            strategy  buy_and_hold\n",
       "date_time                         \n",
       "2002-07-31     1.000         1.000\n",
       "2002-08-01     0.979         0.953\n",
       "2002-08-02     0.972         0.933\n",
       "2002-08-05     0.958         0.899\n",
       "2002-08-06     0.976         0.943"
      ]
     },
     "execution_count": 102,
     "metadata": {},
     "output_type": "execute_result"
    }
   ],
   "source": [
    "\"\"\"포트폴리오와 QQQ 단일 Buy & Hold 병합\"\"\"\n",
    "compare_df = pd.concat(\n",
    "    [all_ind_portval_df.sum(axis=1), buy_and_hold_series],\n",
    "    keys=[\"strategy\", \"buy_and_hold\"], axis=1\n",
    ")\n",
    "compare_df.head()"
   ]
  },
  {
   "cell_type": "code",
   "execution_count": 103,
   "metadata": {},
   "outputs": [
    {
     "data": {
      "image/png": "[encoded data removed]",
      "text/plain": [
       "<Figure size 1440x504 with 1 Axes>"
      ]
     },
     "metadata": {
      "needs_background": "light"
     },
     "output_type": "display_data"
    }
   ],
   "source": [
    "compare_df.plot(figsize=(20, 7));"
   ]
  },
  {
   "cell_type": "code",
   "execution_count": 104,
   "metadata": {},
   "outputs": [
    {
     "data": {
      "text/html": [
       "<div>\n",
       "<style scoped>\n",
       "    .dataframe tbody tr th:only-of-type {\n",
       "        vertical-align: middle;\n",
       "    }\n",
       "\n",
       "    .dataframe tbody tr th {\n",
       "        vertical-align: top;\n",
       "    }\n",
       "\n",
       "    .dataframe thead th {\n",
       "        text-align: right;\n",
       "    }\n",
       "</style>\n",
       "<table border=\"1\" class=\"dataframe\">\n",
       "  <thead>\n",
       "    <tr style=\"text-align: right;\">\n",
       "      <th></th>\n",
       "      <th>Sharpe Ratio</th>\n",
       "    </tr>\n",
       "  </thead>\n",
       "  <tbody>\n",
       "    <tr>\n",
       "      <th>strategy</th>\n",
       "      <td>0.794</td>\n",
       "    </tr>\n",
       "    <tr>\n",
       "      <th>buy_and_hold</th>\n",
       "      <td>0.577</td>\n",
       "    </tr>\n",
       "  </tbody>\n",
       "</table>\n",
       "</div>"
      ],
      "text/plain": [
       "              Sharpe Ratio\n",
       "strategy             0.794\n",
       "buy_and_hold         0.577"
      ]
     },
     "execution_count": 104,
     "metadata": {},
     "output_type": "execute_result"
    }
   ],
   "source": [
    "utils.get_sharpe_ratio(utils.get_returns_df(compare_df, log=True)).to_frame(\"Sharpe Ratio\")"
   ]
  },
  {
   "cell_type": "code",
   "execution_count": 105,
   "metadata": {},
   "outputs": [
    {
     "data": {
      "text/html": [
       "<div>\n",
       "<style scoped>\n",
       "    .dataframe tbody tr th:only-of-type {\n",
       "        vertical-align: middle;\n",
       "    }\n",
       "\n",
       "    .dataframe tbody tr th {\n",
       "        vertical-align: top;\n",
       "    }\n",
       "\n",
       "    .dataframe thead th {\n",
       "        text-align: right;\n",
       "    }\n",
       "</style>\n",
       "<table border=\"1\" class=\"dataframe\">\n",
       "  <thead>\n",
       "    <tr style=\"text-align: right;\">\n",
       "      <th></th>\n",
       "      <th>CAGR</th>\n",
       "    </tr>\n",
       "  </thead>\n",
       "  <tbody>\n",
       "    <tr>\n",
       "      <th>strategy</th>\n",
       "      <td>0.109</td>\n",
       "    </tr>\n",
       "    <tr>\n",
       "      <th>buy_and_hold</th>\n",
       "      <td>0.162</td>\n",
       "    </tr>\n",
       "  </tbody>\n",
       "</table>\n",
       "</div>"
      ],
      "text/plain": [
       "              CAGR\n",
       "strategy     0.109\n",
       "buy_and_hold 0.162"
      ]
     },
     "execution_count": 105,
     "metadata": {},
     "output_type": "execute_result"
    }
   ],
   "source": [
    "utils.get_CAGR_series(compare_df).to_frame(\"CAGR\")"
   ]
  },
  {
   "cell_type": "code",
   "execution_count": 106,
   "metadata": {},
   "outputs": [
    {
     "data": {
      "image/png": "[encoded data removed]",
      "text/plain": [
       "<Figure size 1440x504 with 1 Axes>"
      ]
     },
     "metadata": {
      "needs_background": "light"
     },
     "output_type": "display_data"
    }
   ],
   "source": [
    "dd_df, mdd_series, longest_dd_period_df = utils.get_drawdown_infos(compare_df)\n",
    "dd_df.plot(figsize=(20, 7));"
   ]
  },
  {
   "cell_type": "code",
   "execution_count": 107,
   "metadata": {},
   "outputs": [
    {
     "data": {
      "text/html": [
       "<div>\n",
       "<style scoped>\n",
       "    .dataframe tbody tr th:only-of-type {\n",
       "        vertical-align: middle;\n",
       "    }\n",
       "\n",
       "    .dataframe tbody tr th {\n",
       "        vertical-align: top;\n",
       "    }\n",
       "\n",
       "    .dataframe thead th {\n",
       "        text-align: right;\n",
       "    }\n",
       "</style>\n",
       "<table border=\"1\" class=\"dataframe\">\n",
       "  <thead>\n",
       "    <tr style=\"text-align: right;\">\n",
       "      <th></th>\n",
       "      <th>MDD</th>\n",
       "    </tr>\n",
       "  </thead>\n",
       "  <tbody>\n",
       "    <tr>\n",
       "      <th>strategy</th>\n",
       "      <td>-0.245</td>\n",
       "    </tr>\n",
       "    <tr>\n",
       "      <th>buy_and_hold</th>\n",
       "      <td>-0.534</td>\n",
       "    </tr>\n",
       "  </tbody>\n",
       "</table>\n",
       "</div>"
      ],
      "text/plain": [
       "                MDD\n",
       "strategy     -0.245\n",
       "buy_and_hold -0.534"
      ]
     },
     "execution_count": 107,
     "metadata": {},
     "output_type": "execute_result"
    }
   ],
   "source": [
    "mdd_series.to_frame(\"MDD\")"
   ]
  },
  {
   "cell_type": "code",
   "execution_count": 109,
   "metadata": {},
   "outputs": [
    {
     "data": {
      "text/html": [
       "<div>\n",
       "<style scoped>\n",
       "    .dataframe tbody tr th:only-of-type {\n",
       "        vertical-align: middle;\n",
       "    }\n",
       "\n",
       "    .dataframe tbody tr th {\n",
       "        vertical-align: top;\n",
       "    }\n",
       "\n",
       "    .dataframe thead th {\n",
       "        text-align: right;\n",
       "    }\n",
       "</style>\n",
       "<table border=\"1\" class=\"dataframe\">\n",
       "  <thead>\n",
       "    <tr style=\"text-align: right;\">\n",
       "      <th></th>\n",
       "      <th>drawdown mean</th>\n",
       "      <th>drawdown std</th>\n",
       "      <th>longest days</th>\n",
       "      <th>longest period</th>\n",
       "    </tr>\n",
       "  </thead>\n",
       "  <tbody>\n",
       "    <tr>\n",
       "      <th>strategy</th>\n",
       "      <td>9</td>\n",
       "      <td>37</td>\n",
       "      <td>741</td>\n",
       "      <td>2007-11-06 ~ 2009-11-16</td>\n",
       "    </tr>\n",
       "    <tr>\n",
       "      <th>buy_and_hold</th>\n",
       "      <td>11</td>\n",
       "      <td>54</td>\n",
       "      <td>1134</td>\n",
       "      <td>2007-10-31 ~ 2010-12-08</td>\n",
       "    </tr>\n",
       "  </tbody>\n",
       "</table>\n",
       "</div>"
      ],
      "text/plain": [
       "              drawdown mean  drawdown std  longest days  \\\n",
       "strategy                  9            37           741   \n",
       "buy_and_hold             11            54          1134   \n",
       "\n",
       "                       longest period  \n",
       "strategy      2007-11-06 ~ 2009-11-16  \n",
       "buy_and_hold  2007-10-31 ~ 2010-12-08  "
      ]
     },
     "execution_count": 109,
     "metadata": {},
     "output_type": "execute_result"
    }
   ],
   "source": [
    "longest_dd_period_df"
   ]
  },
  {
   "cell_type": "markdown",
   "metadata": {},
   "source": [
    "## 4.2. 각자 해볼 만한 것\n",
    "\n",
    "- 비중변경: 60:40 등\n",
    "- rebal period 변경: monthly, yearly, half year, quarterly\n",
    "  - 월초, 월말\n",
    "  - 그래도 곡선은 daily로 tracking됨\n",
    "- 본인만의 종목 구성(TQQQ:TLT)\n",
    "- 함수화"
   ]
  },
  {
   "cell_type": "code",
   "execution_count": null,
   "metadata": {},
   "outputs": [],
   "source": []
  }
 ],
 "metadata": {
  "kernelspec": {
   "display_name": "Python 3.9.12 ('quant')",
   "language": "python",
   "name": "python3"
  },
  "language_info": {
   "codemirror_mode": {
    "name": "ipython",
    "version": 3
   },
   "file_extension": ".py",
   "mimetype": "text/x-python",
   "name": "python",
   "nbconvert_exporter": "python",
   "pygments_lexer": "ipython3",
   "version": "3.9.12"
  },
  "orig_nbformat": 4,
  "vscode": {
   "interpreter": {
    "hash": "3345f8c2c33d92ed3c20479cf426dbbf8de072372bdc070376468431585c887c"
   }
  }
 },
 "nbformat": 4,
 "nbformat_minor": 2
}
