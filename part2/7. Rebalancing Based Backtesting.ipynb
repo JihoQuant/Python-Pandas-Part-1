{
 "cells": [
  {
   "cell_type": "code",
   "execution_count": 33,
   "metadata": {},
   "outputs": [],
   "source": [
    "import pandas as pd\n",
    "import numpy as np\n",
    "import matplotlib as mpl\n",
    "import matplotlib.pyplot as plt\n",
    "import FinanceDataReader as fdr\n",
    "\n",
    "from pandas import DataFrame, Series\n",
    "from initializer import init\n",
    "import utils\n",
    "\n",
    "%matplotlib inline\n",
    "plt.rcParams['font.family'] = 'AppleGothic'\n",
    "mpl.rcParams['axes.unicode_minus'] = False\n",
    "\n",
    "init()"
   ]
  },
  {
   "cell_type": "markdown",
   "metadata": {},
   "source": [
    "# 1. Basic"
   ]
  },
  {
   "cell_type": "markdown",
   "metadata": {},
   "source": [
    "## 1.1. Reminder\n",
    "\n",
    "- cumulative return 산출"
   ]
  },
  {
   "cell_type": "markdown",
   "metadata": {},
   "source": [
    "## 1.2. Weight\n",
    "\n",
    "- 각 자산 비중(ratio)\n",
    "- 특정 시점에서 항상 sum이 1이어야 함(진입 기준)\n",
    "- e.g. Equal Weight Rebalancing"
   ]
  },
  {
   "cell_type": "markdown",
   "metadata": {},
   "source": [
    "## 1.3. Return\n",
    "\n",
    "- $ \\text{Return of portfolio on day 1 } = {w_a}{r_a} + {w_b}{r_b} + {w_c}{r_c} + \\dots $\n",
    "- 1일 차의 $\\sum$ (각 자신의 비중 * 각 자산의 return)"
   ]
  },
  {
   "cell_type": "markdown",
   "metadata": {},
   "source": [
    "## 1.4. 중요한 포인트\n",
    "\n",
    "- A 주가: [10, 12, 6](daily return: [+0.2, -0.5])\n",
    "- B 주가: [10, 5, 6](daily return: [-0.5, +0.2])\n",
    "- 각 10주씩 매수하고 buy & hold\n",
    "---\n",
    "- 위 1.3. 방식으로 수익률 계산하면...\n",
    "  - 첫째날: `-0.15 (0.5 * 0.2 + 0.5 * -0.5)`\n",
    "  - 둘째날: `-0.15 (0.5 * -0.5 + 0.5 * 0.2)`\n",
    "  - 전체: `200 => 200 * (1 - 0.15) => 200 * (1 - 0.15)^2`\n",
    "    - `[200, 170, 144.499999]`\n",
    "---\n",
    "- 그런데 포트폴리오 전체 value 관점에서 계산하면 `[200, 170, 120]`\n",
    "  - 수익률은 `[0, -0.15, -0.294]`\n",
    "---\n",
    "\n",
    "> 첫째날이 지나면 포트폴리오의 weight가 달라지는 점을 유의하자.\n",
    "\n",
    "### 1.4.1. Quiz\n",
    "\n",
    "> 60:40 or 올웨더 전략 등 비중 기반 전략 진입 시, 비중만 유지하면 언제든 진입해도 될까?\n",
    "\n",
    "안 되겠지"
   ]
  },
  {
   "cell_type": "markdown",
   "metadata": {},
   "source": [
    "# 2. Buy & Hold"
   ]
  },
  {
   "cell_type": "markdown",
   "metadata": {},
   "source": [
    "## 2.1. 구현"
   ]
  },
  {
   "cell_type": "markdown",
   "metadata": {},
   "source": [
    "### 2.1.1. Data 준비"
   ]
  },
  {
   "cell_type": "code",
   "execution_count": 34,
   "metadata": {},
   "outputs": [
    {
     "data": {
      "text/html": [
       "<div>\n",
       "<style scoped>\n",
       "    .dataframe tbody tr th:only-of-type {\n",
       "        vertical-align: middle;\n",
       "    }\n",
       "\n",
       "    .dataframe tbody tr th {\n",
       "        vertical-align: top;\n",
       "    }\n",
       "\n",
       "    .dataframe thead th {\n",
       "        text-align: right;\n",
       "    }\n",
       "</style>\n",
       "<table border=\"1\" class=\"dataframe\">\n",
       "  <thead>\n",
       "    <tr style=\"text-align: right;\">\n",
       "      <th></th>\n",
       "      <th>A</th>\n",
       "      <th>B</th>\n",
       "      <th>C</th>\n",
       "    </tr>\n",
       "  </thead>\n",
       "  <tbody>\n",
       "    <tr>\n",
       "      <th>2018-01-31</th>\n",
       "      <td>10</td>\n",
       "      <td>10</td>\n",
       "      <td>10</td>\n",
       "    </tr>\n",
       "    <tr>\n",
       "      <th>2018-02-10</th>\n",
       "      <td>15</td>\n",
       "      <td>10</td>\n",
       "      <td>12</td>\n",
       "    </tr>\n",
       "    <tr>\n",
       "      <th>2018-02-20</th>\n",
       "      <td>12</td>\n",
       "      <td>8</td>\n",
       "      <td>14</td>\n",
       "    </tr>\n",
       "    <tr>\n",
       "      <th>2018-02-28</th>\n",
       "      <td>13</td>\n",
       "      <td>13</td>\n",
       "      <td>16</td>\n",
       "    </tr>\n",
       "    <tr>\n",
       "      <th>2018-03-20</th>\n",
       "      <td>10</td>\n",
       "      <td>12</td>\n",
       "      <td>14</td>\n",
       "    </tr>\n",
       "    <tr>\n",
       "      <th>2018-03-29</th>\n",
       "      <td>11</td>\n",
       "      <td>12</td>\n",
       "      <td>14</td>\n",
       "    </tr>\n",
       "    <tr>\n",
       "      <th>2018-04-30</th>\n",
       "      <td>12</td>\n",
       "      <td>12</td>\n",
       "      <td>16</td>\n",
       "    </tr>\n",
       "  </tbody>\n",
       "</table>\n",
       "</div>"
      ],
      "text/plain": [
       "             A   B   C\n",
       "2018-01-31  10  10  10\n",
       "2018-02-10  15  10  12\n",
       "2018-02-20  12   8  14\n",
       "2018-02-28  13  13  16\n",
       "2018-03-20  10  12  14\n",
       "2018-03-29  11  12  14\n",
       "2018-04-30  12  12  16"
      ]
     },
     "execution_count": 34,
     "metadata": {},
     "output_type": "execute_result"
    }
   ],
   "source": [
    "df = pd.DataFrame(\n",
    "    {\n",
    "        \"A\": [10, 15, 12, 13, 10, 11, 12],\n",
    "        \"B\": [10, 10, 8, 13, 12, 12, 12],\n",
    "        \"C\": [10, 12, 14, 16, 14, 14, 16],\n",
    "    },\n",
    "    index=pd.to_datetime([\"2018-01-31\", \"2018-02-10\", \"2018-02-20\", \"2018-02-28\", \"2018-03-20\", \"2018-03-29\", \"2018-04-30\",])\n",
    ")\n",
    "df"
   ]
  },
  {
   "cell_type": "markdown",
   "metadata": {},
   "source": [
    "### 2.1.2. Shifted Return 구하기"
   ]
  },
  {
   "cell_type": "code",
   "execution_count": 35,
   "metadata": {},
   "outputs": [
    {
     "data": {
      "text/plain": [
       "'이 상황에서는 Log Based Return을 사용할 수 없음을 기억하자'"
      ]
     },
     "execution_count": 35,
     "metadata": {},
     "output_type": "execute_result"
    },
    {
     "data": {
      "text/html": [
       "<div>\n",
       "<style scoped>\n",
       "    .dataframe tbody tr th:only-of-type {\n",
       "        vertical-align: middle;\n",
       "    }\n",
       "\n",
       "    .dataframe tbody tr th {\n",
       "        vertical-align: top;\n",
       "    }\n",
       "\n",
       "    .dataframe thead th {\n",
       "        text-align: right;\n",
       "    }\n",
       "</style>\n",
       "<table border=\"1\" class=\"dataframe\">\n",
       "  <thead>\n",
       "    <tr style=\"text-align: right;\">\n",
       "      <th></th>\n",
       "      <th>A</th>\n",
       "      <th>B</th>\n",
       "      <th>C</th>\n",
       "    </tr>\n",
       "  </thead>\n",
       "  <tbody>\n",
       "    <tr>\n",
       "      <th>2018-01-31</th>\n",
       "      <td>0.000</td>\n",
       "      <td>0.000</td>\n",
       "      <td>0.000</td>\n",
       "    </tr>\n",
       "    <tr>\n",
       "      <th>2018-02-10</th>\n",
       "      <td>0.500</td>\n",
       "      <td>0.000</td>\n",
       "      <td>0.200</td>\n",
       "    </tr>\n",
       "    <tr>\n",
       "      <th>2018-02-20</th>\n",
       "      <td>-0.200</td>\n",
       "      <td>-0.200</td>\n",
       "      <td>0.167</td>\n",
       "    </tr>\n",
       "    <tr>\n",
       "      <th>2018-02-28</th>\n",
       "      <td>0.083</td>\n",
       "      <td>0.625</td>\n",
       "      <td>0.143</td>\n",
       "    </tr>\n",
       "    <tr>\n",
       "      <th>2018-03-20</th>\n",
       "      <td>-0.231</td>\n",
       "      <td>-0.077</td>\n",
       "      <td>-0.125</td>\n",
       "    </tr>\n",
       "    <tr>\n",
       "      <th>2018-03-29</th>\n",
       "      <td>0.100</td>\n",
       "      <td>0.000</td>\n",
       "      <td>0.000</td>\n",
       "    </tr>\n",
       "    <tr>\n",
       "      <th>2018-04-30</th>\n",
       "      <td>0.091</td>\n",
       "      <td>0.000</td>\n",
       "      <td>0.143</td>\n",
       "    </tr>\n",
       "  </tbody>\n",
       "</table>\n",
       "</div>"
      ],
      "text/plain": [
       "                A      B      C\n",
       "2018-01-31  0.000  0.000  0.000\n",
       "2018-02-10  0.500  0.000  0.200\n",
       "2018-02-20 -0.200 -0.200  0.167\n",
       "2018-02-28  0.083  0.625  0.143\n",
       "2018-03-20 -0.231 -0.077 -0.125\n",
       "2018-03-29  0.100  0.000  0.000\n",
       "2018-04-30  0.091  0.000  0.143"
      ]
     },
     "execution_count": 35,
     "metadata": {},
     "output_type": "execute_result"
    },
    {
     "data": {
      "text/plain": [
       "'shift 해야 해당 date에서 데이터를 가지고 있을 때 발생하는 수익률을 mapping 하기 쉬움'"
      ]
     },
     "execution_count": 35,
     "metadata": {},
     "output_type": "execute_result"
    },
    {
     "data": {
      "text/html": [
       "<div>\n",
       "<style scoped>\n",
       "    .dataframe tbody tr th:only-of-type {\n",
       "        vertical-align: middle;\n",
       "    }\n",
       "\n",
       "    .dataframe tbody tr th {\n",
       "        vertical-align: top;\n",
       "    }\n",
       "\n",
       "    .dataframe thead th {\n",
       "        text-align: right;\n",
       "    }\n",
       "</style>\n",
       "<table border=\"1\" class=\"dataframe\">\n",
       "  <thead>\n",
       "    <tr style=\"text-align: right;\">\n",
       "      <th></th>\n",
       "      <th>A</th>\n",
       "      <th>B</th>\n",
       "      <th>C</th>\n",
       "    </tr>\n",
       "  </thead>\n",
       "  <tbody>\n",
       "    <tr>\n",
       "      <th>2018-01-31</th>\n",
       "      <td>0.500</td>\n",
       "      <td>0.000</td>\n",
       "      <td>0.200</td>\n",
       "    </tr>\n",
       "    <tr>\n",
       "      <th>2018-02-10</th>\n",
       "      <td>-0.200</td>\n",
       "      <td>-0.200</td>\n",
       "      <td>0.167</td>\n",
       "    </tr>\n",
       "    <tr>\n",
       "      <th>2018-02-20</th>\n",
       "      <td>0.083</td>\n",
       "      <td>0.625</td>\n",
       "      <td>0.143</td>\n",
       "    </tr>\n",
       "    <tr>\n",
       "      <th>2018-02-28</th>\n",
       "      <td>-0.231</td>\n",
       "      <td>-0.077</td>\n",
       "      <td>-0.125</td>\n",
       "    </tr>\n",
       "    <tr>\n",
       "      <th>2018-03-20</th>\n",
       "      <td>0.100</td>\n",
       "      <td>0.000</td>\n",
       "      <td>0.000</td>\n",
       "    </tr>\n",
       "    <tr>\n",
       "      <th>2018-03-29</th>\n",
       "      <td>0.091</td>\n",
       "      <td>0.000</td>\n",
       "      <td>0.143</td>\n",
       "    </tr>\n",
       "    <tr>\n",
       "      <th>2018-04-30</th>\n",
       "      <td>0.000</td>\n",
       "      <td>0.000</td>\n",
       "      <td>0.000</td>\n",
       "    </tr>\n",
       "  </tbody>\n",
       "</table>\n",
       "</div>"
      ],
      "text/plain": [
       "                A      B      C\n",
       "2018-01-31  0.500  0.000  0.200\n",
       "2018-02-10 -0.200 -0.200  0.167\n",
       "2018-02-20  0.083  0.625  0.143\n",
       "2018-02-28 -0.231 -0.077 -0.125\n",
       "2018-03-20  0.100  0.000  0.000\n",
       "2018-03-29  0.091  0.000  0.143\n",
       "2018-04-30  0.000  0.000  0.000"
      ]
     },
     "execution_count": 35,
     "metadata": {},
     "output_type": "execute_result"
    }
   ],
   "source": [
    "\"\"\"이 상황에서는 Log Based Return을 사용할 수 없음을 기억하자\"\"\"\n",
    "rtn_df = utils.get_returns_df(df, log=False)\n",
    "rtn_df\n",
    "\"\"\"shift 해야 해당 date에서 데이터를 가지고 있을 때 발생하는 수익률을 mapping 하기 쉬움\"\"\"\n",
    "shifted_rtn_df = rtn_df.shift(-1).fillna(0)\n",
    "shifted_rtn_df"
   ]
  },
  {
   "cell_type": "code",
   "execution_count": 36,
   "metadata": {},
   "outputs": [
    {
     "data": {
      "text/html": [
       "<div>\n",
       "<style scoped>\n",
       "    .dataframe tbody tr th:only-of-type {\n",
       "        vertical-align: middle;\n",
       "    }\n",
       "\n",
       "    .dataframe tbody tr th {\n",
       "        vertical-align: top;\n",
       "    }\n",
       "\n",
       "    .dataframe thead th {\n",
       "        text-align: right;\n",
       "    }\n",
       "</style>\n",
       "<table border=\"1\" class=\"dataframe\">\n",
       "  <thead>\n",
       "    <tr style=\"text-align: right;\">\n",
       "      <th></th>\n",
       "      <th>A</th>\n",
       "      <th>B</th>\n",
       "      <th>C</th>\n",
       "    </tr>\n",
       "  </thead>\n",
       "  <tbody>\n",
       "    <tr>\n",
       "      <th>2018-01-31</th>\n",
       "      <td>1.000</td>\n",
       "      <td>1.000</td>\n",
       "      <td>1.000</td>\n",
       "    </tr>\n",
       "    <tr>\n",
       "      <th>2018-02-10</th>\n",
       "      <td>1.500</td>\n",
       "      <td>1.000</td>\n",
       "      <td>1.200</td>\n",
       "    </tr>\n",
       "    <tr>\n",
       "      <th>2018-02-20</th>\n",
       "      <td>1.200</td>\n",
       "      <td>0.800</td>\n",
       "      <td>1.400</td>\n",
       "    </tr>\n",
       "    <tr>\n",
       "      <th>2018-02-28</th>\n",
       "      <td>1.300</td>\n",
       "      <td>1.300</td>\n",
       "      <td>1.600</td>\n",
       "    </tr>\n",
       "    <tr>\n",
       "      <th>2018-03-20</th>\n",
       "      <td>1.000</td>\n",
       "      <td>1.200</td>\n",
       "      <td>1.400</td>\n",
       "    </tr>\n",
       "    <tr>\n",
       "      <th>2018-03-29</th>\n",
       "      <td>1.100</td>\n",
       "      <td>1.200</td>\n",
       "      <td>1.400</td>\n",
       "    </tr>\n",
       "    <tr>\n",
       "      <th>2018-04-30</th>\n",
       "      <td>1.200</td>\n",
       "      <td>1.200</td>\n",
       "      <td>1.600</td>\n",
       "    </tr>\n",
       "  </tbody>\n",
       "</table>\n",
       "</div>"
      ],
      "text/plain": [
       "               A     B     C\n",
       "2018-01-31 1.000 1.000 1.000\n",
       "2018-02-10 1.500 1.000 1.200\n",
       "2018-02-20 1.200 0.800 1.400\n",
       "2018-02-28 1.300 1.300 1.600\n",
       "2018-03-20 1.000 1.200 1.400\n",
       "2018-03-29 1.100 1.200 1.400\n",
       "2018-04-30 1.200 1.200 1.600"
      ]
     },
     "execution_count": 36,
     "metadata": {},
     "output_type": "execute_result"
    }
   ],
   "source": [
    "cum_rtn_df = df / df.iloc[0]\n",
    "cum_rtn_df"
   ]
  },
  {
   "cell_type": "markdown",
   "metadata": {},
   "source": [
    "### 2.1.3. asset flow & weight df 구하기"
   ]
  },
  {
   "cell_type": "code",
   "execution_count": 37,
   "metadata": {},
   "outputs": [
    {
     "data": {
      "text/plain": [
       "'A: 30%, B: 50%, C: 20%'"
      ]
     },
     "execution_count": 37,
     "metadata": {},
     "output_type": "execute_result"
    },
    {
     "data": {
      "text/html": [
       "<div>\n",
       "<style scoped>\n",
       "    .dataframe tbody tr th:only-of-type {\n",
       "        vertical-align: middle;\n",
       "    }\n",
       "\n",
       "    .dataframe tbody tr th {\n",
       "        vertical-align: top;\n",
       "    }\n",
       "\n",
       "    .dataframe thead th {\n",
       "        text-align: right;\n",
       "    }\n",
       "</style>\n",
       "<table border=\"1\" class=\"dataframe\">\n",
       "  <thead>\n",
       "    <tr style=\"text-align: right;\">\n",
       "      <th></th>\n",
       "      <th>A</th>\n",
       "      <th>B</th>\n",
       "      <th>C</th>\n",
       "    </tr>\n",
       "  </thead>\n",
       "  <tbody>\n",
       "    <tr>\n",
       "      <th>2018-01-31</th>\n",
       "      <td>0.300</td>\n",
       "      <td>0.500</td>\n",
       "      <td>0.200</td>\n",
       "    </tr>\n",
       "    <tr>\n",
       "      <th>2018-02-10</th>\n",
       "      <td>0.450</td>\n",
       "      <td>0.500</td>\n",
       "      <td>0.240</td>\n",
       "    </tr>\n",
       "    <tr>\n",
       "      <th>2018-02-20</th>\n",
       "      <td>0.360</td>\n",
       "      <td>0.400</td>\n",
       "      <td>0.280</td>\n",
       "    </tr>\n",
       "    <tr>\n",
       "      <th>2018-02-28</th>\n",
       "      <td>0.390</td>\n",
       "      <td>0.650</td>\n",
       "      <td>0.320</td>\n",
       "    </tr>\n",
       "    <tr>\n",
       "      <th>2018-03-20</th>\n",
       "      <td>0.300</td>\n",
       "      <td>0.600</td>\n",
       "      <td>0.280</td>\n",
       "    </tr>\n",
       "    <tr>\n",
       "      <th>2018-03-29</th>\n",
       "      <td>0.330</td>\n",
       "      <td>0.600</td>\n",
       "      <td>0.280</td>\n",
       "    </tr>\n",
       "    <tr>\n",
       "      <th>2018-04-30</th>\n",
       "      <td>0.360</td>\n",
       "      <td>0.600</td>\n",
       "      <td>0.320</td>\n",
       "    </tr>\n",
       "  </tbody>\n",
       "</table>\n",
       "</div>"
      ],
      "text/plain": [
       "               A     B     C\n",
       "2018-01-31 0.300 0.500 0.200\n",
       "2018-02-10 0.450 0.500 0.240\n",
       "2018-02-20 0.360 0.400 0.280\n",
       "2018-02-28 0.390 0.650 0.320\n",
       "2018-03-20 0.300 0.600 0.280\n",
       "2018-03-29 0.330 0.600 0.280\n",
       "2018-04-30 0.360 0.600 0.320"
      ]
     },
     "execution_count": 37,
     "metadata": {},
     "output_type": "execute_result"
    }
   ],
   "source": [
    "\"\"\"A: 30%, B: 50%, C: 20%\"\"\"\n",
    "WEIGHTS = [0.3, 0.5, 0.2]\n",
    "\n",
    "assert sum(WEIGHTS) == 1\n",
    "\n",
    "asset_flow_df = cum_rtn_df * WEIGHTS\n",
    "asset_flow_df"
   ]
  },
  {
   "cell_type": "code",
   "execution_count": 38,
   "metadata": {},
   "outputs": [
    {
     "data": {
      "text/html": [
       "<div>\n",
       "<style scoped>\n",
       "    .dataframe tbody tr th:only-of-type {\n",
       "        vertical-align: middle;\n",
       "    }\n",
       "\n",
       "    .dataframe tbody tr th {\n",
       "        vertical-align: top;\n",
       "    }\n",
       "\n",
       "    .dataframe thead th {\n",
       "        text-align: right;\n",
       "    }\n",
       "</style>\n",
       "<table border=\"1\" class=\"dataframe\">\n",
       "  <thead>\n",
       "    <tr style=\"text-align: right;\">\n",
       "      <th></th>\n",
       "      <th>A</th>\n",
       "      <th>B</th>\n",
       "      <th>C</th>\n",
       "    </tr>\n",
       "  </thead>\n",
       "  <tbody>\n",
       "    <tr>\n",
       "      <th>2018-01-31</th>\n",
       "      <td>0.300</td>\n",
       "      <td>0.500</td>\n",
       "      <td>0.200</td>\n",
       "    </tr>\n",
       "    <tr>\n",
       "      <th>2018-02-10</th>\n",
       "      <td>0.378</td>\n",
       "      <td>0.420</td>\n",
       "      <td>0.202</td>\n",
       "    </tr>\n",
       "    <tr>\n",
       "      <th>2018-02-20</th>\n",
       "      <td>0.346</td>\n",
       "      <td>0.385</td>\n",
       "      <td>0.269</td>\n",
       "    </tr>\n",
       "    <tr>\n",
       "      <th>2018-02-28</th>\n",
       "      <td>0.287</td>\n",
       "      <td>0.478</td>\n",
       "      <td>0.235</td>\n",
       "    </tr>\n",
       "    <tr>\n",
       "      <th>2018-03-20</th>\n",
       "      <td>0.254</td>\n",
       "      <td>0.508</td>\n",
       "      <td>0.237</td>\n",
       "    </tr>\n",
       "    <tr>\n",
       "      <th>2018-03-29</th>\n",
       "      <td>0.273</td>\n",
       "      <td>0.496</td>\n",
       "      <td>0.231</td>\n",
       "    </tr>\n",
       "    <tr>\n",
       "      <th>2018-04-30</th>\n",
       "      <td>0.281</td>\n",
       "      <td>0.469</td>\n",
       "      <td>0.250</td>\n",
       "    </tr>\n",
       "  </tbody>\n",
       "</table>\n",
       "</div>"
      ],
      "text/plain": [
       "               A     B     C\n",
       "2018-01-31 0.300 0.500 0.200\n",
       "2018-02-10 0.378 0.420 0.202\n",
       "2018-02-20 0.346 0.385 0.269\n",
       "2018-02-28 0.287 0.478 0.235\n",
       "2018-03-20 0.254 0.508 0.237\n",
       "2018-03-29 0.273 0.496 0.231\n",
       "2018-04-30 0.281 0.469 0.250"
      ]
     },
     "execution_count": 38,
     "metadata": {},
     "output_type": "execute_result"
    },
    {
     "data": {
      "text/plain": [
       "'각 행의 값의 합은 항상 1로 유지'"
      ]
     },
     "execution_count": 38,
     "metadata": {},
     "output_type": "execute_result"
    }
   ],
   "source": [
    "port_weight_df = asset_flow_df.divide(asset_flow_df.sum(axis=1), axis=0)\n",
    "port_weight_df\n",
    "\n",
    "\"\"\"각 행의 값의 합은 항상 1로 유지\"\"\"\n",
    "for i in range(len(port_weight_df)):\n",
    "    assert sum(port_weight_df.iloc[i]) == 1\n",
    "assert port_weight_df.sum(axis=1).sum() == len(port_weight_df)"
   ]
  },
  {
   "cell_type": "markdown",
   "metadata": {},
   "source": [
    "### 2.1.4. 최종 portfolio return 구하기"
   ]
  },
  {
   "cell_type": "code",
   "execution_count": 39,
   "metadata": {},
   "outputs": [
    {
     "data": {
      "text/html": [
       "<div>\n",
       "<style scoped>\n",
       "    .dataframe tbody tr th:only-of-type {\n",
       "        vertical-align: middle;\n",
       "    }\n",
       "\n",
       "    .dataframe tbody tr th {\n",
       "        vertical-align: top;\n",
       "    }\n",
       "\n",
       "    .dataframe thead th {\n",
       "        text-align: right;\n",
       "    }\n",
       "</style>\n",
       "<table border=\"1\" class=\"dataframe\">\n",
       "  <thead>\n",
       "    <tr style=\"text-align: right;\">\n",
       "      <th></th>\n",
       "      <th>A</th>\n",
       "      <th>B</th>\n",
       "      <th>C</th>\n",
       "    </tr>\n",
       "  </thead>\n",
       "  <tbody>\n",
       "    <tr>\n",
       "      <th>2018-01-31</th>\n",
       "      <td>0.150</td>\n",
       "      <td>0.000</td>\n",
       "      <td>0.040</td>\n",
       "    </tr>\n",
       "    <tr>\n",
       "      <th>2018-02-10</th>\n",
       "      <td>-0.076</td>\n",
       "      <td>-0.084</td>\n",
       "      <td>0.034</td>\n",
       "    </tr>\n",
       "    <tr>\n",
       "      <th>2018-02-20</th>\n",
       "      <td>0.029</td>\n",
       "      <td>0.240</td>\n",
       "      <td>0.038</td>\n",
       "    </tr>\n",
       "    <tr>\n",
       "      <th>2018-02-28</th>\n",
       "      <td>-0.066</td>\n",
       "      <td>-0.037</td>\n",
       "      <td>-0.029</td>\n",
       "    </tr>\n",
       "    <tr>\n",
       "      <th>2018-03-20</th>\n",
       "      <td>0.025</td>\n",
       "      <td>0.000</td>\n",
       "      <td>0.000</td>\n",
       "    </tr>\n",
       "    <tr>\n",
       "      <th>2018-03-29</th>\n",
       "      <td>0.025</td>\n",
       "      <td>0.000</td>\n",
       "      <td>0.033</td>\n",
       "    </tr>\n",
       "    <tr>\n",
       "      <th>2018-04-30</th>\n",
       "      <td>0.000</td>\n",
       "      <td>0.000</td>\n",
       "      <td>0.000</td>\n",
       "    </tr>\n",
       "  </tbody>\n",
       "</table>\n",
       "</div>"
      ],
      "text/plain": [
       "                A      B      C\n",
       "2018-01-31  0.150  0.000  0.040\n",
       "2018-02-10 -0.076 -0.084  0.034\n",
       "2018-02-20  0.029  0.240  0.038\n",
       "2018-02-28 -0.066 -0.037 -0.029\n",
       "2018-03-20  0.025  0.000  0.000\n",
       "2018-03-29  0.025  0.000  0.033\n",
       "2018-04-30  0.000  0.000  0.000"
      ]
     },
     "execution_count": 39,
     "metadata": {},
     "output_type": "execute_result"
    }
   ],
   "source": [
    "net_rtn_df = port_weight_df * shifted_rtn_df\n",
    "net_rtn_df"
   ]
  },
  {
   "cell_type": "code",
   "execution_count": 40,
   "metadata": {},
   "outputs": [
    {
     "data": {
      "text/plain": [
       "'계산을 위해 shift(-1) 했던 부분을 되돌리는 작업'"
      ]
     },
     "execution_count": 40,
     "metadata": {},
     "output_type": "execute_result"
    },
    {
     "data": {
      "text/html": [
       "<div>\n",
       "<style scoped>\n",
       "    .dataframe tbody tr th:only-of-type {\n",
       "        vertical-align: middle;\n",
       "    }\n",
       "\n",
       "    .dataframe tbody tr th {\n",
       "        vertical-align: top;\n",
       "    }\n",
       "\n",
       "    .dataframe thead th {\n",
       "        text-align: right;\n",
       "    }\n",
       "</style>\n",
       "<table border=\"1\" class=\"dataframe\">\n",
       "  <thead>\n",
       "    <tr style=\"text-align: right;\">\n",
       "      <th></th>\n",
       "      <th>A</th>\n",
       "      <th>B</th>\n",
       "      <th>C</th>\n",
       "    </tr>\n",
       "  </thead>\n",
       "  <tbody>\n",
       "    <tr>\n",
       "      <th>2018-01-31</th>\n",
       "      <td>0.000</td>\n",
       "      <td>0.000</td>\n",
       "      <td>0.000</td>\n",
       "    </tr>\n",
       "    <tr>\n",
       "      <th>2018-02-10</th>\n",
       "      <td>0.150</td>\n",
       "      <td>0.000</td>\n",
       "      <td>0.040</td>\n",
       "    </tr>\n",
       "    <tr>\n",
       "      <th>2018-02-20</th>\n",
       "      <td>-0.076</td>\n",
       "      <td>-0.084</td>\n",
       "      <td>0.034</td>\n",
       "    </tr>\n",
       "    <tr>\n",
       "      <th>2018-02-28</th>\n",
       "      <td>0.029</td>\n",
       "      <td>0.240</td>\n",
       "      <td>0.038</td>\n",
       "    </tr>\n",
       "    <tr>\n",
       "      <th>2018-03-20</th>\n",
       "      <td>-0.066</td>\n",
       "      <td>-0.037</td>\n",
       "      <td>-0.029</td>\n",
       "    </tr>\n",
       "    <tr>\n",
       "      <th>2018-03-29</th>\n",
       "      <td>0.025</td>\n",
       "      <td>0.000</td>\n",
       "      <td>0.000</td>\n",
       "    </tr>\n",
       "    <tr>\n",
       "      <th>2018-04-30</th>\n",
       "      <td>0.025</td>\n",
       "      <td>0.000</td>\n",
       "      <td>0.033</td>\n",
       "    </tr>\n",
       "  </tbody>\n",
       "</table>\n",
       "</div>"
      ],
      "text/plain": [
       "                A      B      C\n",
       "2018-01-31  0.000  0.000  0.000\n",
       "2018-02-10  0.150  0.000  0.040\n",
       "2018-02-20 -0.076 -0.084  0.034\n",
       "2018-02-28  0.029  0.240  0.038\n",
       "2018-03-20 -0.066 -0.037 -0.029\n",
       "2018-03-29  0.025  0.000  0.000\n",
       "2018-04-30  0.025  0.000  0.033"
      ]
     },
     "execution_count": 40,
     "metadata": {},
     "output_type": "execute_result"
    }
   ],
   "source": [
    "\"\"\"계산을 위해 shift(-1) 했던 부분을 되돌리는 작업\"\"\"\n",
    "net_rtn_df = net_rtn_df.shift(1).fillna(0)\n",
    "net_rtn_df"
   ]
  },
  {
   "cell_type": "code",
   "execution_count": 41,
   "metadata": {},
   "outputs": [
    {
     "data": {
      "text/plain": [
       "'일별 포트폴리오 수익률 Series'"
      ]
     },
     "execution_count": 41,
     "metadata": {},
     "output_type": "execute_result"
    },
    {
     "data": {
      "text/plain": [
       "2018-01-31    0.000\n",
       "2018-02-10    0.190\n",
       "2018-02-20   -0.126\n",
       "2018-02-28    0.308\n",
       "2018-03-20   -0.132\n",
       "2018-03-29    0.025\n",
       "2018-04-30    0.058\n",
       "dtype: float64"
      ]
     },
     "execution_count": 41,
     "metadata": {},
     "output_type": "execute_result"
    }
   ],
   "source": [
    "\"\"\"일별 포트폴리오 수익률 Series\"\"\"\n",
    "rtn_series = net_rtn_df.sum(axis=1)\n",
    "rtn_series"
   ]
  },
  {
   "cell_type": "code",
   "execution_count": 42,
   "metadata": {},
   "outputs": [
    {
     "data": {
      "text/plain": [
       "'일별 포트폴리오 누적 수익률 Series'"
      ]
     },
     "execution_count": 42,
     "metadata": {},
     "output_type": "execute_result"
    },
    {
     "data": {
      "text/plain": [
       "2018-01-31   1.000\n",
       "2018-02-10   1.190\n",
       "2018-02-20   1.040\n",
       "2018-02-28   1.360\n",
       "2018-03-20   1.180\n",
       "2018-03-29   1.210\n",
       "2018-04-30   1.280\n",
       "dtype: float64"
      ]
     },
     "execution_count": 42,
     "metadata": {},
     "output_type": "execute_result"
    },
    {
     "data": {
      "text/plain": [
       "<AxesSubplot:title={'center':'Buy & Hold 누적 수익률'}>"
      ]
     },
     "execution_count": 42,
     "metadata": {},
     "output_type": "execute_result"
    },
    {
     "data": {
      "image/png": "[encoded data removed]",
      "text/plain": [
       "<Figure size 1440x504 with 1 Axes>"
      ]
     },
     "metadata": {
      "needs_background": "light"
     },
     "output_type": "display_data"
    }
   ],
   "source": [
    "\"\"\"일별 포트폴리오 누적 수익률 Series\"\"\"\n",
    "(rtn_series + 1).cumprod()\n",
    "(rtn_series + 1).cumprod().plot(figsize=(20, 7), title=\"Buy & Hold 누적 수익률\")"
   ]
  },
  {
   "cell_type": "markdown",
   "metadata": {},
   "source": [
    "### 2.1.5. 개별종목 portval 구하기 - 두 번째 구현 방법\n",
    "\n",
    "- \"buy & hold\"일 경우 이전에 구한 `asset_flow_df`와 동일"
   ]
  },
  {
   "cell_type": "code",
   "execution_count": 43,
   "metadata": {},
   "outputs": [
    {
     "data": {
      "text/html": [
       "<div>\n",
       "<style scoped>\n",
       "    .dataframe tbody tr th:only-of-type {\n",
       "        vertical-align: middle;\n",
       "    }\n",
       "\n",
       "    .dataframe tbody tr th {\n",
       "        vertical-align: top;\n",
       "    }\n",
       "\n",
       "    .dataframe thead th {\n",
       "        text-align: right;\n",
       "    }\n",
       "</style>\n",
       "<table border=\"1\" class=\"dataframe\">\n",
       "  <thead>\n",
       "    <tr style=\"text-align: right;\">\n",
       "      <th></th>\n",
       "      <th>A portval</th>\n",
       "      <th>B portval</th>\n",
       "      <th>Total portval</th>\n",
       "    </tr>\n",
       "  </thead>\n",
       "  <tbody>\n",
       "    <tr>\n",
       "      <th>0</th>\n",
       "      <td>10</td>\n",
       "      <td>40</td>\n",
       "      <td>50</td>\n",
       "    </tr>\n",
       "    <tr>\n",
       "      <th>1</th>\n",
       "      <td>12</td>\n",
       "      <td>35</td>\n",
       "      <td>47</td>\n",
       "    </tr>\n",
       "    <tr>\n",
       "      <th>2</th>\n",
       "      <td>11</td>\n",
       "      <td>37</td>\n",
       "      <td>48</td>\n",
       "    </tr>\n",
       "    <tr>\n",
       "      <th>3</th>\n",
       "      <td>5</td>\n",
       "      <td>41</td>\n",
       "      <td>46</td>\n",
       "    </tr>\n",
       "  </tbody>\n",
       "</table>\n",
       "</div>"
      ],
      "text/plain": [
       "   A portval  B portval  Total portval\n",
       "0         10         40             50\n",
       "1         12         35             47\n",
       "2         11         37             48\n",
       "3          5         41             46"
      ]
     },
     "execution_count": 43,
     "metadata": {},
     "output_type": "execute_result"
    }
   ],
   "source": [
    "_df = pd.DataFrame({\n",
    "    \"A portval\": [10, 12, 11, 5],\n",
    "    \"B portval\": [40, 35, 37, 41],\n",
    "    \"Total portval\": [50, 47, 48, 46]\n",
    "})\n",
    "_df"
   ]
  },
  {
   "cell_type": "markdown",
   "metadata": {},
   "source": [
    "#### `asset_flow_df`가 개별 portval df인 이유 1\n",
    "\n",
    "- $A(1 + r_{a1}) \\rightarrow A(1 + r_{a1})(1 + r_{a2}) \\rightarrow A(1 + r_{a1})(1 + r_{a2})(1 + r_{a3}) \\rightarrow \\dots$\n",
    "- $0.1A(1 + r_{a1}) \\rightarrow 0.1A(1 + r_{a1})(1 + r_{a2}) \\rightarrow 0.1A(1 + r_{a1})(1 + r_{a2})(1 + r_{a3}) \\rightarrow \\dots$\n",
    "- 처음 설정한 자산 $0.1A$에 $A$의 수익률이 그대로 복리 계산이 되기 때문에 계산이 망가지지 않는다."
   ]
  },
  {
   "cell_type": "code",
   "execution_count": 44,
   "metadata": {},
   "outputs": [
    {
     "data": {
      "text/html": [
       "<div>\n",
       "<style scoped>\n",
       "    .dataframe tbody tr th:only-of-type {\n",
       "        vertical-align: middle;\n",
       "    }\n",
       "\n",
       "    .dataframe tbody tr th {\n",
       "        vertical-align: top;\n",
       "    }\n",
       "\n",
       "    .dataframe thead th {\n",
       "        text-align: right;\n",
       "    }\n",
       "</style>\n",
       "<table border=\"1\" class=\"dataframe\">\n",
       "  <thead>\n",
       "    <tr style=\"text-align: right;\">\n",
       "      <th></th>\n",
       "      <th>A</th>\n",
       "      <th>B</th>\n",
       "      <th>C</th>\n",
       "    </tr>\n",
       "  </thead>\n",
       "  <tbody>\n",
       "    <tr>\n",
       "      <th>2018-01-31</th>\n",
       "      <td>0.300</td>\n",
       "      <td>0.500</td>\n",
       "      <td>0.200</td>\n",
       "    </tr>\n",
       "    <tr>\n",
       "      <th>2018-02-10</th>\n",
       "      <td>0.450</td>\n",
       "      <td>0.500</td>\n",
       "      <td>0.240</td>\n",
       "    </tr>\n",
       "    <tr>\n",
       "      <th>2018-02-20</th>\n",
       "      <td>0.360</td>\n",
       "      <td>0.400</td>\n",
       "      <td>0.280</td>\n",
       "    </tr>\n",
       "    <tr>\n",
       "      <th>2018-02-28</th>\n",
       "      <td>0.390</td>\n",
       "      <td>0.650</td>\n",
       "      <td>0.320</td>\n",
       "    </tr>\n",
       "    <tr>\n",
       "      <th>2018-03-20</th>\n",
       "      <td>0.300</td>\n",
       "      <td>0.600</td>\n",
       "      <td>0.280</td>\n",
       "    </tr>\n",
       "    <tr>\n",
       "      <th>2018-03-29</th>\n",
       "      <td>0.330</td>\n",
       "      <td>0.600</td>\n",
       "      <td>0.280</td>\n",
       "    </tr>\n",
       "    <tr>\n",
       "      <th>2018-04-30</th>\n",
       "      <td>0.360</td>\n",
       "      <td>0.600</td>\n",
       "      <td>0.320</td>\n",
       "    </tr>\n",
       "  </tbody>\n",
       "</table>\n",
       "</div>"
      ],
      "text/plain": [
       "               A     B     C\n",
       "2018-01-31 0.300 0.500 0.200\n",
       "2018-02-10 0.450 0.500 0.240\n",
       "2018-02-20 0.360 0.400 0.280\n",
       "2018-02-28 0.390 0.650 0.320\n",
       "2018-03-20 0.300 0.600 0.280\n",
       "2018-03-29 0.330 0.600 0.280\n",
       "2018-04-30 0.360 0.600 0.320"
      ]
     },
     "execution_count": 44,
     "metadata": {},
     "output_type": "execute_result"
    }
   ],
   "source": [
    "individual_cum_rtn_df = cum_rtn_df * WEIGHTS\n",
    "individual_cum_rtn_df"
   ]
  },
  {
   "cell_type": "code",
   "execution_count": 45,
   "metadata": {},
   "outputs": [
    {
     "data": {
      "text/plain": [
       "'portval'"
      ]
     },
     "execution_count": 45,
     "metadata": {},
     "output_type": "execute_result"
    },
    {
     "data": {
      "text/plain": [
       "2018-01-31   1.000\n",
       "2018-02-10   1.190\n",
       "2018-02-20   1.040\n",
       "2018-02-28   1.360\n",
       "2018-03-20   1.180\n",
       "2018-03-29   1.210\n",
       "2018-04-30   1.280\n",
       "dtype: float64"
      ]
     },
     "execution_count": 45,
     "metadata": {},
     "output_type": "execute_result"
    }
   ],
   "source": [
    "\"\"\"portval\"\"\"\n",
    "individual_cum_rtn_df.sum(axis=1)"
   ]
  },
  {
   "cell_type": "markdown",
   "metadata": {},
   "source": [
    "#### `asset_flow_df`가 개별 portval df인 이유 2\n",
    "\n",
    "> 직접 식으로 표현하고 비교하기 - e.g. A : B = 40 : 60 전략\n",
    "\n",
    "##### individual 관점\n",
    "\n",
    "- day 1\n",
    "  - A: $0.4$\n",
    "  - B: $0.6$\n",
    "  - +: $1$\n",
    "- day 2\n",
    "  - A: $0.4(1 + r_{a1})$\n",
    "  - B: $0.6(1 + r_{b1})$\n",
    "  - +: $1 + 0.4r_{a1} + 0.6r_{b1}$\n",
    "- day 3\n",
    "  - A: $0.4(1 + r_{a1})(1 + r_{a2}) = 0.4(1 + r_{a1} + r_{a2} + r_{a1}r_{a2})$\n",
    "  - B: $0.6(1 + r_{b1})(1 + r_{b2}) = 0.4(1 + r_{b1} + r_{b2} + r_{b1}r_{b2})$\n",
    "  - +: $1 + 0.4(r_{a1} + r_{a2} + r_{a1}r_{a2}) + 0.6(r_{b1} + r_{b2} + r_{b1}r_{b2})$\n",
    "    - $(1 + 0.4r_{a1} + 0.6r_{b1}) + 0.4(r_{a2} + r_{a1}r_{a2}) + 0.6(r_{b2} + r_{b1}r_{b2})$"
   ]
  },
  {
   "cell_type": "markdown",
   "metadata": {},
   "source": [
    "##### portfolio 관점\n",
    "\n",
    "- day 1\n",
    "  - $1$\n",
    "- day 2\n",
    "  - $1 \\times (1 + (0.4r_{a1} + 0.6r_{b1}))$\n",
    "- day 3\n",
    "  - $1 \\times (1 + (0.4r_{a1} + 0.6r_{b1})) \\times (1 + \\dots)$\n",
    "\n",
    "$$\n",
    "\\begin{aligned}\n",
    "1 \\times (1 + 0.4r_{a1} + 0.6r_{b1}) \\times (1 + \\dots)\n",
    "&= 1 \\times (1 + 0.4r_{a1} + 0.6r_{b1}) \\times\n",
    "(1 + \\frac{0.4(1 + r_{a1}) \\times r_{a2}}{0.4(1 + r_{a1}) + 0.6(1 + r_{b1})} + \n",
    "\\frac{0.6(1 + r_{b1}) \\times r_{b2}}{0.4(1 + r_{a1}) + 0.6(1 + r_{b1})})\\\\\n",
    "&= 1 \\times (1 + 0.4r_{a1} + 0.6r_{b1}) \\times\n",
    "(1 + \\frac{0.4(1 + r_{a1}) \\times r_{a2} + 0.6(1 + r_{b1}) \\times r_{b2}}{0.4(1 + r_{a1}) + 0.6(1 + r_{b1})}) \\\\\n",
    "&= 1 \\times (1 + 0.4r_{a1} + 0.6r_{b1}) \\times\n",
    "(1 + \\frac{0.4(1 + r_{a1}) \\times r_{a2} + 0.6(1 + r_{b1}) \\times r_{b2}}{1 + 0.4r_{a1} + 0.6r_{b1}}) \\\\\n",
    "&= 1 \\times ((1 + 0.4r_{a1} + 0.6r_{b1}) + (0.4(1 + r_{a1}) \\times r_{a2} + 0.6(1 + r_{b1}) \\times r_{b2})) \\\\\n",
    "&= 1 \\times (1 + 0.4r_{a1} + 0.6r_{b1} + 0.4r_{a2} + 0.4r_{a1}r_{a2} + 0.6r_{b2} + 0.6r_{b1}r_{b2}) \\\\\n",
    "&= 1 \\times ((1 + 0.4r_{a1} + 0.6r_{b1}) + (0.4(r_{a2} + r_{a1}r_{a2}) + 0.6(r_{b2} + r_{b1}r_{b2}))) \\\\\n",
    "&= (1 + 0.4r_{a1} + 0.6r_{b1}) + 0.4(r_{a2} + r_{a1}r_{a2}) + 0.6(r_{b2} + r_{b1}r_{b2})\n",
    "\\end{aligned}\n",
    "$$"
   ]
  },
  {
   "cell_type": "markdown",
   "metadata": {},
   "source": [
    "## 2.2. 실수할 만한 내용"
   ]
  },
  {
   "cell_type": "code",
   "execution_count": 46,
   "metadata": {},
   "outputs": [
    {
     "data": {
      "text/html": [
       "<div>\n",
       "<style scoped>\n",
       "    .dataframe tbody tr th:only-of-type {\n",
       "        vertical-align: middle;\n",
       "    }\n",
       "\n",
       "    .dataframe tbody tr th {\n",
       "        vertical-align: top;\n",
       "    }\n",
       "\n",
       "    .dataframe thead th {\n",
       "        text-align: right;\n",
       "    }\n",
       "</style>\n",
       "<table border=\"1\" class=\"dataframe\">\n",
       "  <thead>\n",
       "    <tr style=\"text-align: right;\">\n",
       "      <th></th>\n",
       "      <th>A</th>\n",
       "      <th>B</th>\n",
       "      <th>C</th>\n",
       "    </tr>\n",
       "  </thead>\n",
       "  <tbody>\n",
       "    <tr>\n",
       "      <th>2018-01-31</th>\n",
       "      <td>10</td>\n",
       "      <td>10</td>\n",
       "      <td>10</td>\n",
       "    </tr>\n",
       "    <tr>\n",
       "      <th>2018-02-10</th>\n",
       "      <td>15</td>\n",
       "      <td>10</td>\n",
       "      <td>12</td>\n",
       "    </tr>\n",
       "    <tr>\n",
       "      <th>2018-02-20</th>\n",
       "      <td>12</td>\n",
       "      <td>8</td>\n",
       "      <td>14</td>\n",
       "    </tr>\n",
       "    <tr>\n",
       "      <th>2018-02-28</th>\n",
       "      <td>13</td>\n",
       "      <td>13</td>\n",
       "      <td>16</td>\n",
       "    </tr>\n",
       "    <tr>\n",
       "      <th>2018-03-20</th>\n",
       "      <td>10</td>\n",
       "      <td>12</td>\n",
       "      <td>14</td>\n",
       "    </tr>\n",
       "  </tbody>\n",
       "</table>\n",
       "</div>"
      ],
      "text/plain": [
       "             A   B   C\n",
       "2018-01-31  10  10  10\n",
       "2018-02-10  15  10  12\n",
       "2018-02-20  12   8  14\n",
       "2018-02-28  13  13  16\n",
       "2018-03-20  10  12  14"
      ]
     },
     "execution_count": 46,
     "metadata": {},
     "output_type": "execute_result"
    }
   ],
   "source": [
    "df.head()"
   ]
  },
  {
   "cell_type": "code",
   "execution_count": 50,
   "metadata": {},
   "outputs": [
    {
     "data": {
      "text/plain": [
       "'왜 결과가 다를까'"
      ]
     },
     "execution_count": 50,
     "metadata": {},
     "output_type": "execute_result"
    },
    {
     "data": {
      "text/plain": [
       "2018-01-31   1.000\n",
       "2018-02-10   1.233\n",
       "2018-02-20   1.133\n",
       "2018-02-28   1.400\n",
       "2018-03-20   1.200\n",
       "2018-03-29   1.233\n",
       "2018-04-30   1.333\n",
       "dtype: float64"
      ]
     },
     "execution_count": 50,
     "metadata": {},
     "output_type": "execute_result"
    },
    {
     "data": {
      "text/plain": [
       "2018-01-31   1.000\n",
       "2018-02-10   1.233\n",
       "2018-02-20   1.137\n",
       "2018-02-28   1.460\n",
       "2018-03-20   1.250\n",
       "2018-03-29   1.291\n",
       "2018-04-30   1.392\n",
       "dtype: float64"
      ]
     },
     "execution_count": 50,
     "metadata": {},
     "output_type": "execute_result"
    },
    {
     "data": {
      "text/plain": [
       "'매일 반영된 weight가 틀어졌기 때문이다.'"
      ]
     },
     "execution_count": 50,
     "metadata": {},
     "output_type": "execute_result"
    },
    {
     "data": {
      "text/plain": [
       "'cumulative * weight != return * weight'"
      ]
     },
     "execution_count": 50,
     "metadata": {},
     "output_type": "execute_result"
    }
   ],
   "source": [
    "rtn_df = utils.get_returns_df(df, log=False)\n",
    "cum_rtn_df = df / df.iloc[0]\n",
    "\n",
    "a_1 = (cum_rtn_df * (1 / 3)).sum(axis=1)\n",
    "a_2 = ((rtn_df * (1 / 3)).sum(axis=1) + 1).cumprod()\n",
    "\n",
    "\"\"\"왜 결과가 다를까\"\"\"\n",
    "a_1\n",
    "a_2\n",
    "\n",
    "\"\"\"매일 반영된 weight가 틀어졌기 때문이다.\"\"\"\n",
    "\"\"\"cumulative * weight != return * weight\"\"\""
   ]
  },
  {
   "cell_type": "markdown",
   "metadata": {},
   "source": [
    "## 2.3. 주의사항\n",
    "\n",
    "- 2018/1/1부터 0.5/0.5씩 들고 있는 것과 2018/10/1부터 0.5/0.5씩 들고 있는 것은 결과가 다르다."
   ]
  },
  {
   "cell_type": "code",
   "execution_count": 51,
   "metadata": {},
   "outputs": [
    {
     "data": {
      "text/html": [
       "<div>\n",
       "<style scoped>\n",
       "    .dataframe tbody tr th:only-of-type {\n",
       "        vertical-align: middle;\n",
       "    }\n",
       "\n",
       "    .dataframe tbody tr th {\n",
       "        vertical-align: top;\n",
       "    }\n",
       "\n",
       "    .dataframe thead th {\n",
       "        text-align: right;\n",
       "    }\n",
       "</style>\n",
       "<table border=\"1\" class=\"dataframe\">\n",
       "  <thead>\n",
       "    <tr style=\"text-align: right;\">\n",
       "      <th></th>\n",
       "      <th>IEF</th>\n",
       "      <th>QQQ</th>\n",
       "      <th>SHY</th>\n",
       "      <th>SPY</th>\n",
       "      <th>TLT</th>\n",
       "    </tr>\n",
       "    <tr>\n",
       "      <th>date_time</th>\n",
       "      <th></th>\n",
       "      <th></th>\n",
       "      <th></th>\n",
       "      <th></th>\n",
       "      <th></th>\n",
       "    </tr>\n",
       "  </thead>\n",
       "  <tbody>\n",
       "    <tr>\n",
       "      <th>2002-07-26</th>\n",
       "      <td>48.724</td>\n",
       "      <td>19.653</td>\n",
       "      <td>59.443</td>\n",
       "      <td>59.178</td>\n",
       "      <td>43.084</td>\n",
       "    </tr>\n",
       "    <tr>\n",
       "      <th>2002-07-29</th>\n",
       "      <td>48.153</td>\n",
       "      <td>20.658</td>\n",
       "      <td>59.245</td>\n",
       "      <td>61.989</td>\n",
       "      <td>42.504</td>\n",
       "    </tr>\n",
       "    <tr>\n",
       "      <th>2002-07-30</th>\n",
       "      <td>48.124</td>\n",
       "      <td>21.075</td>\n",
       "      <td>59.223</td>\n",
       "      <td>62.797</td>\n",
       "      <td>42.567</td>\n",
       "    </tr>\n",
       "    <tr>\n",
       "      <th>2002-07-31</th>\n",
       "      <td>48.565</td>\n",
       "      <td>20.676</td>\n",
       "      <td>59.406</td>\n",
       "      <td>62.976</td>\n",
       "      <td>43.094</td>\n",
       "    </tr>\n",
       "    <tr>\n",
       "      <th>2002-08-01</th>\n",
       "      <td>48.765</td>\n",
       "      <td>19.705</td>\n",
       "      <td>59.523</td>\n",
       "      <td>61.305</td>\n",
       "      <td>43.340</td>\n",
       "    </tr>\n",
       "  </tbody>\n",
       "</table>\n",
       "</div>"
      ],
      "text/plain": [
       "              IEF    QQQ    SHY    SPY    TLT\n",
       "date_time                                    \n",
       "2002-07-26 48.724 19.653 59.443 59.178 43.084\n",
       "2002-07-29 48.153 20.658 59.245 61.989 42.504\n",
       "2002-07-30 48.124 21.075 59.223 62.797 42.567\n",
       "2002-07-31 48.565 20.676 59.406 62.976 43.094\n",
       "2002-08-01 48.765 19.705 59.523 61.305 43.340"
      ]
     },
     "execution_count": 51,
     "metadata": {},
     "output_type": "execute_result"
    }
   ],
   "source": [
    "df = pd.read_csv(\"class_materials/data/us_etf_1.csv\", index_col=0)\n",
    "df.index = pd.to_datetime(df.index)\n",
    "df.head()"
   ]
  },
  {
   "cell_type": "code",
   "execution_count": 57,
   "metadata": {},
   "outputs": [
    {
     "data": {
      "image/png": "[encoded data removed]",
      "text/plain": [
       "<Figure size 1440x504 with 1 Axes>"
      ]
     },
     "metadata": {
      "needs_background": "light"
     },
     "output_type": "display_data"
    }
   ],
   "source": [
    "df_1 = df.loc[\"2017-01-01\":]\n",
    "cum_rtn_df = df_1 / df_1.iloc[0]\n",
    "\n",
    "cum_rtn_df.plot(figsize=(20, 7));"
   ]
  },
  {
   "cell_type": "code",
   "execution_count": 54,
   "metadata": {},
   "outputs": [
    {
     "data": {
      "image/png": "[encoded data removed]",
      "text/plain": [
       "<Figure size 1440x504 with 1 Axes>"
      ]
     },
     "metadata": {
      "needs_background": "light"
     },
     "output_type": "display_data"
    }
   ],
   "source": [
    "allocation = [0.2] * 5\n",
    "allocation_df = cum_rtn_df * allocation\n",
    "\n",
    "allocation_df.sum(axis=1).plot(figsize=(20, 7));"
   ]
  },
  {
   "cell_type": "code",
   "execution_count": 58,
   "metadata": {},
   "outputs": [],
   "source": [
    "df_2 = cum_rtn_df.loc[\"2020-01-02\":]\n",
    "cum_rtn_df_2 = df_2 / df_2.iloc[0]\n",
    "allocation_df_2 = cum_rtn_df_2 * allocation"
   ]
  },
  {
   "cell_type": "code",
   "execution_count": 59,
   "metadata": {},
   "outputs": [
    {
     "data": {
      "image/png": "[encoded data removed]",
      "text/plain": [
       "<Figure size 1440x504 with 1 Axes>"
      ]
     },
     "metadata": {
      "needs_background": "light"
     },
     "output_type": "display_data"
    }
   ],
   "source": [
    "ax = allocation_df.sum(axis=1).plot(figsize=(20, 7))\n",
    "allocation_df_2.sum(axis=1).plot(ax=ax);"
   ]
  },
  {
   "cell_type": "code",
   "execution_count": 60,
   "metadata": {},
   "outputs": [
    {
     "data": {
      "text/html": [
       "<div>\n",
       "<style scoped>\n",
       "    .dataframe tbody tr th:only-of-type {\n",
       "        vertical-align: middle;\n",
       "    }\n",
       "\n",
       "    .dataframe tbody tr th {\n",
       "        vertical-align: top;\n",
       "    }\n",
       "\n",
       "    .dataframe thead th {\n",
       "        text-align: right;\n",
       "    }\n",
       "</style>\n",
       "<table border=\"1\" class=\"dataframe\">\n",
       "  <thead>\n",
       "    <tr style=\"text-align: right;\">\n",
       "      <th></th>\n",
       "      <th>IEF</th>\n",
       "      <th>QQQ</th>\n",
       "      <th>SHY</th>\n",
       "      <th>SPY</th>\n",
       "      <th>TLT</th>\n",
       "    </tr>\n",
       "    <tr>\n",
       "      <th>date_time</th>\n",
       "      <th></th>\n",
       "      <th></th>\n",
       "      <th></th>\n",
       "      <th></th>\n",
       "      <th></th>\n",
       "    </tr>\n",
       "  </thead>\n",
       "  <tbody>\n",
       "    <tr>\n",
       "      <th>2020-01-02</th>\n",
       "      <td>0.200</td>\n",
       "      <td>0.200</td>\n",
       "      <td>0.200</td>\n",
       "      <td>0.200</td>\n",
       "      <td>0.200</td>\n",
       "    </tr>\n",
       "    <tr>\n",
       "      <th>2020-01-03</th>\n",
       "      <td>0.201</td>\n",
       "      <td>0.198</td>\n",
       "      <td>0.200</td>\n",
       "      <td>0.198</td>\n",
       "      <td>0.203</td>\n",
       "    </tr>\n",
       "    <tr>\n",
       "      <th>2020-01-06</th>\n",
       "      <td>0.201</td>\n",
       "      <td>0.199</td>\n",
       "      <td>0.200</td>\n",
       "      <td>0.199</td>\n",
       "      <td>0.202</td>\n",
       "    </tr>\n",
       "    <tr>\n",
       "      <th>2020-01-07</th>\n",
       "      <td>0.201</td>\n",
       "      <td>0.199</td>\n",
       "      <td>0.200</td>\n",
       "      <td>0.199</td>\n",
       "      <td>0.201</td>\n",
       "    </tr>\n",
       "    <tr>\n",
       "      <th>2020-01-08</th>\n",
       "      <td>0.200</td>\n",
       "      <td>0.201</td>\n",
       "      <td>0.200</td>\n",
       "      <td>0.200</td>\n",
       "      <td>0.200</td>\n",
       "    </tr>\n",
       "  </tbody>\n",
       "</table>\n",
       "</div>"
      ],
      "text/plain": [
       "             IEF   QQQ   SHY   SPY   TLT\n",
       "date_time                               \n",
       "2020-01-02 0.200 0.200 0.200 0.200 0.200\n",
       "2020-01-03 0.201 0.198 0.200 0.198 0.203\n",
       "2020-01-06 0.201 0.199 0.200 0.199 0.202\n",
       "2020-01-07 0.201 0.199 0.200 0.199 0.201\n",
       "2020-01-08 0.200 0.201 0.200 0.200 0.200"
      ]
     },
     "execution_count": 60,
     "metadata": {},
     "output_type": "execute_result"
    }
   ],
   "source": [
    "allocation_df_2.head()"
   ]
  },
  {
   "cell_type": "code",
   "execution_count": 62,
   "metadata": {},
   "outputs": [
    {
     "data": {
      "text/plain": [
       "IEF   0.225\n",
       "QQQ   0.371\n",
       "SHY   0.211\n",
       "SPY   0.305\n",
       "TLT   0.247\n",
       "Name: 2020-01-02 00:00:00, dtype: float64"
      ]
     },
     "execution_count": 62,
     "metadata": {},
     "output_type": "execute_result"
    },
    {
     "data": {
      "text/plain": [
       "1.3588167271181084"
      ]
     },
     "execution_count": 62,
     "metadata": {},
     "output_type": "execute_result"
    }
   ],
   "source": [
    "allocation_df.loc[\"2020-01-02\"]\n",
    "allocation_df.loc[\"2020-01-02\"].sum()"
   ]
  },
  {
   "cell_type": "code",
   "execution_count": 63,
   "metadata": {},
   "outputs": [
    {
     "data": {
      "image/png": "[encoded data removed]",
      "text/plain": [
       "<Figure size 1440x504 with 1 Axes>"
      ]
     },
     "metadata": {
      "needs_background": "light"
     },
     "output_type": "display_data"
    }
   ],
   "source": [
    "ax = allocation_df.sum(axis=1).plot(figsize=(20, 7))\n",
    "(allocation_df_2.sum(axis=1) * allocation_df.loc[\"2020-01-02\"].sum()).plot(ax=ax);"
   ]
  },
  {
   "cell_type": "code",
   "execution_count": null,
   "metadata": {},
   "outputs": [],
   "source": []
  }
 ],
 "metadata": {
  "kernelspec": {
   "display_name": "Python 3.9.12 ('quant')",
   "language": "python",
   "name": "python3"
  },
  "language_info": {
   "codemirror_mode": {
    "name": "ipython",
    "version": 3
   },
   "file_extension": ".py",
   "mimetype": "text/x-python",
   "name": "python",
   "nbconvert_exporter": "python",
   "pygments_lexer": "ipython3",
   "version": "3.9.12"
  },
  "orig_nbformat": 4,
  "vscode": {
   "interpreter": {
    "hash": "3345f8c2c33d92ed3c20479cf426dbbf8de072372bdc070376468431585c887c"
   }
  }
 },
 "nbformat": 4,
 "nbformat_minor": 2
}
