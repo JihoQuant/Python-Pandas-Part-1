{
 "cells": [
  {
   "cell_type": "markdown",
   "metadata": {},
   "source": [
    "### Hello Jupyter\n",
    "\n",
    "VSCODE에서 Jupyter를 사용하려면 `jupyter` 라이브러리를 설치해주어야 한다.\n",
    "아마 `ipython` 또한 필요할 것으로 예상이 되는데,\n",
    "Jupyter 설치 전에 이미 설치해서 필요 여부는 파악하지 못했다.\n",
    "\n",
    "필요한 라이브러리 목록은 다음과 같다.\n",
    "\n",
    "```text\n",
    "ipython\n",
    "jupyter\n",
    "```\n",
    "\n",
    "위 두 라이브러리가 VSCODE에서 Jupyter Notebook을 사용할 수 있게 하고,\n",
    "VSCODE python 가상환경 설정이 선행되어야 한다."
   ]
  },
  {
   "cell_type": "code",
   "execution_count": 6,
   "metadata": {},
   "outputs": [
    {
     "name": "stdout",
     "output_type": "stream",
     "text": [
      "Hello Jupyter\n"
     ]
    }
   ],
   "source": [
    "print('Hello', 'Jupyter')"
   ]
  }
 ],
 "metadata": {
  "kernelspec": {
   "display_name": "Python 3.9.12 ('quant')",
   "language": "python",
   "name": "python3"
  },
  "language_info": {
   "codemirror_mode": {
    "name": "ipython",
    "version": 3
   },
   "file_extension": ".py",
   "mimetype": "text/x-python",
   "name": "python",
   "nbconvert_exporter": "python",
   "pygments_lexer": "ipython3",
   "version": "3.9.12"
  },
  "orig_nbformat": 4,
  "vscode": {
   "interpreter": {
    "hash": "3345f8c2c33d92ed3c20479cf426dbbf8de072372bdc070376468431585c887c"
   }
  }
 },
 "nbformat": 4,
 "nbformat_minor": 2
}
